{
 "cells": [
  {
   "cell_type": "code",
   "execution_count": 1,
   "metadata": {},
   "outputs": [],
   "source": [
    "%matplotlib inline "
   ]
  },
  {
   "cell_type": "markdown",
   "metadata": {},
   "source": [
    "# EDA\n",
    "***"
   ]
  },
  {
   "cell_type": "markdown",
   "metadata": {},
   "source": [
    "# TODOS:\n",
    "Validata before working on data that no NAN appear"
   ]
  },
  {
   "cell_type": "markdown",
   "metadata": {},
   "source": [
    "## Table of Contents\n",
    "***\n",
    "* [Aim](#aim)\n",
    "* [Code Setup](#code-setup)\n",
    "* [Data Import](#data-import)\n",
    "* [Task 1 - Number of Products by Department](#task1)\n",
    "* [Task 2 - How many Orders do Customers make?](#task2)\n",
    "* [Task 3 - Number of Times Reordered](#task3)\n",
    "* [Task 4 - Distrbution of Orders by Hour of Day](#task4)\n",
    "* [Task 5 - Distrbution of Top Selling Products](#task5)"
   ]
  },
  {
   "cell_type": "markdown",
   "metadata": {},
   "source": [
    "## Aim <a class=\"anchor\" id=\"aim\"></a>\n",
    "***\n",
    "\n",
    "The aim of this notebook is to do some Exploratory data analysis on the provisioned Instacart Data"
   ]
  },
  {
   "cell_type": "markdown",
   "metadata": {},
   "source": [
    "## Code Setup <a class=\"anchor\" id=\"code-setup\"></a>\n",
    "***"
   ]
  },
  {
   "cell_type": "markdown",
   "metadata": {},
   "source": [
    "### Constants"
   ]
  },
  {
   "cell_type": "code",
   "execution_count": 2,
   "metadata": {},
   "outputs": [],
   "source": [
    "instacart_dir = \"instacart_2017_05_01/\"\n",
    "my_orders_file = \"my_orders.csv\"\n",
    "products_file = \"products.csv\"\n",
    "aisles_file = \"aisles.csv\"\n",
    "departments_file = \"departments.csv\"\n",
    "orders_products_prior_file = \"my_order_products__prior.csv\"\n",
    "orders_products_train_file = \"my_order_products__train.csv\""
   ]
  },
  {
   "cell_type": "markdown",
   "metadata": {},
   "source": [
    "### Import Libraries"
   ]
  },
  {
   "cell_type": "code",
   "execution_count": 3,
   "metadata": {},
   "outputs": [],
   "source": [
    "import pandas as pd\n",
    "import sys\n",
    "import numpy as np\n",
    "import matplotlib.pyplot as plt\n",
    "plt.rcParams['figure.figsize'] = [12, 6]\n",
    "import seaborn as sns\n",
    "sns.set_style(\"darkgrid\")\n",
    "sns.set_context(\"paper\")"
   ]
  },
  {
   "cell_type": "markdown",
   "metadata": {},
   "source": [
    "### Useful Functions"
   ]
  },
  {
   "cell_type": "markdown",
   "metadata": {},
   "source": [
    "### Size Function"
   ]
  },
  {
   "cell_type": "code",
   "execution_count": 4,
   "metadata": {},
   "outputs": [],
   "source": [
    "def size(obj):\n",
    "    \"\"\"Return size of object in MB\"\"\"\n",
    "    return \"{0:.2f} MB\".format(sys.getsizeof(obj) / (1000 * 1000))"
   ]
  },
  {
   "cell_type": "markdown",
   "metadata": {},
   "source": [
    "### File Read"
   ]
  },
  {
   "cell_type": "code",
   "execution_count": 5,
   "metadata": {},
   "outputs": [],
   "source": [
    "def read_csv_file(file_name):\n",
    "    return pd.read_csv(instacart_dir + file_name)"
   ]
  },
  {
   "cell_type": "markdown",
   "metadata": {},
   "source": [
    "## Data Import <a class=\"anchor\" id=\"data-import\"></a>\n",
    "***"
   ]
  },
  {
   "cell_type": "markdown",
   "metadata": {},
   "source": [
    "### Orders Data"
   ]
  },
  {
   "cell_type": "code",
   "execution_count": 6,
   "metadata": {},
   "outputs": [
    {
     "name": "stdout",
     "output_type": "stream",
     "text": [
      "Orders, dimension:  (306, 8)    size:  0.04 MB\n"
     ]
    },
    {
     "data": {
      "text/html": [
       "<div>\n",
       "<style scoped>\n",
       "    .dataframe tbody tr th:only-of-type {\n",
       "        vertical-align: middle;\n",
       "    }\n",
       "\n",
       "    .dataframe tbody tr th {\n",
       "        vertical-align: top;\n",
       "    }\n",
       "\n",
       "    .dataframe thead th {\n",
       "        text-align: right;\n",
       "    }\n",
       "</style>\n",
       "<table border=\"1\" class=\"dataframe\">\n",
       "  <thead>\n",
       "    <tr style=\"text-align: right;\">\n",
       "      <th></th>\n",
       "      <th>Unnamed: 0</th>\n",
       "      <th>order_id</th>\n",
       "      <th>user_id</th>\n",
       "      <th>eval_set</th>\n",
       "      <th>order_number</th>\n",
       "      <th>order_dow</th>\n",
       "      <th>order_hour_of_day</th>\n",
       "      <th>days_since_prior_order</th>\n",
       "    </tr>\n",
       "  </thead>\n",
       "  <tbody>\n",
       "    <tr>\n",
       "      <th>0</th>\n",
       "      <td>12202</td>\n",
       "      <td>472199</td>\n",
       "      <td>765</td>\n",
       "      <td>prior</td>\n",
       "      <td>1</td>\n",
       "      <td>2</td>\n",
       "      <td>21</td>\n",
       "      <td>NaN</td>\n",
       "    </tr>\n",
       "    <tr>\n",
       "      <th>1</th>\n",
       "      <td>12203</td>\n",
       "      <td>1424394</td>\n",
       "      <td>765</td>\n",
       "      <td>prior</td>\n",
       "      <td>2</td>\n",
       "      <td>1</td>\n",
       "      <td>21</td>\n",
       "      <td>20.0</td>\n",
       "    </tr>\n",
       "    <tr>\n",
       "      <th>2</th>\n",
       "      <td>12204</td>\n",
       "      <td>889292</td>\n",
       "      <td>765</td>\n",
       "      <td>prior</td>\n",
       "      <td>3</td>\n",
       "      <td>6</td>\n",
       "      <td>21</td>\n",
       "      <td>30.0</td>\n",
       "    </tr>\n",
       "    <tr>\n",
       "      <th>3</th>\n",
       "      <td>12205</td>\n",
       "      <td>2809253</td>\n",
       "      <td>765</td>\n",
       "      <td>prior</td>\n",
       "      <td>4</td>\n",
       "      <td>3</td>\n",
       "      <td>20</td>\n",
       "      <td>30.0</td>\n",
       "    </tr>\n",
       "    <tr>\n",
       "      <th>4</th>\n",
       "      <td>12206</td>\n",
       "      <td>2392861</td>\n",
       "      <td>765</td>\n",
       "      <td>prior</td>\n",
       "      <td>5</td>\n",
       "      <td>1</td>\n",
       "      <td>12</td>\n",
       "      <td>19.0</td>\n",
       "    </tr>\n",
       "  </tbody>\n",
       "</table>\n",
       "</div>"
      ],
      "text/plain": [
       "   Unnamed: 0  order_id  user_id eval_set  order_number  order_dow  \\\n",
       "0       12202    472199      765    prior             1          2   \n",
       "1       12203   1424394      765    prior             2          1   \n",
       "2       12204    889292      765    prior             3          6   \n",
       "3       12205   2809253      765    prior             4          3   \n",
       "4       12206   2392861      765    prior             5          1   \n",
       "\n",
       "   order_hour_of_day  days_since_prior_order  \n",
       "0                 21                     NaN  \n",
       "1                 21                    20.0  \n",
       "2                 21                    30.0  \n",
       "3                 20                    30.0  \n",
       "4                 12                    19.0  "
      ]
     },
     "execution_count": 6,
     "metadata": {},
     "output_type": "execute_result"
    }
   ],
   "source": [
    "orders = read_csv_file(my_orders_file)\n",
    "print(\"Orders, dimension: \",orders.shape, \"   size: \", size(orders))\n",
    "orders.head()"
   ]
  },
  {
   "cell_type": "markdown",
   "metadata": {},
   "source": [
    "### Products Data"
   ]
  },
  {
   "cell_type": "code",
   "execution_count": 7,
   "metadata": {},
   "outputs": [
    {
     "name": "stdout",
     "output_type": "stream",
     "text": [
      "Products, dimension:  (49688, 4)    size:  5.57 MB\n"
     ]
    },
    {
     "data": {
      "text/html": [
       "<div>\n",
       "<style scoped>\n",
       "    .dataframe tbody tr th:only-of-type {\n",
       "        vertical-align: middle;\n",
       "    }\n",
       "\n",
       "    .dataframe tbody tr th {\n",
       "        vertical-align: top;\n",
       "    }\n",
       "\n",
       "    .dataframe thead th {\n",
       "        text-align: right;\n",
       "    }\n",
       "</style>\n",
       "<table border=\"1\" class=\"dataframe\">\n",
       "  <thead>\n",
       "    <tr style=\"text-align: right;\">\n",
       "      <th></th>\n",
       "      <th>product_id</th>\n",
       "      <th>product_name</th>\n",
       "      <th>aisle_id</th>\n",
       "      <th>department_id</th>\n",
       "    </tr>\n",
       "  </thead>\n",
       "  <tbody>\n",
       "    <tr>\n",
       "      <th>0</th>\n",
       "      <td>1</td>\n",
       "      <td>Chocolate Sandwich Cookies</td>\n",
       "      <td>61</td>\n",
       "      <td>19</td>\n",
       "    </tr>\n",
       "    <tr>\n",
       "      <th>1</th>\n",
       "      <td>2</td>\n",
       "      <td>All-Seasons Salt</td>\n",
       "      <td>104</td>\n",
       "      <td>13</td>\n",
       "    </tr>\n",
       "    <tr>\n",
       "      <th>2</th>\n",
       "      <td>3</td>\n",
       "      <td>Robust Golden Unsweetened Oolong Tea</td>\n",
       "      <td>94</td>\n",
       "      <td>7</td>\n",
       "    </tr>\n",
       "    <tr>\n",
       "      <th>3</th>\n",
       "      <td>4</td>\n",
       "      <td>Smart Ones Classic Favorites Mini Rigatoni Wit...</td>\n",
       "      <td>38</td>\n",
       "      <td>1</td>\n",
       "    </tr>\n",
       "    <tr>\n",
       "      <th>4</th>\n",
       "      <td>5</td>\n",
       "      <td>Green Chile Anytime Sauce</td>\n",
       "      <td>5</td>\n",
       "      <td>13</td>\n",
       "    </tr>\n",
       "  </tbody>\n",
       "</table>\n",
       "</div>"
      ],
      "text/plain": [
       "   product_id                                       product_name  aisle_id  \\\n",
       "0           1                         Chocolate Sandwich Cookies        61   \n",
       "1           2                                   All-Seasons Salt       104   \n",
       "2           3               Robust Golden Unsweetened Oolong Tea        94   \n",
       "3           4  Smart Ones Classic Favorites Mini Rigatoni Wit...        38   \n",
       "4           5                          Green Chile Anytime Sauce         5   \n",
       "\n",
       "   department_id  \n",
       "0             19  \n",
       "1             13  \n",
       "2              7  \n",
       "3              1  \n",
       "4             13  "
      ]
     },
     "execution_count": 7,
     "metadata": {},
     "output_type": "execute_result"
    }
   ],
   "source": [
    "products = read_csv_file(products_file)\n",
    "print(\"Products, dimension: \",products.shape, \"   size: \", size(products))\n",
    "products.head()"
   ]
  },
  {
   "cell_type": "markdown",
   "metadata": {},
   "source": [
    "### Departments Data"
   ]
  },
  {
   "cell_type": "code",
   "execution_count": 8,
   "metadata": {},
   "outputs": [
    {
     "name": "stdout",
     "output_type": "stream",
     "text": [
      "Departments, dimension:  (21, 2)    size:  0.00 MB\n"
     ]
    },
    {
     "data": {
      "text/html": [
       "<div>\n",
       "<style scoped>\n",
       "    .dataframe tbody tr th:only-of-type {\n",
       "        vertical-align: middle;\n",
       "    }\n",
       "\n",
       "    .dataframe tbody tr th {\n",
       "        vertical-align: top;\n",
       "    }\n",
       "\n",
       "    .dataframe thead th {\n",
       "        text-align: right;\n",
       "    }\n",
       "</style>\n",
       "<table border=\"1\" class=\"dataframe\">\n",
       "  <thead>\n",
       "    <tr style=\"text-align: right;\">\n",
       "      <th></th>\n",
       "      <th>department_id</th>\n",
       "      <th>department</th>\n",
       "    </tr>\n",
       "  </thead>\n",
       "  <tbody>\n",
       "    <tr>\n",
       "      <th>0</th>\n",
       "      <td>1</td>\n",
       "      <td>frozen</td>\n",
       "    </tr>\n",
       "    <tr>\n",
       "      <th>1</th>\n",
       "      <td>2</td>\n",
       "      <td>other</td>\n",
       "    </tr>\n",
       "    <tr>\n",
       "      <th>2</th>\n",
       "      <td>3</td>\n",
       "      <td>bakery</td>\n",
       "    </tr>\n",
       "    <tr>\n",
       "      <th>3</th>\n",
       "      <td>4</td>\n",
       "      <td>produce</td>\n",
       "    </tr>\n",
       "    <tr>\n",
       "      <th>4</th>\n",
       "      <td>5</td>\n",
       "      <td>alcohol</td>\n",
       "    </tr>\n",
       "  </tbody>\n",
       "</table>\n",
       "</div>"
      ],
      "text/plain": [
       "   department_id department\n",
       "0              1     frozen\n",
       "1              2      other\n",
       "2              3     bakery\n",
       "3              4    produce\n",
       "4              5    alcohol"
      ]
     },
     "execution_count": 8,
     "metadata": {},
     "output_type": "execute_result"
    }
   ],
   "source": [
    "departments = read_csv_file(departments_file)\n",
    "print(\"Departments, dimension: \",departments.shape, \"   size: \", size(departments))\n",
    "departments.head()"
   ]
  },
  {
   "cell_type": "markdown",
   "metadata": {},
   "source": [
    "### Aisles Data"
   ]
  },
  {
   "cell_type": "code",
   "execution_count": 9,
   "metadata": {},
   "outputs": [
    {
     "name": "stdout",
     "output_type": "stream",
     "text": [
      "Aisles, dimension:  (134, 2)    size:  0.01 MB\n"
     ]
    },
    {
     "data": {
      "text/html": [
       "<div>\n",
       "<style scoped>\n",
       "    .dataframe tbody tr th:only-of-type {\n",
       "        vertical-align: middle;\n",
       "    }\n",
       "\n",
       "    .dataframe tbody tr th {\n",
       "        vertical-align: top;\n",
       "    }\n",
       "\n",
       "    .dataframe thead th {\n",
       "        text-align: right;\n",
       "    }\n",
       "</style>\n",
       "<table border=\"1\" class=\"dataframe\">\n",
       "  <thead>\n",
       "    <tr style=\"text-align: right;\">\n",
       "      <th></th>\n",
       "      <th>aisle_id</th>\n",
       "      <th>aisle</th>\n",
       "    </tr>\n",
       "  </thead>\n",
       "  <tbody>\n",
       "    <tr>\n",
       "      <th>0</th>\n",
       "      <td>1</td>\n",
       "      <td>prepared soups salads</td>\n",
       "    </tr>\n",
       "    <tr>\n",
       "      <th>1</th>\n",
       "      <td>2</td>\n",
       "      <td>specialty cheeses</td>\n",
       "    </tr>\n",
       "    <tr>\n",
       "      <th>2</th>\n",
       "      <td>3</td>\n",
       "      <td>energy granola bars</td>\n",
       "    </tr>\n",
       "    <tr>\n",
       "      <th>3</th>\n",
       "      <td>4</td>\n",
       "      <td>instant foods</td>\n",
       "    </tr>\n",
       "    <tr>\n",
       "      <th>4</th>\n",
       "      <td>5</td>\n",
       "      <td>marinades meat preparation</td>\n",
       "    </tr>\n",
       "  </tbody>\n",
       "</table>\n",
       "</div>"
      ],
      "text/plain": [
       "   aisle_id                       aisle\n",
       "0         1       prepared soups salads\n",
       "1         2           specialty cheeses\n",
       "2         3         energy granola bars\n",
       "3         4               instant foods\n",
       "4         5  marinades meat preparation"
      ]
     },
     "execution_count": 9,
     "metadata": {},
     "output_type": "execute_result"
    }
   ],
   "source": [
    "aisles = read_csv_file(aisles_file)\n",
    "print(\"Aisles, dimension: \",aisles.shape, \"   size: \", size(aisles))\n",
    "aisles.head()"
   ]
  },
  {
   "cell_type": "markdown",
   "metadata": {},
   "source": [
    "### Order Products Data"
   ]
  },
  {
   "cell_type": "code",
   "execution_count": 10,
   "metadata": {},
   "outputs": [
    {
     "name": "stdout",
     "output_type": "stream",
     "text": [
      "Order Products, dimension:  (2683, 5)    size:  0.13 MB\n"
     ]
    },
    {
     "data": {
      "text/html": [
       "<div>\n",
       "<style scoped>\n",
       "    .dataframe tbody tr th:only-of-type {\n",
       "        vertical-align: middle;\n",
       "    }\n",
       "\n",
       "    .dataframe tbody tr th {\n",
       "        vertical-align: top;\n",
       "    }\n",
       "\n",
       "    .dataframe thead th {\n",
       "        text-align: right;\n",
       "    }\n",
       "</style>\n",
       "<table border=\"1\" class=\"dataframe\">\n",
       "  <thead>\n",
       "    <tr style=\"text-align: right;\">\n",
       "      <th></th>\n",
       "      <th>Unnamed: 0</th>\n",
       "      <th>order_id</th>\n",
       "      <th>product_id</th>\n",
       "      <th>add_to_cart_order</th>\n",
       "      <th>reordered</th>\n",
       "    </tr>\n",
       "  </thead>\n",
       "  <tbody>\n",
       "    <tr>\n",
       "      <th>0</th>\n",
       "      <td>147221</td>\n",
       "      <td>15511</td>\n",
       "      <td>429</td>\n",
       "      <td>1</td>\n",
       "      <td>0</td>\n",
       "    </tr>\n",
       "    <tr>\n",
       "      <th>1</th>\n",
       "      <td>147222</td>\n",
       "      <td>15511</td>\n",
       "      <td>46397</td>\n",
       "      <td>2</td>\n",
       "      <td>0</td>\n",
       "    </tr>\n",
       "    <tr>\n",
       "      <th>2</th>\n",
       "      <td>147223</td>\n",
       "      <td>15511</td>\n",
       "      <td>27323</td>\n",
       "      <td>3</td>\n",
       "      <td>0</td>\n",
       "    </tr>\n",
       "    <tr>\n",
       "      <th>3</th>\n",
       "      <td>147224</td>\n",
       "      <td>15511</td>\n",
       "      <td>28842</td>\n",
       "      <td>4</td>\n",
       "      <td>1</td>\n",
       "    </tr>\n",
       "    <tr>\n",
       "      <th>4</th>\n",
       "      <td>147225</td>\n",
       "      <td>15511</td>\n",
       "      <td>4605</td>\n",
       "      <td>5</td>\n",
       "      <td>0</td>\n",
       "    </tr>\n",
       "  </tbody>\n",
       "</table>\n",
       "</div>"
      ],
      "text/plain": [
       "   Unnamed: 0  order_id  product_id  add_to_cart_order  reordered\n",
       "0      147221     15511         429                  1          0\n",
       "1      147222     15511       46397                  2          0\n",
       "2      147223     15511       27323                  3          0\n",
       "3      147224     15511       28842                  4          1\n",
       "4      147225     15511        4605                  5          0"
      ]
     },
     "execution_count": 10,
     "metadata": {},
     "output_type": "execute_result"
    }
   ],
   "source": [
    "orders_products_prior = read_csv_file(orders_products_prior_file)\n",
    "orders_products_train = read_csv_file(orders_products_train_file)\n",
    "orders_products = pd.concat([orders_products_prior, orders_products_train])\n",
    "print(\"Order Products, dimension: \",orders_products.shape, \"   size: \", size(orders_products))\n",
    "orders_products.head()"
   ]
  },
  {
   "cell_type": "markdown",
   "metadata": {},
   "source": [
    "## Task 1 - Number of Products by Department <a class=\"anchor\" id=\"task1\"></a>\n",
    "***"
   ]
  },
  {
   "cell_type": "markdown",
   "metadata": {},
   "source": [
    "### Dataframe of Products by Departments"
   ]
  },
  {
   "cell_type": "code",
   "execution_count": 11,
   "metadata": {},
   "outputs": [
    {
     "data": {
      "text/html": [
       "<div>\n",
       "<style scoped>\n",
       "    .dataframe tbody tr th:only-of-type {\n",
       "        vertical-align: middle;\n",
       "    }\n",
       "\n",
       "    .dataframe tbody tr th {\n",
       "        vertical-align: top;\n",
       "    }\n",
       "\n",
       "    .dataframe thead th {\n",
       "        text-align: right;\n",
       "    }\n",
       "</style>\n",
       "<table border=\"1\" class=\"dataframe\">\n",
       "  <thead>\n",
       "    <tr style=\"text-align: right;\">\n",
       "      <th></th>\n",
       "      <th>department_id</th>\n",
       "      <th>product_count</th>\n",
       "      <th>department</th>\n",
       "    </tr>\n",
       "  </thead>\n",
       "  <tbody>\n",
       "    <tr>\n",
       "      <th>0</th>\n",
       "      <td>11</td>\n",
       "      <td>6563</td>\n",
       "      <td>personal care</td>\n",
       "    </tr>\n",
       "    <tr>\n",
       "      <th>1</th>\n",
       "      <td>19</td>\n",
       "      <td>6264</td>\n",
       "      <td>snacks</td>\n",
       "    </tr>\n",
       "    <tr>\n",
       "      <th>2</th>\n",
       "      <td>13</td>\n",
       "      <td>5371</td>\n",
       "      <td>pantry</td>\n",
       "    </tr>\n",
       "    <tr>\n",
       "      <th>3</th>\n",
       "      <td>7</td>\n",
       "      <td>4365</td>\n",
       "      <td>beverages</td>\n",
       "    </tr>\n",
       "    <tr>\n",
       "      <th>4</th>\n",
       "      <td>1</td>\n",
       "      <td>4007</td>\n",
       "      <td>frozen</td>\n",
       "    </tr>\n",
       "    <tr>\n",
       "      <th>5</th>\n",
       "      <td>16</td>\n",
       "      <td>3449</td>\n",
       "      <td>dairy eggs</td>\n",
       "    </tr>\n",
       "    <tr>\n",
       "      <th>6</th>\n",
       "      <td>17</td>\n",
       "      <td>3085</td>\n",
       "      <td>household</td>\n",
       "    </tr>\n",
       "    <tr>\n",
       "      <th>7</th>\n",
       "      <td>15</td>\n",
       "      <td>2092</td>\n",
       "      <td>canned goods</td>\n",
       "    </tr>\n",
       "    <tr>\n",
       "      <th>8</th>\n",
       "      <td>9</td>\n",
       "      <td>1858</td>\n",
       "      <td>dry goods pasta</td>\n",
       "    </tr>\n",
       "    <tr>\n",
       "      <th>9</th>\n",
       "      <td>4</td>\n",
       "      <td>1684</td>\n",
       "      <td>produce</td>\n",
       "    </tr>\n",
       "    <tr>\n",
       "      <th>10</th>\n",
       "      <td>3</td>\n",
       "      <td>1516</td>\n",
       "      <td>bakery</td>\n",
       "    </tr>\n",
       "    <tr>\n",
       "      <th>11</th>\n",
       "      <td>20</td>\n",
       "      <td>1322</td>\n",
       "      <td>deli</td>\n",
       "    </tr>\n",
       "    <tr>\n",
       "      <th>12</th>\n",
       "      <td>21</td>\n",
       "      <td>1258</td>\n",
       "      <td>missing</td>\n",
       "    </tr>\n",
       "    <tr>\n",
       "      <th>13</th>\n",
       "      <td>6</td>\n",
       "      <td>1139</td>\n",
       "      <td>international</td>\n",
       "    </tr>\n",
       "    <tr>\n",
       "      <th>14</th>\n",
       "      <td>14</td>\n",
       "      <td>1115</td>\n",
       "      <td>breakfast</td>\n",
       "    </tr>\n",
       "    <tr>\n",
       "      <th>15</th>\n",
       "      <td>18</td>\n",
       "      <td>1081</td>\n",
       "      <td>babies</td>\n",
       "    </tr>\n",
       "    <tr>\n",
       "      <th>16</th>\n",
       "      <td>5</td>\n",
       "      <td>1054</td>\n",
       "      <td>alcohol</td>\n",
       "    </tr>\n",
       "    <tr>\n",
       "      <th>17</th>\n",
       "      <td>8</td>\n",
       "      <td>972</td>\n",
       "      <td>pets</td>\n",
       "    </tr>\n",
       "    <tr>\n",
       "      <th>18</th>\n",
       "      <td>12</td>\n",
       "      <td>907</td>\n",
       "      <td>meat seafood</td>\n",
       "    </tr>\n",
       "    <tr>\n",
       "      <th>19</th>\n",
       "      <td>2</td>\n",
       "      <td>548</td>\n",
       "      <td>other</td>\n",
       "    </tr>\n",
       "    <tr>\n",
       "      <th>20</th>\n",
       "      <td>10</td>\n",
       "      <td>38</td>\n",
       "      <td>bulk</td>\n",
       "    </tr>\n",
       "  </tbody>\n",
       "</table>\n",
       "</div>"
      ],
      "text/plain": [
       "    department_id  product_count       department\n",
       "0              11           6563    personal care\n",
       "1              19           6264           snacks\n",
       "2              13           5371           pantry\n",
       "3               7           4365        beverages\n",
       "4               1           4007           frozen\n",
       "5              16           3449       dairy eggs\n",
       "6              17           3085        household\n",
       "7              15           2092     canned goods\n",
       "8               9           1858  dry goods pasta\n",
       "9               4           1684          produce\n",
       "10              3           1516           bakery\n",
       "11             20           1322             deli\n",
       "12             21           1258          missing\n",
       "13              6           1139    international\n",
       "14             14           1115        breakfast\n",
       "15             18           1081           babies\n",
       "16              5           1054          alcohol\n",
       "17              8            972             pets\n",
       "18             12            907     meat seafood\n",
       "19              2            548            other\n",
       "20             10             38             bulk"
      ]
     },
     "execution_count": 11,
     "metadata": {},
     "output_type": "execute_result"
    }
   ],
   "source": [
    "# Create the count of products for department_id\n",
    "product_department_count = (products[[\"department_id\", \"product_id\"]]\n",
    "                            .groupby([\"department_id\",])\n",
    "                            .size()\n",
    "                            .reset_index(name='product_count')\n",
    "                            .sort_values(by=['product_count'], ascending=False))\n",
    "# Join in the Department to the above Dataframe so the Deparment name is available\n",
    "product_department_count_info = product_department_count.merge(departments, on=\"department_id\")\n",
    "product_department_count_info.head(product_department_count_info.shape[0])\n"
   ]
  },
  {
   "cell_type": "markdown",
   "metadata": {},
   "source": [
    "### Bar Chart or Product Count by Department"
   ]
  },
  {
   "cell_type": "code",
   "execution_count": 12,
   "metadata": {},
   "outputs": [
    {
     "data": {
      "image/png": "[encoded data removed]",
      "text/plain": [
       "<matplotlib.figure.Figure at 0x1a165778d0>"
      ]
     },
     "metadata": {},
     "output_type": "display_data"
    }
   ],
   "source": [
    "fig, ax = plt.subplots()\n",
    "product_department_count_info['product_count'].plot.bar()\n",
    "ax.set_xticklabels(product_department_count_info.department, rotation='vertical')\n",
    "plt.title(\"Number of Products per Department\")\n",
    "plt.ylabel(\"Number of Products\")\n",
    "plt.xlabel(\"Department\")\n",
    "plt.show()"
   ]
  },
  {
   "cell_type": "markdown",
   "metadata": {},
   "source": [
    "## Task 2 - How Many Orders do Customers Make <a class=\"anchor\" id=\"task1\"></a>\n",
    "***"
   ]
  },
  {
   "cell_type": "markdown",
   "metadata": {},
   "source": [
    "#### Dataframe of Order Counts per Customer"
   ]
  },
  {
   "cell_type": "code",
   "execution_count": 13,
   "metadata": {},
   "outputs": [
    {
     "name": "stdout",
     "output_type": "stream",
     "text": [
      "Total Order Count :  306 . Total Number of Customers :  20\n"
     ]
    },
    {
     "data": {
      "text/html": [
       "<div>\n",
       "<style scoped>\n",
       "    .dataframe tbody tr th:only-of-type {\n",
       "        vertical-align: middle;\n",
       "    }\n",
       "\n",
       "    .dataframe tbody tr th {\n",
       "        vertical-align: top;\n",
       "    }\n",
       "\n",
       "    .dataframe thead th {\n",
       "        text-align: right;\n",
       "    }\n",
       "</style>\n",
       "<table border=\"1\" class=\"dataframe\">\n",
       "  <thead>\n",
       "    <tr style=\"text-align: right;\">\n",
       "      <th></th>\n",
       "      <th>user_id</th>\n",
       "      <th>order_count</th>\n",
       "    </tr>\n",
       "  </thead>\n",
       "  <tbody>\n",
       "    <tr>\n",
       "      <th>4</th>\n",
       "      <td>47562</td>\n",
       "      <td>89</td>\n",
       "    </tr>\n",
       "    <tr>\n",
       "      <th>15</th>\n",
       "      <td>124199</td>\n",
       "      <td>46</td>\n",
       "    </tr>\n",
       "    <tr>\n",
       "      <th>7</th>\n",
       "      <td>70894</td>\n",
       "      <td>38</td>\n",
       "    </tr>\n",
       "    <tr>\n",
       "      <th>16</th>\n",
       "      <td>149715</td>\n",
       "      <td>28</td>\n",
       "    </tr>\n",
       "    <tr>\n",
       "      <th>9</th>\n",
       "      <td>83908</td>\n",
       "      <td>11</td>\n",
       "    </tr>\n",
       "  </tbody>\n",
       "</table>\n",
       "</div>"
      ],
      "text/plain": [
       "    user_id  order_count\n",
       "4     47562           89\n",
       "15   124199           46\n",
       "7     70894           38\n",
       "16   149715           28\n",
       "9     83908           11"
      ]
     },
     "execution_count": 13,
     "metadata": {},
     "output_type": "execute_result"
    }
   ],
   "source": [
    "# Only take into account if the user id and order_id are present\n",
    "filtered_orders = orders[[\"user_id\", \"order_id\"]]\n",
    "filtered_order = filtered_orders.dropna(thresh=1)\n",
    "# Get count based on filtered orders\n",
    "user_order_count = (filtered_orders\n",
    "                    .groupby([\"user_id\",])\n",
    "                    .size()\n",
    "                    .reset_index(name='order_count')\n",
    "                    .sort_values(by=['order_count'], ascending=False))\n",
    "total_order_count = user_order_count[\"order_count\"].sum()\n",
    "print(\"Total Order Count : \", total_order_count, \". Total Number of Customers : \", user_order_count.shape[0])\n",
    "# As list is sorted descending, head can be used to see top 5 customers\n",
    "user_order_count.head()"
   ]
  },
  {
   "cell_type": "markdown",
   "metadata": {},
   "source": [
    "### Pie Chart of Order Counts per Customer\n",
    "This may not be the best plot for showing all the users however it is clear to see that a large percentage or orders are made by a relatively small amount of users"
   ]
  },
  {
   "cell_type": "code",
   "execution_count": 14,
   "metadata": {},
   "outputs": [
    {
     "data": {
      "image/png": "[encoded data removed]",
      "text/plain": [
       "<matplotlib.figure.Figure at 0x110240710>"
      ]
     },
     "metadata": {},
     "output_type": "display_data"
    }
   ],
   "source": [
    "# Plot\n",
    "plt.pie(user_order_count[\"order_count\"], labels=user_order_count[\"user_id\"],\n",
    "        autopct='%1.1f%%', shadow=True, startangle=140)\n",
    "plt.axis('equal')\n",
    "plt.show()"
   ]
  },
  {
   "cell_type": "markdown",
   "metadata": {},
   "source": [
    "### Bar Chart of Order Counts per Customer"
   ]
  },
  {
   "cell_type": "code",
   "execution_count": 15,
   "metadata": {},
   "outputs": [
    {
     "data": {
      "image/png": "[encoded data removed]",
      "text/plain": [
       "<matplotlib.figure.Figure at 0x1a153cb0f0>"
      ]
     },
     "metadata": {},
     "output_type": "display_data"
    }
   ],
   "source": [
    "fig, ax = plt.subplots()\n",
    "user_order_count['order_count'].plot.bar()\n",
    "ax.set_xticklabels(user_order_count[\"user_id\"], rotation='vertical')\n",
    "plt.title(\"Number of Orders Per User\")\n",
    "plt.ylabel(\"Number of Orders\")\n",
    "plt.xlabel(\"User\")\n",
    "plt.show()"
   ]
  },
  {
   "cell_type": "markdown",
   "metadata": {},
   "source": [
    "## Task 3 - Numer of Times Product Reordered <a class=\"anchor\" id=\"task1\"></a>\n",
    "***\n",
    "for this we should also do some graphs on products never reordered as well as products reordered by a specific user"
   ]
  },
  {
   "cell_type": "markdown",
   "metadata": {},
   "source": [
    "### Products that have been Reordered"
   ]
  },
  {
   "cell_type": "code",
   "execution_count": 16,
   "metadata": {},
   "outputs": [
    {
     "name": "stdout",
     "output_type": "stream",
     "text": [
      "Products with Reorders, dimension:  (379, 5)    size:  0.05 MB\n"
     ]
    },
    {
     "data": {
      "text/html": [
       "<div>\n",
       "<style scoped>\n",
       "    .dataframe tbody tr th:only-of-type {\n",
       "        vertical-align: middle;\n",
       "    }\n",
       "\n",
       "    .dataframe tbody tr th {\n",
       "        vertical-align: top;\n",
       "    }\n",
       "\n",
       "    .dataframe thead th {\n",
       "        text-align: right;\n",
       "    }\n",
       "</style>\n",
       "<table border=\"1\" class=\"dataframe\">\n",
       "  <thead>\n",
       "    <tr style=\"text-align: right;\">\n",
       "      <th></th>\n",
       "      <th>product_id</th>\n",
       "      <th>reordered</th>\n",
       "      <th>product_name</th>\n",
       "      <th>aisle_id</th>\n",
       "      <th>department_id</th>\n",
       "    </tr>\n",
       "  </thead>\n",
       "  <tbody>\n",
       "    <tr>\n",
       "      <th>0</th>\n",
       "      <td>40174</td>\n",
       "      <td>66</td>\n",
       "      <td>2% Reduced Fat Organic Milk</td>\n",
       "      <td>84</td>\n",
       "      <td>16</td>\n",
       "    </tr>\n",
       "    <tr>\n",
       "      <th>1</th>\n",
       "      <td>4942</td>\n",
       "      <td>51</td>\n",
       "      <td>Vanilla Almond Breeze</td>\n",
       "      <td>91</td>\n",
       "      <td>16</td>\n",
       "    </tr>\n",
       "    <tr>\n",
       "      <th>2</th>\n",
       "      <td>9387</td>\n",
       "      <td>39</td>\n",
       "      <td>Granny Smith Apples</td>\n",
       "      <td>24</td>\n",
       "      <td>4</td>\n",
       "    </tr>\n",
       "    <tr>\n",
       "      <th>3</th>\n",
       "      <td>24852</td>\n",
       "      <td>31</td>\n",
       "      <td>Banana</td>\n",
       "      <td>24</td>\n",
       "      <td>4</td>\n",
       "    </tr>\n",
       "    <tr>\n",
       "      <th>4</th>\n",
       "      <td>22124</td>\n",
       "      <td>29</td>\n",
       "      <td>Total 0% Raspberry Yogurt</td>\n",
       "      <td>120</td>\n",
       "      <td>16</td>\n",
       "    </tr>\n",
       "  </tbody>\n",
       "</table>\n",
       "</div>"
      ],
      "text/plain": [
       "   product_id  reordered                 product_name  aisle_id  department_id\n",
       "0       40174         66  2% Reduced Fat Organic Milk        84             16\n",
       "1        4942         51        Vanilla Almond Breeze        91             16\n",
       "2        9387         39          Granny Smith Apples        24              4\n",
       "3       24852         31                       Banana        24              4\n",
       "4       22124         29    Total 0% Raspberry Yogurt       120             16"
      ]
     },
     "execution_count": 16,
     "metadata": {},
     "output_type": "execute_result"
    }
   ],
   "source": [
    "filtered_orders_products = orders_products.dropna(thresh=1)\n",
    "product_reorder_count = (filtered_orders_products\n",
    "                        .groupby(\"product_id\")[\"reordered\"]\n",
    "                        .sum()\n",
    "                        .to_frame()\n",
    "                        .reset_index(\"product_id\")\n",
    "                        .sort_values(by=[\"reordered\"], ascending=False)\n",
    "                        )\n",
    "product_reorder_count_info = product_reorder_count.merge(products, on=\"product_id\")\n",
    "# Get a data frame of all products that were reordered\n",
    "products_with_reorders =product_reorder_count_info[product_reorder_count_info[\"reordered\"] > 0]\n",
    "print(\"Products with Reorders, dimension: \",products_with_reorders.shape, \"   size: \", size(products_with_reorders))\n",
    "products_with_reorders.head()"
   ]
  },
  {
   "cell_type": "markdown",
   "metadata": {},
   "source": [
    "### Products that have been Reordered Bar Chart"
   ]
  },
  {
   "cell_type": "code",
   "execution_count": 17,
   "metadata": {},
   "outputs": [
    {
     "data": {
      "image/png": "[encoded data removed]",
      "text/plain": [
       "<matplotlib.figure.Figure at 0x1a15c74390>"
      ]
     },
     "metadata": {},
     "output_type": "display_data"
    }
   ],
   "source": [
    "fig, ax = plt.subplots()\n",
    "top_number_of_products = 10\n",
    "products_with_reorders['reordered'].head(top_number_of_products).plot.bar()\n",
    "ax.set_xticklabels(products_with_reorders[\"product_name\"].head(top_number_of_products), rotation='vertical')\n",
    "plt.title(\"Number of Reorders for Product\")\n",
    "plt.ylabel(\"Number of Reorders of Product\")\n",
    "plt.xlabel(\"Product Name\")\n",
    "plt.show()"
   ]
  },
  {
   "cell_type": "markdown",
   "metadata": {},
   "source": [
    "### Products Reordered by User Dataframe"
   ]
  },
  {
   "cell_type": "code",
   "execution_count": 18,
   "metadata": {},
   "outputs": [
    {
     "data": {
      "text/html": [
       "<div>\n",
       "<style scoped>\n",
       "    .dataframe tbody tr th:only-of-type {\n",
       "        vertical-align: middle;\n",
       "    }\n",
       "\n",
       "    .dataframe tbody tr th {\n",
       "        vertical-align: top;\n",
       "    }\n",
       "\n",
       "    .dataframe thead th {\n",
       "        text-align: right;\n",
       "    }\n",
       "</style>\n",
       "<table border=\"1\" class=\"dataframe\">\n",
       "  <thead>\n",
       "    <tr style=\"text-align: right;\">\n",
       "      <th></th>\n",
       "      <th>Unnamed: 0_x</th>\n",
       "      <th>order_id</th>\n",
       "      <th>product_id</th>\n",
       "      <th>add_to_cart_order</th>\n",
       "      <th>reordered</th>\n",
       "      <th>Unnamed: 0_y</th>\n",
       "      <th>user_id</th>\n",
       "      <th>eval_set</th>\n",
       "      <th>order_number</th>\n",
       "      <th>order_dow</th>\n",
       "      <th>order_hour_of_day</th>\n",
       "      <th>days_since_prior_order</th>\n",
       "    </tr>\n",
       "  </thead>\n",
       "  <tbody>\n",
       "    <tr>\n",
       "      <th>3</th>\n",
       "      <td>147224</td>\n",
       "      <td>15511</td>\n",
       "      <td>28842</td>\n",
       "      <td>4</td>\n",
       "      <td>1</td>\n",
       "      <td>2487349</td>\n",
       "      <td>149715</td>\n",
       "      <td>prior</td>\n",
       "      <td>13</td>\n",
       "      <td>0</td>\n",
       "      <td>12</td>\n",
       "      <td>6.0</td>\n",
       "    </tr>\n",
       "    <tr>\n",
       "      <th>7</th>\n",
       "      <td>147228</td>\n",
       "      <td>15511</td>\n",
       "      <td>4565</td>\n",
       "      <td>8</td>\n",
       "      <td>1</td>\n",
       "      <td>2487349</td>\n",
       "      <td>149715</td>\n",
       "      <td>prior</td>\n",
       "      <td>13</td>\n",
       "      <td>0</td>\n",
       "      <td>12</td>\n",
       "      <td>6.0</td>\n",
       "    </tr>\n",
       "    <tr>\n",
       "      <th>11</th>\n",
       "      <td>147232</td>\n",
       "      <td>15511</td>\n",
       "      <td>9741</td>\n",
       "      <td>12</td>\n",
       "      <td>1</td>\n",
       "      <td>2487349</td>\n",
       "      <td>149715</td>\n",
       "      <td>prior</td>\n",
       "      <td>13</td>\n",
       "      <td>0</td>\n",
       "      <td>12</td>\n",
       "      <td>6.0</td>\n",
       "    </tr>\n",
       "    <tr>\n",
       "      <th>27</th>\n",
       "      <td>257077</td>\n",
       "      <td>27068</td>\n",
       "      <td>24184</td>\n",
       "      <td>1</td>\n",
       "      <td>1</td>\n",
       "      <td>1179394</td>\n",
       "      <td>70894</td>\n",
       "      <td>prior</td>\n",
       "      <td>5</td>\n",
       "      <td>0</td>\n",
       "      <td>17</td>\n",
       "      <td>6.0</td>\n",
       "    </tr>\n",
       "    <tr>\n",
       "      <th>31</th>\n",
       "      <td>257081</td>\n",
       "      <td>27068</td>\n",
       "      <td>4605</td>\n",
       "      <td>5</td>\n",
       "      <td>1</td>\n",
       "      <td>1179394</td>\n",
       "      <td>70894</td>\n",
       "      <td>prior</td>\n",
       "      <td>5</td>\n",
       "      <td>0</td>\n",
       "      <td>17</td>\n",
       "      <td>6.0</td>\n",
       "    </tr>\n",
       "  </tbody>\n",
       "</table>\n",
       "</div>"
      ],
      "text/plain": [
       "    Unnamed: 0_x  order_id  product_id  add_to_cart_order  reordered  \\\n",
       "3         147224     15511       28842                  4          1   \n",
       "7         147228     15511        4565                  8          1   \n",
       "11        147232     15511        9741                 12          1   \n",
       "27        257077     27068       24184                  1          1   \n",
       "31        257081     27068        4605                  5          1   \n",
       "\n",
       "    Unnamed: 0_y  user_id eval_set  order_number  order_dow  \\\n",
       "3        2487349   149715    prior            13          0   \n",
       "7        2487349   149715    prior            13          0   \n",
       "11       2487349   149715    prior            13          0   \n",
       "27       1179394    70894    prior             5          0   \n",
       "31       1179394    70894    prior             5          0   \n",
       "\n",
       "    order_hour_of_day  days_since_prior_order  \n",
       "3                  12                     6.0  \n",
       "7                  12                     6.0  \n",
       "11                 12                     6.0  \n",
       "27                 17                     6.0  \n",
       "31                 17                     6.0  "
      ]
     },
     "execution_count": 18,
     "metadata": {},
     "output_type": "execute_result"
    }
   ],
   "source": [
    "orders_products_with_user_info = filtered_orders_products.merge(orders, on=\"order_id\")\n",
    "reordered_products_with_user_info = orders_products_with_user_info[orders_products_with_user_info[\"reordered\"] > 0]\n",
    "reordered_products_with_user_info.head()"
   ]
  },
  {
   "cell_type": "code",
   "execution_count": 19,
   "metadata": {},
   "outputs": [
    {
     "name": "stdout",
     "output_type": "stream",
     "text": [
      "This dataframe shows what each user reordered\n"
     ]
    },
    {
     "data": {
      "text/html": [
       "<div>\n",
       "<style scoped>\n",
       "    .dataframe tbody tr th:only-of-type {\n",
       "        vertical-align: middle;\n",
       "    }\n",
       "\n",
       "    .dataframe tbody tr th {\n",
       "        vertical-align: top;\n",
       "    }\n",
       "\n",
       "    .dataframe thead th {\n",
       "        text-align: right;\n",
       "    }\n",
       "</style>\n",
       "<table border=\"1\" class=\"dataframe\">\n",
       "  <thead>\n",
       "    <tr style=\"text-align: right;\">\n",
       "      <th></th>\n",
       "      <th>product_id</th>\n",
       "      <th>user_id</th>\n",
       "      <th>reordered</th>\n",
       "      <th>product_name</th>\n",
       "      <th>aisle_id</th>\n",
       "      <th>department_id</th>\n",
       "    </tr>\n",
       "  </thead>\n",
       "  <tbody>\n",
       "    <tr>\n",
       "      <th>141</th>\n",
       "      <td>40174</td>\n",
       "      <td>47562</td>\n",
       "      <td>66</td>\n",
       "      <td>2% Reduced Fat Organic Milk</td>\n",
       "      <td>84</td>\n",
       "      <td>16</td>\n",
       "    </tr>\n",
       "    <tr>\n",
       "      <th>72</th>\n",
       "      <td>4942</td>\n",
       "      <td>47562</td>\n",
       "      <td>51</td>\n",
       "      <td>Vanilla Almond Breeze</td>\n",
       "      <td>91</td>\n",
       "      <td>16</td>\n",
       "    </tr>\n",
       "    <tr>\n",
       "      <th>77</th>\n",
       "      <td>9387</td>\n",
       "      <td>47562</td>\n",
       "      <td>38</td>\n",
       "      <td>Granny Smith Apples</td>\n",
       "      <td>24</td>\n",
       "      <td>4</td>\n",
       "    </tr>\n",
       "    <tr>\n",
       "      <th>102</th>\n",
       "      <td>22124</td>\n",
       "      <td>47562</td>\n",
       "      <td>29</td>\n",
       "      <td>Total 0% Raspberry Yogurt</td>\n",
       "      <td>120</td>\n",
       "      <td>16</td>\n",
       "    </tr>\n",
       "    <tr>\n",
       "      <th>320</th>\n",
       "      <td>10070</td>\n",
       "      <td>124199</td>\n",
       "      <td>24</td>\n",
       "      <td>Organic 1% Low Fat Milk</td>\n",
       "      <td>84</td>\n",
       "      <td>16</td>\n",
       "    </tr>\n",
       "  </tbody>\n",
       "</table>\n",
       "</div>"
      ],
      "text/plain": [
       "     product_id  user_id  reordered                 product_name  aisle_id  \\\n",
       "141       40174    47562         66  2% Reduced Fat Organic Milk        84   \n",
       "72         4942    47562         51        Vanilla Almond Breeze        91   \n",
       "77         9387    47562         38          Granny Smith Apples        24   \n",
       "102       22124    47562         29    Total 0% Raspberry Yogurt       120   \n",
       "320       10070   124199         24      Organic 1% Low Fat Milk        84   \n",
       "\n",
       "     department_id  \n",
       "141             16  \n",
       "72              16  \n",
       "77               4  \n",
       "102             16  \n",
       "320             16  "
      ]
     },
     "execution_count": 19,
     "metadata": {},
     "output_type": "execute_result"
    }
   ],
   "source": [
    "reordered_product_count_per_user = (reordered_products_with_user_info.groupby([\"user_id\", \"product_id\"])[\"reordered\"]\n",
    "                                    .sum()\n",
    "                                    .to_frame()\n",
    "                                    .reset_index(\"user_id\")\n",
    "                                    .reset_index(\"product_id\")\n",
    "                                    .merge(products, on=\"product_id\")\n",
    "                                    .sort_values(by=[\"reordered\"], ascending=False)\n",
    "                                   )\n",
    "print(\"This dataframe shows what each user reordered\")\n",
    "reordered_product_count_per_user.head()"
   ]
  },
  {
   "cell_type": "markdown",
   "metadata": {},
   "source": [
    "As can be see above the user with id 47562 reorders the most which makes sense as this user is responsbile for 29.1% of the overall orders"
   ]
  },
  {
   "cell_type": "markdown",
   "metadata": {},
   "source": [
    "### Products that have never been Reordered"
   ]
  },
  {
   "cell_type": "code",
   "execution_count": 20,
   "metadata": {},
   "outputs": [
    {
     "name": "stdout",
     "output_type": "stream",
     "text": [
      "There are  583  products that have never been reordered\n"
     ]
    },
    {
     "data": {
      "text/html": [
       "<div>\n",
       "<style scoped>\n",
       "    .dataframe tbody tr th:only-of-type {\n",
       "        vertical-align: middle;\n",
       "    }\n",
       "\n",
       "    .dataframe tbody tr th {\n",
       "        vertical-align: top;\n",
       "    }\n",
       "\n",
       "    .dataframe thead th {\n",
       "        text-align: right;\n",
       "    }\n",
       "</style>\n",
       "<table border=\"1\" class=\"dataframe\">\n",
       "  <thead>\n",
       "    <tr style=\"text-align: right;\">\n",
       "      <th></th>\n",
       "      <th>product_id</th>\n",
       "      <th>reordered</th>\n",
       "      <th>product_name</th>\n",
       "      <th>aisle_id</th>\n",
       "      <th>department_id</th>\n",
       "    </tr>\n",
       "  </thead>\n",
       "  <tbody>\n",
       "    <tr>\n",
       "      <th>379</th>\n",
       "      <td>39275</td>\n",
       "      <td>0</td>\n",
       "      <td>Organic Blueberries</td>\n",
       "      <td>123</td>\n",
       "      <td>4</td>\n",
       "    </tr>\n",
       "    <tr>\n",
       "      <th>380</th>\n",
       "      <td>38991</td>\n",
       "      <td>0</td>\n",
       "      <td>Banana Nut Chia Bar</td>\n",
       "      <td>3</td>\n",
       "      <td>19</td>\n",
       "    </tr>\n",
       "    <tr>\n",
       "      <th>381</th>\n",
       "      <td>39097</td>\n",
       "      <td>0</td>\n",
       "      <td>Gluten Free White Sandwich Bread</td>\n",
       "      <td>112</td>\n",
       "      <td>3</td>\n",
       "    </tr>\n",
       "    <tr>\n",
       "      <th>382</th>\n",
       "      <td>39301</td>\n",
       "      <td>0</td>\n",
       "      <td>Extra Firm Tofu</td>\n",
       "      <td>14</td>\n",
       "      <td>20</td>\n",
       "    </tr>\n",
       "    <tr>\n",
       "      <th>383</th>\n",
       "      <td>39046</td>\n",
       "      <td>0</td>\n",
       "      <td>Smok Cured Turkey Bacon</td>\n",
       "      <td>106</td>\n",
       "      <td>12</td>\n",
       "    </tr>\n",
       "  </tbody>\n",
       "</table>\n",
       "</div>"
      ],
      "text/plain": [
       "     product_id  reordered                      product_name  aisle_id  \\\n",
       "379       39275          0               Organic Blueberries       123   \n",
       "380       38991          0               Banana Nut Chia Bar         3   \n",
       "381       39097          0  Gluten Free White Sandwich Bread       112   \n",
       "382       39301          0                   Extra Firm Tofu        14   \n",
       "383       39046          0           Smok Cured Turkey Bacon       106   \n",
       "\n",
       "     department_id  \n",
       "379              4  \n",
       "380             19  \n",
       "381              3  \n",
       "382             20  \n",
       "383             12  "
      ]
     },
     "execution_count": 20,
     "metadata": {},
     "output_type": "execute_result"
    }
   ],
   "source": [
    "# Get a data frame of all products that were never reordered\n",
    "products_without_reorders =product_reorder_count_info[product_reorder_count_info[\"reordered\"] <= 0]\n",
    "print(\"There are \",products_without_reorders.shape[0], \" products that have never been reordered\")\n",
    "products_without_reorders.head()"
   ]
  },
  {
   "cell_type": "markdown",
   "metadata": {},
   "source": [
    "## Task 4 - Distrbution of Orders by Hour of Day <a class=\"anchor\" id=\"task4\"></a>\n",
    "***"
   ]
  },
  {
   "cell_type": "markdown",
   "metadata": {},
   "source": [
    "### Orders by Hour and Day Dataframe"
   ]
  },
  {
   "cell_type": "code",
   "execution_count": 21,
   "metadata": {},
   "outputs": [
    {
     "data": {
      "text/html": [
       "<div>\n",
       "<style scoped>\n",
       "    .dataframe tbody tr th:only-of-type {\n",
       "        vertical-align: middle;\n",
       "    }\n",
       "\n",
       "    .dataframe tbody tr th {\n",
       "        vertical-align: top;\n",
       "    }\n",
       "\n",
       "    .dataframe thead th {\n",
       "        text-align: right;\n",
       "    }\n",
       "</style>\n",
       "<table border=\"1\" class=\"dataframe\">\n",
       "  <thead>\n",
       "    <tr style=\"text-align: right;\">\n",
       "      <th></th>\n",
       "      <th>order_dow</th>\n",
       "      <th>order_hour_of_day</th>\n",
       "      <th>count</th>\n",
       "    </tr>\n",
       "  </thead>\n",
       "  <tbody>\n",
       "    <tr>\n",
       "      <th>0</th>\n",
       "      <td>0</td>\n",
       "      <td>0</td>\n",
       "      <td>1</td>\n",
       "    </tr>\n",
       "    <tr>\n",
       "      <th>1</th>\n",
       "      <td>0</td>\n",
       "      <td>9</td>\n",
       "      <td>1</td>\n",
       "    </tr>\n",
       "    <tr>\n",
       "      <th>2</th>\n",
       "      <td>0</td>\n",
       "      <td>10</td>\n",
       "      <td>2</td>\n",
       "    </tr>\n",
       "    <tr>\n",
       "      <th>3</th>\n",
       "      <td>0</td>\n",
       "      <td>11</td>\n",
       "      <td>3</td>\n",
       "    </tr>\n",
       "    <tr>\n",
       "      <th>4</th>\n",
       "      <td>0</td>\n",
       "      <td>12</td>\n",
       "      <td>5</td>\n",
       "    </tr>\n",
       "  </tbody>\n",
       "</table>\n",
       "</div>"
      ],
      "text/plain": [
       "   order_dow  order_hour_of_day  count\n",
       "0          0                  0      1\n",
       "1          0                  9      1\n",
       "2          0                 10      2\n",
       "3          0                 11      3\n",
       "4          0                 12      5"
      ]
     },
     "execution_count": 21,
     "metadata": {},
     "output_type": "execute_result"
    }
   ],
   "source": [
    "orders_day_and_hours = (orders[[\"order_dow\", \"order_hour_of_day\"]]\n",
    "                        .sort_values(by=[\"order_dow\", \"order_hour_of_day\"])\n",
    "                        .dropna(thresh=1)\n",
    "                       )\n",
    "orders_day_and_hours_count = (orders_day_and_hours.groupby([\"order_dow\", \"order_hour_of_day\"])\n",
    "                              .size()\n",
    "                              .reset_index(name='count'))\n",
    "dows = orders_day_and_hours_count[\"order_dow\"].unique().tolist()\n",
    "# Assuming 0 is Sunday and 6 is Saturday\n",
    "monday = orders_day_and_hours_count.loc[orders_day_and_hours_count[\"order_dow\"]==dows[1]]\n",
    "tuesday = orders_day_and_hours_count.loc[orders_day_and_hours_count[\"order_dow\"]==dows[2]]\n",
    "wednesday = orders_day_and_hours_count.loc[orders_day_and_hours_count[\"order_dow\"]==dows[3]]\n",
    "thursday = orders_day_and_hours_count.loc[orders_day_and_hours_count[\"order_dow\"]==dows[4]]\n",
    "friday = orders_day_and_hours_count.loc[orders_day_and_hours_count[\"order_dow\"]==dows[5]]\n",
    "saturday = orders_day_and_hours_count.loc[orders_day_and_hours_count[\"order_dow\"]==dows[6]]\n",
    "sunday = orders_day_and_hours_count.loc[orders_day_and_hours_count[\"order_dow\"]==dows[0]]\n",
    "\n",
    "orders_day_and_hours_count.head()"
   ]
  },
  {
   "cell_type": "markdown",
   "metadata": {},
   "source": [
    "### Orders by Hour and Day Graphs"
   ]
  },
  {
   "cell_type": "code",
   "execution_count": 22,
   "metadata": {},
   "outputs": [
    {
     "data": {
      "image/png": "[encoded data removed]",
      "text/plain": [
       "<matplotlib.figure.Figure at 0x1a1f7f1780>"
      ]
     },
     "metadata": {},
     "output_type": "display_data"
    }
   ],
   "source": [
    "max_count = orders_day_and_hours_count[[\"count\"]].max().values[0] +1\n",
    "min_count = orders_day_and_hours_count[[\"count\"]].min().values[0] -1\n",
    "\n",
    "min_hour = orders_day_and_hours_count[[\"order_hour_of_day\"]].min().values[0] -1\n",
    "max_hour = orders_day_and_hours_count[[\"order_hour_of_day\"]].max().values[0] +1\n",
    "\n",
    "fig = plt.figure()\n",
    "fig.set_figheight(20)\n",
    "plt.subplots_adjust(hspace=0.4)\n",
    "\n",
    "plt.subplot(7,1,1)\n",
    "plt.plot(monday[\"order_hour_of_day\"], monday[\"count\"], \"-o\")\n",
    "plt.title(\"Number of orders per Hour Monday\")\n",
    "plt.xlabel(\"Hour of Day\")\n",
    "plt.ylabel(\"Number of Orders\")\n",
    "ax = plt.gca()\n",
    "ax.set_ylim([min_count,max_count])\n",
    "ax.set_xlim([min_hour,max_hour])\n",
    "\n",
    "\n",
    "plt.subplot(7,1,2)\n",
    "plt.plot(tuesday[\"order_hour_of_day\"], tuesday[\"count\"], \"-o\")\n",
    "plt.title(\"Number of orders per Hour Tuesday\")\n",
    "plt.xlabel(\"Hour of Day\")\n",
    "plt.ylabel(\"Number of Orders\")\n",
    "ax = plt.gca()\n",
    "ax.set_ylim([min_count,max_count])\n",
    "ax.set_xlim([min_hour,max_hour])\n",
    "\n",
    "plt.subplot(7,1,3)\n",
    "plt.plot(wednesday[\"order_hour_of_day\"], wednesday[\"count\"], \"-o\")\n",
    "plt.title(\"Number of orders per Hour Wednesday\")\n",
    "plt.xlabel(\"Hour of Day\")\n",
    "plt.ylabel(\"Number of Orders\")\n",
    "ax = plt.gca()\n",
    "ax.set_ylim([min_count,max_count])\n",
    "ax.set_xlim([min_hour,max_hour])\n",
    "\n",
    "plt.subplot(7,1,4)\n",
    "plt.plot(thursday[\"order_hour_of_day\"], thursday[\"count\"], \"-o\")\n",
    "plt.title(\"Number of orders per Hour Thursday\")\n",
    "plt.xlabel(\"Hour of Day\")\n",
    "plt.ylabel(\"Number of Orders\")\n",
    "ax = plt.gca()\n",
    "ax.set_ylim([min_count,max_count])\n",
    "ax.set_xlim([min_hour,max_hour])\n",
    "\n",
    "plt.subplot(7,1,5)\n",
    "plt.plot(friday[\"order_hour_of_day\"], friday[\"count\"], \"-o\")\n",
    "plt.title(\"Number of orders per Hour Friday\")\n",
    "plt.xlabel(\"Hour of Day\")\n",
    "plt.ylabel(\"Number of Orders\")\n",
    "ax = plt.gca()\n",
    "ax.set_ylim([min_count,max_count])\n",
    "ax.set_xlim([min_hour,max_hour])\n",
    "\n",
    "plt.subplot(7,1,6)\n",
    "plt.plot(saturday[\"order_hour_of_day\"], saturday[\"count\"], \"-o\")\n",
    "plt.title(\"Number of orders per Hour Saturday\")\n",
    "plt.xlabel(\"Hour of Day\")\n",
    "plt.ylabel(\"Number of Orders\")\n",
    "ax = plt.gca()\n",
    "ax.set_ylim([min_count,max_count])\n",
    "ax.set_xlim([min_hour,max_hour])\n",
    "\n",
    "plt.subplot(7,1,7)\n",
    "plt.plot(sunday[\"order_hour_of_day\"], sunday[\"count\"], \"-o\")\n",
    "plt.title(\"Number of orders per Hour Sunday\")\n",
    "plt.xlabel(\"Hour of Day\")\n",
    "plt.ylabel(\"Number of Orders\")\n",
    "ax = plt.gca()\n",
    "ax.set_ylim([min_count,max_count])\n",
    "ax.set_xlim([min_hour,max_hour])\n",
    "\n",
    "plt.show()"
   ]
  },
  {
   "cell_type": "markdown",
   "metadata": {},
   "source": [
    "### Orders by Hour"
   ]
  },
  {
   "cell_type": "code",
   "execution_count": 23,
   "metadata": {},
   "outputs": [
    {
     "data": {
      "text/plain": [
       "Text(0,0.5,'Number of Orders')"
      ]
     },
     "execution_count": 23,
     "metadata": {},
     "output_type": "execute_result"
    },
    {
     "data": {
      "image/png": "[encoded data removed]",
      "text/plain": [
       "<matplotlib.figure.Figure at 0x1a1f2614a8>"
      ]
     },
     "metadata": {},
     "output_type": "display_data"
    }
   ],
   "source": [
    "# This groups all the hours together - may not be as useful as the day by day hour breakdown\n",
    "orders_hours_count = (orders_day_and_hours.groupby([\"order_hour_of_day\"])\n",
    "                              .size()\n",
    "                              .reset_index(name='count'))\n",
    "fig = plt.figure()\n",
    "plt.plot(orders_hours_count[\"order_hour_of_day\"], orders_hours_count[\"count\"], \"-o\")\n",
    "plt.title(\"Number of orders per Hour\")\n",
    "plt.xlabel(\"Hour of Day\")\n",
    "plt.ylabel(\"Number of Orders\")"
   ]
  },
  {
   "cell_type": "markdown",
   "metadata": {},
   "source": [
    "As can be seen the hour of day that has the most orders is 8. If we look at the graphs for Monday through to Friday this also holds true. Saturday at hour 8 is one of the highest order points by ties with a few other hours that day. Sunday is the only occurance where hour 8 is not the most ordered hour, with hour 17 being the most ordered hour on Sunday."
   ]
  },
  {
   "cell_type": "markdown",
   "metadata": {},
   "source": [
    "## Task 5 - Distrbution of Top Selling Products <a class=\"anchor\" id=\"task5\"></a>\n",
    "***"
   ]
  },
  {
   "cell_type": "markdown",
   "metadata": {},
   "source": [
    "### Dataframe of Products ordered by Amount Sold Descending"
   ]
  },
  {
   "cell_type": "code",
   "execution_count": 25,
   "metadata": {},
   "outputs": [
    {
     "data": {
      "text/html": [
       "<div>\n",
       "<style scoped>\n",
       "    .dataframe tbody tr th:only-of-type {\n",
       "        vertical-align: middle;\n",
       "    }\n",
       "\n",
       "    .dataframe tbody tr th {\n",
       "        vertical-align: top;\n",
       "    }\n",
       "\n",
       "    .dataframe thead th {\n",
       "        text-align: right;\n",
       "    }\n",
       "</style>\n",
       "<table border=\"1\" class=\"dataframe\">\n",
       "  <thead>\n",
       "    <tr style=\"text-align: right;\">\n",
       "      <th></th>\n",
       "      <th>product_id</th>\n",
       "      <th>count</th>\n",
       "      <th>product_name</th>\n",
       "      <th>aisle_id</th>\n",
       "      <th>department_id</th>\n",
       "    </tr>\n",
       "  </thead>\n",
       "  <tbody>\n",
       "    <tr>\n",
       "      <th>0</th>\n",
       "      <td>40174</td>\n",
       "      <td>67</td>\n",
       "      <td>2% Reduced Fat Organic Milk</td>\n",
       "      <td>84</td>\n",
       "      <td>16</td>\n",
       "    </tr>\n",
       "    <tr>\n",
       "      <th>1</th>\n",
       "      <td>4942</td>\n",
       "      <td>53</td>\n",
       "      <td>Vanilla Almond Breeze</td>\n",
       "      <td>91</td>\n",
       "      <td>16</td>\n",
       "    </tr>\n",
       "    <tr>\n",
       "      <th>2</th>\n",
       "      <td>9387</td>\n",
       "      <td>42</td>\n",
       "      <td>Granny Smith Apples</td>\n",
       "      <td>24</td>\n",
       "      <td>4</td>\n",
       "    </tr>\n",
       "    <tr>\n",
       "      <th>3</th>\n",
       "      <td>24852</td>\n",
       "      <td>39</td>\n",
       "      <td>Banana</td>\n",
       "      <td>24</td>\n",
       "      <td>4</td>\n",
       "    </tr>\n",
       "    <tr>\n",
       "      <th>4</th>\n",
       "      <td>22124</td>\n",
       "      <td>30</td>\n",
       "      <td>Total 0% Raspberry Yogurt</td>\n",
       "      <td>120</td>\n",
       "      <td>16</td>\n",
       "    </tr>\n",
       "  </tbody>\n",
       "</table>\n",
       "</div>"
      ],
      "text/plain": [
       "   product_id  count                 product_name  aisle_id  department_id\n",
       "0       40174     67  2% Reduced Fat Organic Milk        84             16\n",
       "1        4942     53        Vanilla Almond Breeze        91             16\n",
       "2        9387     42          Granny Smith Apples        24              4\n",
       "3       24852     39                       Banana        24              4\n",
       "4       22124     30    Total 0% Raspberry Yogurt       120             16"
      ]
     },
     "execution_count": 25,
     "metadata": {},
     "output_type": "execute_result"
    }
   ],
   "source": [
    "all_ordered_products = (orders_products[['product_id']]\n",
    "                        .dropna(thresh=1)\n",
    "                       )\n",
    "ordered_products_count = (all_ordered_products\n",
    "                          .groupby([\"product_id\"])\n",
    "                          .size()\n",
    "                          .reset_index(name='count')\n",
    "                          .sort_values(by=['count'], ascending=False)\n",
    "                          .merge(products, on=\"product_id\")\n",
    "                         )\n",
    "ordered_products_count.head()"
   ]
  },
  {
   "cell_type": "markdown",
   "metadata": {},
   "source": [
    "### Bar Chart of Top Selling Products"
   ]
  },
  {
   "cell_type": "code",
   "execution_count": 27,
   "metadata": {},
   "outputs": [
    {
     "data": {
      "image/png": "[encoded data removed]",
      "text/plain": [
       "<matplotlib.figure.Figure at 0x113d8aba8>"
      ]
     },
     "metadata": {},
     "output_type": "display_data"
    }
   ],
   "source": [
    "fig, ax = plt.subplots()\n",
    "number_of_top = 10\n",
    "ordered_products_count['count'].head(number_of_top).plot.bar()\n",
    "ax.set_xticklabels(ordered_products_count[\"product_name\"].head(number_of_top), rotation='vertical')\n",
    "plt.title(\"Top \" + str(number_of_top) + \" Selling Products\")\n",
    "plt.ylabel(\"Number of Orders\")\n",
    "plt.xlabel(\"Product Name\")\n",
    "plt.show()"
   ]
  },
  {
   "cell_type": "code",
   "execution_count": null,
   "metadata": {},
   "outputs": [],
   "source": []
  }
 ],
 "metadata": {
  "kernelspec": {
   "display_name": "Python 3",
   "language": "python",
   "name": "python3"
  },
  "language_info": {
   "codemirror_mode": {
    "name": "ipython",
    "version": 3
   },
   "file_extension": ".py",
   "mimetype": "text/x-python",
   "name": "python",
   "nbconvert_exporter": "python",
   "pygments_lexer": "ipython3",
   "version": "3.6.4"
  }
 },
 "nbformat": 4,
 "nbformat_minor": 2
}

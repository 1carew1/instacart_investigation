{
 "cells": [
  {
   "cell_type": "code",
   "execution_count": 1,
   "metadata": {},
   "outputs": [],
   "source": [
    "%matplotlib inline "
   ]
  },
  {
   "cell_type": "markdown",
   "metadata": {},
   "source": [
    "# Regression\n",
    "***"
   ]
  },
  {
   "cell_type": "markdown",
   "metadata": {},
   "source": [
    "## Table of Contents\n",
    "***\n",
    "* [Aim](#aim)\n",
    "* [Code Setup](#code-setup)\n",
    "* [Data Import](#data-import)"
   ]
  },
  {
   "cell_type": "markdown",
   "metadata": {},
   "source": [
    "## Aim <a class=\"anchor\" id=\"aim\"></a>\n",
    "***\n",
    "\n",
    "The aim of this notebook is to perform Regression on the Instacart Data"
   ]
  },
  {
   "cell_type": "markdown",
   "metadata": {},
   "source": [
    "## Code Setup <a class=\"anchor\" id=\"code-setup\"></a>\n",
    "***"
   ]
  },
  {
   "cell_type": "markdown",
   "metadata": {},
   "source": [
    "### Constants"
   ]
  },
  {
   "cell_type": "code",
   "execution_count": 2,
   "metadata": {},
   "outputs": [],
   "source": [
    "instacart_dir = \"instacart_2017_05_01/\"\n",
    "my_orders_file = \"my_orders.csv\"\n",
    "products_file = \"products.csv\"\n",
    "aisles_file = \"aisles.csv\"\n",
    "departments_file = \"departments.csv\"\n",
    "orders_products_prior_file = \"my_order_products__prior.csv\"\n",
    "orders_products_train_file = \"my_order_products__train.csv\""
   ]
  },
  {
   "cell_type": "markdown",
   "metadata": {},
   "source": [
    "### Import Libraries"
   ]
  },
  {
   "cell_type": "code",
   "execution_count": 3,
   "metadata": {},
   "outputs": [],
   "source": [
    "import pandas as pd\n",
    "import sys\n",
    "import numpy as np\n",
    "import matplotlib.pyplot as plt\n",
    "plt.rcParams['figure.figsize'] = [12, 6]\n",
    "import seaborn as sns\n",
    "sns.set_style(\"darkgrid\")\n",
    "sns.set_context(\"paper\")\n",
    "from sklearn.model_selection import train_test_split\n",
    "from sklearn import linear_model"
   ]
  },
  {
   "cell_type": "code",
   "execution_count": 4,
   "metadata": {},
   "outputs": [],
   "source": [
    "def read_csv_file(file_name):\n",
    "    return pd.read_csv(instacart_dir + file_name)"
   ]
  },
  {
   "cell_type": "markdown",
   "metadata": {},
   "source": [
    "### Import the Data"
   ]
  },
  {
   "cell_type": "code",
   "execution_count": 5,
   "metadata": {},
   "outputs": [],
   "source": [
    "orders = read_csv_file(my_orders_file)\n",
    "products = read_csv_file(products_file)\n",
    "aisles = read_csv_file(aisles_file)\n",
    "orders_products_prior = read_csv_file(orders_products_prior_file)\n",
    "orders_products_train = read_csv_file(orders_products_train_file)\n",
    "orders_products = pd.concat([orders_products_prior, orders_products_train])"
   ]
  },
  {
   "cell_type": "code",
   "execution_count": 6,
   "metadata": {},
   "outputs": [],
   "source": [
    "def join_products(train, test):\n",
    "    train_orders_prod = train.merge(orders_products, on=\"order_id\")\n",
    "    train_orders_prod = train_orders_prod.merge(products, on=\"product_id\")\n",
    "\n",
    "    test_orders_prod = test.merge(orders_products, on=\"order_id\")\n",
    "    test_orders_prod = test_orders_prod.merge(products, on=\"product_id\")\n",
    "    \n",
    "    return (train_orders_prod, test_orders_prod)"
   ]
  },
  {
   "cell_type": "code",
   "execution_count": 7,
   "metadata": {},
   "outputs": [],
   "source": [
    "def add_days_to_next_order(order_df):\n",
    "    orders = order_df.copy()\n",
    "    orders[\"days_to_next_order\"] = np.nan\n",
    "    for index, cur_order in orders.iterrows():\n",
    "        next_order_number = cur_order.order_number + 1\n",
    "        user_id = cur_order.user_id\n",
    "        next_order_df = orders.query(\"user_id == \" + str(user_id) + \" and  order_number == \" + str(next_order_number))\n",
    "        if(next_order_df.shape[0] == 1):\n",
    "            next_order = next_order_df.iloc[0]\n",
    "            days_to_next_order = next_order.days_since_prior_order\n",
    "            if(np.isfinite(days_to_next_order)):\n",
    "                orders.loc[index, 'days_to_next_order'] = days_to_next_order\n",
    "    return orders"
   ]
  },
  {
   "cell_type": "code",
   "execution_count": 8,
   "metadata": {},
   "outputs": [],
   "source": [
    "def key_columns(next_one):\n",
    "    list = [\"order_id\", \"days_to_next_order\", next_one]\n",
    "    return list"
   ]
  },
  {
   "cell_type": "code",
   "execution_count": 9,
   "metadata": {},
   "outputs": [],
   "source": [
    "def split_data_to_features_and_value(df_train, df_test):\n",
    "    # Target\n",
    "    y_train = df_aisle_group_train['days_to_next_order'].copy()\n",
    "    X_train = df_aisle_group_train.copy() \n",
    "    # Feature\n",
    "    X_train.drop(['days_to_next_order'], axis=1, inplace=True)\n",
    "\n",
    "    # Testing\n",
    "    y_test = df_aisle_group_test['days_to_next_order'].copy()\n",
    "    X_test = df_aisle_group_test.copy() \n",
    "    # Feature\n",
    "    X_test.drop(['days_to_next_order'], axis=1, inplace=True)\n",
    "    return (X_train, y_train, X_test, y_test)"
   ]
  },
  {
   "cell_type": "code",
   "execution_count": 10,
   "metadata": {},
   "outputs": [],
   "source": [
    "def add_each_aisle_to_df(df):\n",
    "    df_aisles = df.copy().merge(aisles, on=\"aisle_id\")\n",
    "    for index, row in aisles.iterrows():\n",
    "        aisle_name = row.aisle\n",
    "        df_aisles[aisle_name] = 0\n",
    "    return df_aisles"
   ]
  },
  {
   "cell_type": "code",
   "execution_count": 11,
   "metadata": {},
   "outputs": [],
   "source": [
    "def group_by_order_in_df(df_ordered, item_name, cols_to_drop):\n",
    "    # Create new df with only the column names\n",
    "    df = df_ordered.copy()\n",
    "    df.drop(df.index, inplace=True)\n",
    "    order_ids = df_ordered.order_id.unique().tolist()\n",
    "    for order_id in order_ids:\n",
    "        temp_df = df_ordered.query(\"order_id == \" + str(order_id))\n",
    "        # Need a copy as not to modify something we are iterarting over\n",
    "        first_row = temp_df.copy().head(1)\n",
    "        for i, temp_row in temp_df.iterrows():\n",
    "            temp_name = temp_row[item_name]\n",
    "            # If the feature is present, set it to 1\n",
    "            first_row[temp_name] = 1\n",
    "        # Add the aggregated entry\n",
    "        df = pd.concat([df, first_row])\n",
    "    df = df.drop(cols_to_drop, axis=1)\n",
    "    return df    "
   ]
  },
  {
   "cell_type": "code",
   "execution_count": 12,
   "metadata": {},
   "outputs": [],
   "source": [
    "def find_best_feature(X, y, X_test, y_test):\n",
    "    n_features = X.shape[1]\n",
    "    # Not zero as some negative scores can happen\n",
    "    max_score = -100000\n",
    "    max_feature = None\n",
    "    for i in range(n_features):\n",
    "        feature = X.columns[i]\n",
    "        X_subset = X[[feature]]\n",
    "        X_test_subset = X_test[[feature]]\n",
    "        model = linear_model.LinearRegression()\n",
    "        model.fit(X_subset, y)\n",
    "        # R squared metric\n",
    "        score = model.score(X_test_subset, y_test)\n",
    "        if score > max_score:\n",
    "            max_score = score\n",
    "            max_feature = feature\n",
    "    if max_feature is None :\n",
    "        print(\"Issue, max feature not found, size\", n_features)\n",
    "        print(X.columns.values)\n",
    "    return (max_score, max_feature)"
   ]
  },
  {
   "cell_type": "code",
   "execution_count": 13,
   "metadata": {},
   "outputs": [],
   "source": [
    "def order_best_features_and_score(X_train, y_train, X_test, y_test):\n",
    "    n_features = X_train.shape[1]\n",
    "    model_scores = [0]\n",
    "    best_features = []\n",
    "    best_score = -10000\n",
    "    X_selection = X_train.copy()\n",
    "    X_test_selection = X_test.copy()\n",
    "    X_subsets = pd.DataFrame(index=X_train.index)\n",
    "    X_test_subsets = pd.DataFrame(index=X_test.index)\n",
    "\n",
    "    for i in range(n_features):\n",
    "        max_score, next_best_feature = find_best_feature(X_selection, y_train, X_test_selection, y_test)\n",
    "\n",
    "        X_subset = X_selection[[next_best_feature]]\n",
    "        X_test_subset = X_test_selection[[next_best_feature]]\n",
    "    \n",
    "        X_subsets[next_best_feature] = X_subset\n",
    "        X_test_subsets[next_best_feature] = X_test_subset\n",
    "        \n",
    "        model = linear_model.LinearRegression()\n",
    "        model.fit(X_subsets, y_train)\n",
    "        score = model.score(X_test_subsets, y_test)\n",
    "        model_scores.append(score)\n",
    "        \n",
    "        score_increase_threshold = 0.01\n",
    "        if score > (best_score + score_increase_threshold):\n",
    "            best_score = score\n",
    "            best_features = X_subsets.columns.values\n",
    "\n",
    "        X_selection.drop([next_best_feature], axis=1, inplace=True)\n",
    "        X_test_selection.drop([next_best_feature], axis=1, inplace=True)\n",
    "    return (best_features, best_score, model_scores)"
   ]
  },
  {
   "cell_type": "markdown",
   "metadata": {},
   "source": [
    "### Import Data"
   ]
  },
  {
   "cell_type": "markdown",
   "metadata": {},
   "source": [
    "#### Test and training split for all users"
   ]
  },
  {
   "cell_type": "code",
   "execution_count": 14,
   "metadata": {},
   "outputs": [
    {
     "name": "stdout",
     "output_type": "stream",
     "text": [
      "Training size is : 228\n",
      "Testing size is : 58\n"
     ]
    }
   ],
   "source": [
    "test_percentage = 0.2\n",
    "orders = add_days_to_next_order(orders)\n",
    "# Can use this to estimate what would be ordered\n",
    "orders_with_no_next_order = orders[orders['days_to_next_order'].isnull()]\n",
    "# Can split this into train and test\n",
    "orders_with_next_order = orders[~orders['days_to_next_order'].isnull()]\n",
    "train_orders, test_orders = train_test_split(orders_with_next_order, test_size=test_percentage)\n",
    "print(\"Training size is :\", train_orders.shape[0])\n",
    "print(\"Testing size is :\", test_orders.shape[0])"
   ]
  },
  {
   "cell_type": "markdown",
   "metadata": {},
   "source": [
    "#### Test and training split for specific user"
   ]
  },
  {
   "cell_type": "code",
   "execution_count": 15,
   "metadata": {},
   "outputs": [
    {
     "name": "stdout",
     "output_type": "stream",
     "text": [
      "User id for single investigation : 47562\n",
      "Training size for single user is : 70\n",
      "Testing size for single user is is : 18\n"
     ]
    }
   ],
   "source": [
    "count_orders = (orders\n",
    "                .groupby(\"user_id\")\n",
    "                .size()\n",
    "                .reset_index(name=\"count\")\n",
    "                .sort_values(by=['count'], ascending=False)\n",
    "               )\n",
    "# Get the most frequent user as this will have the most data associated with it\n",
    "most_frequeny_user_id =  count_orders.iloc[0].user_id\n",
    "single_user_orders = orders.query(\"user_id == \" + str(most_frequeny_user_id))\n",
    "single_user_orders = add_days_to_next_order(single_user_orders)\n",
    "user_orders_with_next_order = single_user_orders[~single_user_orders['days_to_next_order'].isnull()]\n",
    "user_train_orders, user_test_orders = train_test_split(user_orders_with_next_order, test_size=test_percentage)\n",
    "print(\"User id for single investigation :\", most_frequeny_user_id)\n",
    "print(\"Training size for single user is :\", user_train_orders.shape[0])\n",
    "print(\"Testing size for single user is is :\", user_test_orders.shape[0])"
   ]
  },
  {
   "cell_type": "markdown",
   "metadata": {},
   "source": [
    "## Aisle Rollup\n",
    "***"
   ]
  },
  {
   "cell_type": "markdown",
   "metadata": {},
   "source": [
    "### Merge Product and Aisle to the data"
   ]
  },
  {
   "cell_type": "code",
   "execution_count": 16,
   "metadata": {},
   "outputs": [
    {
     "data": {
      "text/html": [
       "<div>\n",
       "<style scoped>\n",
       "    .dataframe tbody tr th:only-of-type {\n",
       "        vertical-align: middle;\n",
       "    }\n",
       "\n",
       "    .dataframe tbody tr th {\n",
       "        vertical-align: top;\n",
       "    }\n",
       "\n",
       "    .dataframe thead th {\n",
       "        text-align: right;\n",
       "    }\n",
       "</style>\n",
       "<table border=\"1\" class=\"dataframe\">\n",
       "  <thead>\n",
       "    <tr style=\"text-align: right;\">\n",
       "      <th></th>\n",
       "      <th>Unnamed: 0_x</th>\n",
       "      <th>order_id</th>\n",
       "      <th>user_id</th>\n",
       "      <th>eval_set</th>\n",
       "      <th>order_number</th>\n",
       "      <th>order_dow</th>\n",
       "      <th>order_hour_of_day</th>\n",
       "      <th>days_since_prior_order</th>\n",
       "      <th>days_to_next_order</th>\n",
       "      <th>Unnamed: 0_y</th>\n",
       "      <th>product_id</th>\n",
       "      <th>add_to_cart_order</th>\n",
       "      <th>reordered</th>\n",
       "      <th>product_name</th>\n",
       "      <th>aisle_id</th>\n",
       "      <th>department_id</th>\n",
       "    </tr>\n",
       "  </thead>\n",
       "  <tbody>\n",
       "    <tr>\n",
       "      <th>0</th>\n",
       "      <td>3007766</td>\n",
       "      <td>1710376</td>\n",
       "      <td>181488</td>\n",
       "      <td>prior</td>\n",
       "      <td>2</td>\n",
       "      <td>6</td>\n",
       "      <td>11</td>\n",
       "      <td>28.0</td>\n",
       "      <td>15.0</td>\n",
       "      <td>16210923</td>\n",
       "      <td>13113</td>\n",
       "      <td>1</td>\n",
       "      <td>1</td>\n",
       "      <td>Organic Apple Juice Boxes</td>\n",
       "      <td>98</td>\n",
       "      <td>7</td>\n",
       "    </tr>\n",
       "    <tr>\n",
       "      <th>1</th>\n",
       "      <td>3007768</td>\n",
       "      <td>379577</td>\n",
       "      <td>181488</td>\n",
       "      <td>prior</td>\n",
       "      <td>4</td>\n",
       "      <td>0</td>\n",
       "      <td>17</td>\n",
       "      <td>21.0</td>\n",
       "      <td>20.0</td>\n",
       "      <td>3592776</td>\n",
       "      <td>13113</td>\n",
       "      <td>2</td>\n",
       "      <td>1</td>\n",
       "      <td>Organic Apple Juice Boxes</td>\n",
       "      <td>98</td>\n",
       "      <td>7</td>\n",
       "    </tr>\n",
       "    <tr>\n",
       "      <th>2</th>\n",
       "      <td>3007770</td>\n",
       "      <td>841461</td>\n",
       "      <td>181488</td>\n",
       "      <td>prior</td>\n",
       "      <td>6</td>\n",
       "      <td>0</td>\n",
       "      <td>15</td>\n",
       "      <td>8.0</td>\n",
       "      <td>11.0</td>\n",
       "      <td>7970257</td>\n",
       "      <td>13113</td>\n",
       "      <td>5</td>\n",
       "      <td>1</td>\n",
       "      <td>Organic Apple Juice Boxes</td>\n",
       "      <td>98</td>\n",
       "      <td>7</td>\n",
       "    </tr>\n",
       "    <tr>\n",
       "      <th>3</th>\n",
       "      <td>3007769</td>\n",
       "      <td>54312</td>\n",
       "      <td>181488</td>\n",
       "      <td>prior</td>\n",
       "      <td>5</td>\n",
       "      <td>6</td>\n",
       "      <td>12</td>\n",
       "      <td>20.0</td>\n",
       "      <td>8.0</td>\n",
       "      <td>513900</td>\n",
       "      <td>13113</td>\n",
       "      <td>1</td>\n",
       "      <td>1</td>\n",
       "      <td>Organic Apple Juice Boxes</td>\n",
       "      <td>98</td>\n",
       "      <td>7</td>\n",
       "    </tr>\n",
       "    <tr>\n",
       "      <th>4</th>\n",
       "      <td>3007765</td>\n",
       "      <td>2188203</td>\n",
       "      <td>181488</td>\n",
       "      <td>prior</td>\n",
       "      <td>1</td>\n",
       "      <td>6</td>\n",
       "      <td>1</td>\n",
       "      <td>NaN</td>\n",
       "      <td>28.0</td>\n",
       "      <td>20743509</td>\n",
       "      <td>13113</td>\n",
       "      <td>1</td>\n",
       "      <td>0</td>\n",
       "      <td>Organic Apple Juice Boxes</td>\n",
       "      <td>98</td>\n",
       "      <td>7</td>\n",
       "    </tr>\n",
       "  </tbody>\n",
       "</table>\n",
       "</div>"
      ],
      "text/plain": [
       "   Unnamed: 0_x  order_id  user_id eval_set  order_number  order_dow  \\\n",
       "0       3007766   1710376   181488    prior             2          6   \n",
       "1       3007768    379577   181488    prior             4          0   \n",
       "2       3007770    841461   181488    prior             6          0   \n",
       "3       3007769     54312   181488    prior             5          6   \n",
       "4       3007765   2188203   181488    prior             1          6   \n",
       "\n",
       "   order_hour_of_day  days_since_prior_order  days_to_next_order  \\\n",
       "0                 11                    28.0                15.0   \n",
       "1                 17                    21.0                20.0   \n",
       "2                 15                     8.0                11.0   \n",
       "3                 12                    20.0                 8.0   \n",
       "4                  1                     NaN                28.0   \n",
       "\n",
       "   Unnamed: 0_y  product_id  add_to_cart_order  reordered  \\\n",
       "0      16210923       13113                  1          1   \n",
       "1       3592776       13113                  2          1   \n",
       "2       7970257       13113                  5          1   \n",
       "3        513900       13113                  1          1   \n",
       "4      20743509       13113                  1          0   \n",
       "\n",
       "                product_name  aisle_id  department_id  \n",
       "0  Organic Apple Juice Boxes        98              7  \n",
       "1  Organic Apple Juice Boxes        98              7  \n",
       "2  Organic Apple Juice Boxes        98              7  \n",
       "3  Organic Apple Juice Boxes        98              7  \n",
       "4  Organic Apple Juice Boxes        98              7  "
      ]
     },
     "execution_count": 16,
     "metadata": {},
     "output_type": "execute_result"
    }
   ],
   "source": [
    "train_orders_prod, test_orders_prod = join_products(train_orders, test_orders)\n",
    "train_orders_prod.head()"
   ]
  },
  {
   "cell_type": "markdown",
   "metadata": {},
   "source": [
    "### Extract Desired Columns"
   ]
  },
  {
   "cell_type": "code",
   "execution_count": 17,
   "metadata": {},
   "outputs": [
    {
     "data": {
      "text/html": [
       "<div>\n",
       "<style scoped>\n",
       "    .dataframe tbody tr th:only-of-type {\n",
       "        vertical-align: middle;\n",
       "    }\n",
       "\n",
       "    .dataframe tbody tr th {\n",
       "        vertical-align: top;\n",
       "    }\n",
       "\n",
       "    .dataframe thead th {\n",
       "        text-align: right;\n",
       "    }\n",
       "</style>\n",
       "<table border=\"1\" class=\"dataframe\">\n",
       "  <thead>\n",
       "    <tr style=\"text-align: right;\">\n",
       "      <th></th>\n",
       "      <th>order_id</th>\n",
       "      <th>days_to_next_order</th>\n",
       "      <th>aisle_id</th>\n",
       "    </tr>\n",
       "  </thead>\n",
       "  <tbody>\n",
       "    <tr>\n",
       "      <th>0</th>\n",
       "      <td>1710376</td>\n",
       "      <td>15.0</td>\n",
       "      <td>98</td>\n",
       "    </tr>\n",
       "    <tr>\n",
       "      <th>1</th>\n",
       "      <td>379577</td>\n",
       "      <td>20.0</td>\n",
       "      <td>98</td>\n",
       "    </tr>\n",
       "    <tr>\n",
       "      <th>2</th>\n",
       "      <td>841461</td>\n",
       "      <td>11.0</td>\n",
       "      <td>98</td>\n",
       "    </tr>\n",
       "    <tr>\n",
       "      <th>3</th>\n",
       "      <td>54312</td>\n",
       "      <td>8.0</td>\n",
       "      <td>98</td>\n",
       "    </tr>\n",
       "    <tr>\n",
       "      <th>4</th>\n",
       "      <td>2188203</td>\n",
       "      <td>28.0</td>\n",
       "      <td>98</td>\n",
       "    </tr>\n",
       "  </tbody>\n",
       "</table>\n",
       "</div>"
      ],
      "text/plain": [
       "   order_id  days_to_next_order  aisle_id\n",
       "0   1710376                15.0        98\n",
       "1    379577                20.0        98\n",
       "2    841461                11.0        98\n",
       "3     54312                 8.0        98\n",
       "4   2188203                28.0        98"
      ]
     },
     "execution_count": 17,
     "metadata": {},
     "output_type": "execute_result"
    }
   ],
   "source": [
    "key_cols = key_columns(\"aisle_id\")\n",
    "wanted_info_train = train_orders_prod[key_cols]\n",
    "wanted_info_test = test_orders_prod[key_cols]\n",
    "\n",
    "wanted_info_train.head()"
   ]
  },
  {
   "cell_type": "markdown",
   "metadata": {},
   "source": [
    "### Add the Aisle Columns"
   ]
  },
  {
   "cell_type": "code",
   "execution_count": 18,
   "metadata": {},
   "outputs": [
    {
     "data": {
      "text/html": [
       "<div>\n",
       "<style scoped>\n",
       "    .dataframe tbody tr th:only-of-type {\n",
       "        vertical-align: middle;\n",
       "    }\n",
       "\n",
       "    .dataframe tbody tr th {\n",
       "        vertical-align: top;\n",
       "    }\n",
       "\n",
       "    .dataframe thead th {\n",
       "        text-align: right;\n",
       "    }\n",
       "</style>\n",
       "<table border=\"1\" class=\"dataframe\">\n",
       "  <thead>\n",
       "    <tr style=\"text-align: right;\">\n",
       "      <th></th>\n",
       "      <th>order_id</th>\n",
       "      <th>days_to_next_order</th>\n",
       "      <th>aisle_id</th>\n",
       "      <th>aisle</th>\n",
       "      <th>prepared soups salads</th>\n",
       "      <th>specialty cheeses</th>\n",
       "      <th>energy granola bars</th>\n",
       "      <th>instant foods</th>\n",
       "      <th>marinades meat preparation</th>\n",
       "      <th>other</th>\n",
       "      <th>...</th>\n",
       "      <th>trail mix snack mix</th>\n",
       "      <th>feminine care</th>\n",
       "      <th>body lotions soap</th>\n",
       "      <th>tortillas flat bread</th>\n",
       "      <th>frozen appetizers sides</th>\n",
       "      <th>hot cereal pancake mixes</th>\n",
       "      <th>dry pasta</th>\n",
       "      <th>beauty</th>\n",
       "      <th>muscles joints pain relief</th>\n",
       "      <th>specialty wines champagnes</th>\n",
       "    </tr>\n",
       "  </thead>\n",
       "  <tbody>\n",
       "    <tr>\n",
       "      <th>0</th>\n",
       "      <td>1710376</td>\n",
       "      <td>15.0</td>\n",
       "      <td>98</td>\n",
       "      <td>juice nectars</td>\n",
       "      <td>0</td>\n",
       "      <td>0</td>\n",
       "      <td>0</td>\n",
       "      <td>0</td>\n",
       "      <td>0</td>\n",
       "      <td>0</td>\n",
       "      <td>...</td>\n",
       "      <td>0</td>\n",
       "      <td>0</td>\n",
       "      <td>0</td>\n",
       "      <td>0</td>\n",
       "      <td>0</td>\n",
       "      <td>0</td>\n",
       "      <td>0</td>\n",
       "      <td>0</td>\n",
       "      <td>0</td>\n",
       "      <td>0</td>\n",
       "    </tr>\n",
       "    <tr>\n",
       "      <th>1</th>\n",
       "      <td>379577</td>\n",
       "      <td>20.0</td>\n",
       "      <td>98</td>\n",
       "      <td>juice nectars</td>\n",
       "      <td>0</td>\n",
       "      <td>0</td>\n",
       "      <td>0</td>\n",
       "      <td>0</td>\n",
       "      <td>0</td>\n",
       "      <td>0</td>\n",
       "      <td>...</td>\n",
       "      <td>0</td>\n",
       "      <td>0</td>\n",
       "      <td>0</td>\n",
       "      <td>0</td>\n",
       "      <td>0</td>\n",
       "      <td>0</td>\n",
       "      <td>0</td>\n",
       "      <td>0</td>\n",
       "      <td>0</td>\n",
       "      <td>0</td>\n",
       "    </tr>\n",
       "    <tr>\n",
       "      <th>2</th>\n",
       "      <td>841461</td>\n",
       "      <td>11.0</td>\n",
       "      <td>98</td>\n",
       "      <td>juice nectars</td>\n",
       "      <td>0</td>\n",
       "      <td>0</td>\n",
       "      <td>0</td>\n",
       "      <td>0</td>\n",
       "      <td>0</td>\n",
       "      <td>0</td>\n",
       "      <td>...</td>\n",
       "      <td>0</td>\n",
       "      <td>0</td>\n",
       "      <td>0</td>\n",
       "      <td>0</td>\n",
       "      <td>0</td>\n",
       "      <td>0</td>\n",
       "      <td>0</td>\n",
       "      <td>0</td>\n",
       "      <td>0</td>\n",
       "      <td>0</td>\n",
       "    </tr>\n",
       "    <tr>\n",
       "      <th>3</th>\n",
       "      <td>54312</td>\n",
       "      <td>8.0</td>\n",
       "      <td>98</td>\n",
       "      <td>juice nectars</td>\n",
       "      <td>0</td>\n",
       "      <td>0</td>\n",
       "      <td>0</td>\n",
       "      <td>0</td>\n",
       "      <td>0</td>\n",
       "      <td>0</td>\n",
       "      <td>...</td>\n",
       "      <td>0</td>\n",
       "      <td>0</td>\n",
       "      <td>0</td>\n",
       "      <td>0</td>\n",
       "      <td>0</td>\n",
       "      <td>0</td>\n",
       "      <td>0</td>\n",
       "      <td>0</td>\n",
       "      <td>0</td>\n",
       "      <td>0</td>\n",
       "    </tr>\n",
       "    <tr>\n",
       "      <th>4</th>\n",
       "      <td>2188203</td>\n",
       "      <td>28.0</td>\n",
       "      <td>98</td>\n",
       "      <td>juice nectars</td>\n",
       "      <td>0</td>\n",
       "      <td>0</td>\n",
       "      <td>0</td>\n",
       "      <td>0</td>\n",
       "      <td>0</td>\n",
       "      <td>0</td>\n",
       "      <td>...</td>\n",
       "      <td>0</td>\n",
       "      <td>0</td>\n",
       "      <td>0</td>\n",
       "      <td>0</td>\n",
       "      <td>0</td>\n",
       "      <td>0</td>\n",
       "      <td>0</td>\n",
       "      <td>0</td>\n",
       "      <td>0</td>\n",
       "      <td>0</td>\n",
       "    </tr>\n",
       "  </tbody>\n",
       "</table>\n",
       "<p>5 rows × 138 columns</p>\n",
       "</div>"
      ],
      "text/plain": [
       "   order_id  days_to_next_order  aisle_id          aisle  \\\n",
       "0   1710376                15.0        98  juice nectars   \n",
       "1    379577                20.0        98  juice nectars   \n",
       "2    841461                11.0        98  juice nectars   \n",
       "3     54312                 8.0        98  juice nectars   \n",
       "4   2188203                28.0        98  juice nectars   \n",
       "\n",
       "   prepared soups salads  specialty cheeses  energy granola bars  \\\n",
       "0                      0                  0                    0   \n",
       "1                      0                  0                    0   \n",
       "2                      0                  0                    0   \n",
       "3                      0                  0                    0   \n",
       "4                      0                  0                    0   \n",
       "\n",
       "   instant foods  marinades meat preparation  other  \\\n",
       "0              0                           0      0   \n",
       "1              0                           0      0   \n",
       "2              0                           0      0   \n",
       "3              0                           0      0   \n",
       "4              0                           0      0   \n",
       "\n",
       "              ...              trail mix snack mix  feminine care  \\\n",
       "0             ...                                0              0   \n",
       "1             ...                                0              0   \n",
       "2             ...                                0              0   \n",
       "3             ...                                0              0   \n",
       "4             ...                                0              0   \n",
       "\n",
       "   body lotions soap  tortillas flat bread  frozen appetizers sides  \\\n",
       "0                  0                     0                        0   \n",
       "1                  0                     0                        0   \n",
       "2                  0                     0                        0   \n",
       "3                  0                     0                        0   \n",
       "4                  0                     0                        0   \n",
       "\n",
       "   hot cereal pancake mixes  dry pasta  beauty  muscles joints pain relief  \\\n",
       "0                         0          0       0                           0   \n",
       "1                         0          0       0                           0   \n",
       "2                         0          0       0                           0   \n",
       "3                         0          0       0                           0   \n",
       "4                         0          0       0                           0   \n",
       "\n",
       "   specialty wines champagnes  \n",
       "0                           0  \n",
       "1                           0  \n",
       "2                           0  \n",
       "3                           0  \n",
       "4                           0  \n",
       "\n",
       "[5 rows x 138 columns]"
      ]
     },
     "execution_count": 18,
     "metadata": {},
     "output_type": "execute_result"
    }
   ],
   "source": [
    "df_with_aisle_info_train = add_each_aisle_to_df(wanted_info_train)\n",
    "df_with_aisle_info_test = add_each_aisle_to_df(wanted_info_test)\n",
    "\n",
    "df_with_aisle_info_train.head()"
   ]
  },
  {
   "cell_type": "markdown",
   "metadata": {},
   "source": [
    "### Populate the Aisle Columns"
   ]
  },
  {
   "cell_type": "code",
   "execution_count": 19,
   "metadata": {},
   "outputs": [
    {
     "data": {
      "text/html": [
       "<div>\n",
       "<style scoped>\n",
       "    .dataframe tbody tr th:only-of-type {\n",
       "        vertical-align: middle;\n",
       "    }\n",
       "\n",
       "    .dataframe tbody tr th {\n",
       "        vertical-align: top;\n",
       "    }\n",
       "\n",
       "    .dataframe thead th {\n",
       "        text-align: right;\n",
       "    }\n",
       "</style>\n",
       "<table border=\"1\" class=\"dataframe\">\n",
       "  <thead>\n",
       "    <tr style=\"text-align: right;\">\n",
       "      <th></th>\n",
       "      <th>days_to_next_order</th>\n",
       "      <th>prepared soups salads</th>\n",
       "      <th>specialty cheeses</th>\n",
       "      <th>energy granola bars</th>\n",
       "      <th>instant foods</th>\n",
       "      <th>marinades meat preparation</th>\n",
       "      <th>other</th>\n",
       "      <th>packaged meat</th>\n",
       "      <th>bakery desserts</th>\n",
       "      <th>pasta sauce</th>\n",
       "      <th>...</th>\n",
       "      <th>trail mix snack mix</th>\n",
       "      <th>feminine care</th>\n",
       "      <th>body lotions soap</th>\n",
       "      <th>tortillas flat bread</th>\n",
       "      <th>frozen appetizers sides</th>\n",
       "      <th>hot cereal pancake mixes</th>\n",
       "      <th>dry pasta</th>\n",
       "      <th>beauty</th>\n",
       "      <th>muscles joints pain relief</th>\n",
       "      <th>specialty wines champagnes</th>\n",
       "    </tr>\n",
       "  </thead>\n",
       "  <tbody>\n",
       "    <tr>\n",
       "      <th>0</th>\n",
       "      <td>15.0</td>\n",
       "      <td>0</td>\n",
       "      <td>0</td>\n",
       "      <td>0</td>\n",
       "      <td>0</td>\n",
       "      <td>0</td>\n",
       "      <td>0</td>\n",
       "      <td>0</td>\n",
       "      <td>0</td>\n",
       "      <td>0</td>\n",
       "      <td>...</td>\n",
       "      <td>0</td>\n",
       "      <td>0</td>\n",
       "      <td>0</td>\n",
       "      <td>0</td>\n",
       "      <td>0</td>\n",
       "      <td>0</td>\n",
       "      <td>0</td>\n",
       "      <td>0</td>\n",
       "      <td>0</td>\n",
       "      <td>0</td>\n",
       "    </tr>\n",
       "    <tr>\n",
       "      <th>1</th>\n",
       "      <td>20.0</td>\n",
       "      <td>0</td>\n",
       "      <td>0</td>\n",
       "      <td>0</td>\n",
       "      <td>0</td>\n",
       "      <td>0</td>\n",
       "      <td>0</td>\n",
       "      <td>0</td>\n",
       "      <td>0</td>\n",
       "      <td>0</td>\n",
       "      <td>...</td>\n",
       "      <td>0</td>\n",
       "      <td>0</td>\n",
       "      <td>0</td>\n",
       "      <td>0</td>\n",
       "      <td>0</td>\n",
       "      <td>0</td>\n",
       "      <td>0</td>\n",
       "      <td>0</td>\n",
       "      <td>0</td>\n",
       "      <td>0</td>\n",
       "    </tr>\n",
       "    <tr>\n",
       "      <th>2</th>\n",
       "      <td>11.0</td>\n",
       "      <td>0</td>\n",
       "      <td>0</td>\n",
       "      <td>0</td>\n",
       "      <td>0</td>\n",
       "      <td>0</td>\n",
       "      <td>0</td>\n",
       "      <td>0</td>\n",
       "      <td>0</td>\n",
       "      <td>0</td>\n",
       "      <td>...</td>\n",
       "      <td>0</td>\n",
       "      <td>0</td>\n",
       "      <td>0</td>\n",
       "      <td>0</td>\n",
       "      <td>0</td>\n",
       "      <td>0</td>\n",
       "      <td>0</td>\n",
       "      <td>0</td>\n",
       "      <td>0</td>\n",
       "      <td>0</td>\n",
       "    </tr>\n",
       "    <tr>\n",
       "      <th>3</th>\n",
       "      <td>8.0</td>\n",
       "      <td>0</td>\n",
       "      <td>0</td>\n",
       "      <td>0</td>\n",
       "      <td>0</td>\n",
       "      <td>0</td>\n",
       "      <td>0</td>\n",
       "      <td>0</td>\n",
       "      <td>0</td>\n",
       "      <td>0</td>\n",
       "      <td>...</td>\n",
       "      <td>0</td>\n",
       "      <td>0</td>\n",
       "      <td>0</td>\n",
       "      <td>0</td>\n",
       "      <td>0</td>\n",
       "      <td>0</td>\n",
       "      <td>0</td>\n",
       "      <td>0</td>\n",
       "      <td>0</td>\n",
       "      <td>0</td>\n",
       "    </tr>\n",
       "    <tr>\n",
       "      <th>4</th>\n",
       "      <td>28.0</td>\n",
       "      <td>1</td>\n",
       "      <td>0</td>\n",
       "      <td>0</td>\n",
       "      <td>0</td>\n",
       "      <td>0</td>\n",
       "      <td>0</td>\n",
       "      <td>0</td>\n",
       "      <td>0</td>\n",
       "      <td>0</td>\n",
       "      <td>...</td>\n",
       "      <td>0</td>\n",
       "      <td>0</td>\n",
       "      <td>0</td>\n",
       "      <td>0</td>\n",
       "      <td>0</td>\n",
       "      <td>0</td>\n",
       "      <td>0</td>\n",
       "      <td>0</td>\n",
       "      <td>0</td>\n",
       "      <td>0</td>\n",
       "    </tr>\n",
       "  </tbody>\n",
       "</table>\n",
       "<p>5 rows × 135 columns</p>\n",
       "</div>"
      ],
      "text/plain": [
       "   days_to_next_order  prepared soups salads  specialty cheeses  \\\n",
       "0                15.0                      0                  0   \n",
       "1                20.0                      0                  0   \n",
       "2                11.0                      0                  0   \n",
       "3                 8.0                      0                  0   \n",
       "4                28.0                      1                  0   \n",
       "\n",
       "   energy granola bars  instant foods  marinades meat preparation  other  \\\n",
       "0                    0              0                           0      0   \n",
       "1                    0              0                           0      0   \n",
       "2                    0              0                           0      0   \n",
       "3                    0              0                           0      0   \n",
       "4                    0              0                           0      0   \n",
       "\n",
       "   packaged meat  bakery desserts  pasta sauce             ...              \\\n",
       "0              0                0            0             ...               \n",
       "1              0                0            0             ...               \n",
       "2              0                0            0             ...               \n",
       "3              0                0            0             ...               \n",
       "4              0                0            0             ...               \n",
       "\n",
       "   trail mix snack mix  feminine care  body lotions soap  \\\n",
       "0                    0              0                  0   \n",
       "1                    0              0                  0   \n",
       "2                    0              0                  0   \n",
       "3                    0              0                  0   \n",
       "4                    0              0                  0   \n",
       "\n",
       "   tortillas flat bread  frozen appetizers sides  hot cereal pancake mixes  \\\n",
       "0                     0                        0                         0   \n",
       "1                     0                        0                         0   \n",
       "2                     0                        0                         0   \n",
       "3                     0                        0                         0   \n",
       "4                     0                        0                         0   \n",
       "\n",
       "   dry pasta  beauty  muscles joints pain relief  specialty wines champagnes  \n",
       "0          0       0                           0                           0  \n",
       "1          0       0                           0                           0  \n",
       "2          0       0                           0                           0  \n",
       "3          0       0                           0                           0  \n",
       "4          0       0                           0                           0  \n",
       "\n",
       "[5 rows x 135 columns]"
      ]
     },
     "execution_count": 19,
     "metadata": {},
     "output_type": "execute_result"
    }
   ],
   "source": [
    "# Aggregates the data so we have days to next order with the aisles required checked\n",
    "cols_to_drop = [\"aisle\", \"aisle_id\", \"order_id\"]\n",
    "item = \"aisle\"\n",
    "df_aisle_group_train = group_by_order_in_df(df_with_aisle_info_train, item, cols_to_drop)\n",
    "df_aisle_group_test = group_by_order_in_df(df_with_aisle_info_test, item, cols_to_drop)\n",
    "\n",
    "df_aisle_group_train.head()"
   ]
  },
  {
   "cell_type": "markdown",
   "metadata": {},
   "source": [
    "### Preparing the data for modelling"
   ]
  },
  {
   "cell_type": "code",
   "execution_count": 20,
   "metadata": {},
   "outputs": [
    {
     "data": {
      "text/html": [
       "<div>\n",
       "<style scoped>\n",
       "    .dataframe tbody tr th:only-of-type {\n",
       "        vertical-align: middle;\n",
       "    }\n",
       "\n",
       "    .dataframe tbody tr th {\n",
       "        vertical-align: top;\n",
       "    }\n",
       "\n",
       "    .dataframe thead th {\n",
       "        text-align: right;\n",
       "    }\n",
       "</style>\n",
       "<table border=\"1\" class=\"dataframe\">\n",
       "  <thead>\n",
       "    <tr style=\"text-align: right;\">\n",
       "      <th></th>\n",
       "      <th>prepared soups salads</th>\n",
       "      <th>specialty cheeses</th>\n",
       "      <th>energy granola bars</th>\n",
       "      <th>instant foods</th>\n",
       "      <th>marinades meat preparation</th>\n",
       "      <th>other</th>\n",
       "      <th>packaged meat</th>\n",
       "      <th>bakery desserts</th>\n",
       "      <th>pasta sauce</th>\n",
       "      <th>kitchen supplies</th>\n",
       "      <th>...</th>\n",
       "      <th>trail mix snack mix</th>\n",
       "      <th>feminine care</th>\n",
       "      <th>body lotions soap</th>\n",
       "      <th>tortillas flat bread</th>\n",
       "      <th>frozen appetizers sides</th>\n",
       "      <th>hot cereal pancake mixes</th>\n",
       "      <th>dry pasta</th>\n",
       "      <th>beauty</th>\n",
       "      <th>muscles joints pain relief</th>\n",
       "      <th>specialty wines champagnes</th>\n",
       "    </tr>\n",
       "  </thead>\n",
       "  <tbody>\n",
       "    <tr>\n",
       "      <th>0</th>\n",
       "      <td>0</td>\n",
       "      <td>0</td>\n",
       "      <td>0</td>\n",
       "      <td>0</td>\n",
       "      <td>0</td>\n",
       "      <td>0</td>\n",
       "      <td>0</td>\n",
       "      <td>0</td>\n",
       "      <td>0</td>\n",
       "      <td>0</td>\n",
       "      <td>...</td>\n",
       "      <td>0</td>\n",
       "      <td>0</td>\n",
       "      <td>0</td>\n",
       "      <td>0</td>\n",
       "      <td>0</td>\n",
       "      <td>0</td>\n",
       "      <td>0</td>\n",
       "      <td>0</td>\n",
       "      <td>0</td>\n",
       "      <td>0</td>\n",
       "    </tr>\n",
       "    <tr>\n",
       "      <th>1</th>\n",
       "      <td>0</td>\n",
       "      <td>0</td>\n",
       "      <td>0</td>\n",
       "      <td>0</td>\n",
       "      <td>0</td>\n",
       "      <td>0</td>\n",
       "      <td>0</td>\n",
       "      <td>0</td>\n",
       "      <td>0</td>\n",
       "      <td>0</td>\n",
       "      <td>...</td>\n",
       "      <td>0</td>\n",
       "      <td>0</td>\n",
       "      <td>0</td>\n",
       "      <td>0</td>\n",
       "      <td>0</td>\n",
       "      <td>0</td>\n",
       "      <td>0</td>\n",
       "      <td>0</td>\n",
       "      <td>0</td>\n",
       "      <td>0</td>\n",
       "    </tr>\n",
       "    <tr>\n",
       "      <th>2</th>\n",
       "      <td>0</td>\n",
       "      <td>0</td>\n",
       "      <td>0</td>\n",
       "      <td>0</td>\n",
       "      <td>0</td>\n",
       "      <td>0</td>\n",
       "      <td>0</td>\n",
       "      <td>0</td>\n",
       "      <td>0</td>\n",
       "      <td>0</td>\n",
       "      <td>...</td>\n",
       "      <td>0</td>\n",
       "      <td>0</td>\n",
       "      <td>0</td>\n",
       "      <td>0</td>\n",
       "      <td>0</td>\n",
       "      <td>0</td>\n",
       "      <td>0</td>\n",
       "      <td>0</td>\n",
       "      <td>0</td>\n",
       "      <td>0</td>\n",
       "    </tr>\n",
       "    <tr>\n",
       "      <th>3</th>\n",
       "      <td>0</td>\n",
       "      <td>0</td>\n",
       "      <td>0</td>\n",
       "      <td>0</td>\n",
       "      <td>0</td>\n",
       "      <td>0</td>\n",
       "      <td>0</td>\n",
       "      <td>0</td>\n",
       "      <td>0</td>\n",
       "      <td>0</td>\n",
       "      <td>...</td>\n",
       "      <td>0</td>\n",
       "      <td>0</td>\n",
       "      <td>0</td>\n",
       "      <td>0</td>\n",
       "      <td>0</td>\n",
       "      <td>0</td>\n",
       "      <td>0</td>\n",
       "      <td>0</td>\n",
       "      <td>0</td>\n",
       "      <td>0</td>\n",
       "    </tr>\n",
       "    <tr>\n",
       "      <th>4</th>\n",
       "      <td>1</td>\n",
       "      <td>0</td>\n",
       "      <td>0</td>\n",
       "      <td>0</td>\n",
       "      <td>0</td>\n",
       "      <td>0</td>\n",
       "      <td>0</td>\n",
       "      <td>0</td>\n",
       "      <td>0</td>\n",
       "      <td>0</td>\n",
       "      <td>...</td>\n",
       "      <td>0</td>\n",
       "      <td>0</td>\n",
       "      <td>0</td>\n",
       "      <td>0</td>\n",
       "      <td>0</td>\n",
       "      <td>0</td>\n",
       "      <td>0</td>\n",
       "      <td>0</td>\n",
       "      <td>0</td>\n",
       "      <td>0</td>\n",
       "    </tr>\n",
       "  </tbody>\n",
       "</table>\n",
       "<p>5 rows × 134 columns</p>\n",
       "</div>"
      ],
      "text/plain": [
       "   prepared soups salads  specialty cheeses  energy granola bars  \\\n",
       "0                      0                  0                    0   \n",
       "1                      0                  0                    0   \n",
       "2                      0                  0                    0   \n",
       "3                      0                  0                    0   \n",
       "4                      1                  0                    0   \n",
       "\n",
       "   instant foods  marinades meat preparation  other  packaged meat  \\\n",
       "0              0                           0      0              0   \n",
       "1              0                           0      0              0   \n",
       "2              0                           0      0              0   \n",
       "3              0                           0      0              0   \n",
       "4              0                           0      0              0   \n",
       "\n",
       "   bakery desserts  pasta sauce  kitchen supplies             ...              \\\n",
       "0                0            0                 0             ...               \n",
       "1                0            0                 0             ...               \n",
       "2                0            0                 0             ...               \n",
       "3                0            0                 0             ...               \n",
       "4                0            0                 0             ...               \n",
       "\n",
       "   trail mix snack mix  feminine care  body lotions soap  \\\n",
       "0                    0              0                  0   \n",
       "1                    0              0                  0   \n",
       "2                    0              0                  0   \n",
       "3                    0              0                  0   \n",
       "4                    0              0                  0   \n",
       "\n",
       "   tortillas flat bread  frozen appetizers sides  hot cereal pancake mixes  \\\n",
       "0                     0                        0                         0   \n",
       "1                     0                        0                         0   \n",
       "2                     0                        0                         0   \n",
       "3                     0                        0                         0   \n",
       "4                     0                        0                         0   \n",
       "\n",
       "   dry pasta  beauty  muscles joints pain relief  specialty wines champagnes  \n",
       "0          0       0                           0                           0  \n",
       "1          0       0                           0                           0  \n",
       "2          0       0                           0                           0  \n",
       "3          0       0                           0                           0  \n",
       "4          0       0                           0                           0  \n",
       "\n",
       "[5 rows x 134 columns]"
      ]
     },
     "execution_count": 20,
     "metadata": {},
     "output_type": "execute_result"
    }
   ],
   "source": [
    "X_train, y_train, X_test, y_test = split_data_to_features_and_value(df_aisle_group_train, df_aisle_group_test)\n",
    "# Where X are the features and Y is the days to next order (value trying to predict)\n",
    "X_train.head()"
   ]
  },
  {
   "cell_type": "markdown",
   "metadata": {},
   "source": [
    "### Generate the Model"
   ]
  },
  {
   "cell_type": "code",
   "execution_count": 21,
   "metadata": {},
   "outputs": [
    {
     "data": {
      "text/plain": [
       "10.001887890330533"
      ]
     },
     "execution_count": 21,
     "metadata": {},
     "output_type": "execute_result"
    }
   ],
   "source": [
    "model = linear_model.LinearRegression()\n",
    "model.fit(X_train, y_train)\n",
    "model.intercept_"
   ]
  },
  {
   "cell_type": "markdown",
   "metadata": {},
   "source": [
    "### Find the best feature/aisle"
   ]
  },
  {
   "cell_type": "code",
   "execution_count": 22,
   "metadata": {},
   "outputs": [
    {
     "data": {
      "text/plain": [
       "(0.085833765785855, 'hot dogs bacon sausage')"
      ]
     },
     "execution_count": 22,
     "metadata": {},
     "output_type": "execute_result"
    }
   ],
   "source": [
    "find_best_feature(X_train, y_train, X_test, y_test)"
   ]
  },
  {
   "cell_type": "markdown",
   "metadata": {},
   "source": [
    "### Find best features in Order and calculate scores"
   ]
  },
  {
   "cell_type": "code",
   "execution_count": 23,
   "metadata": {},
   "outputs": [
    {
     "name": "stdout",
     "output_type": "stream",
     "text": [
      "Best Score : 0.4273188117388197\n",
      "['hot dogs bacon sausage' 'first aid' 'milk' 'yogurt'\n",
      " 'packaged vegetables fruits' 'trash bags liners' 'granola' 'laundry'\n",
      " 'marinades meat preparation' 'butter' 'cleaning products' 'beers coolers'\n",
      " 'soy lactosefree' 'energy granola bars' 'energy sports drinks'\n",
      " 'preserved dips spreads' 'frozen meals' 'baking ingredients'\n",
      " 'frozen breakfast' 'fresh herbs' 'cereal' 'tea']\n"
     ]
    }
   ],
   "source": [
    "best_features, best_score, model_scores = order_best_features_and_score(X_train, y_train, X_test, y_test)\n",
    "print(\"Best Score :\", best_score)\n",
    "print(best_features)"
   ]
  },
  {
   "cell_type": "code",
   "execution_count": 24,
   "metadata": {},
   "outputs": [
    {
     "data": {
      "image/png": "[encoded data removed]",
      "text/plain": [
       "<matplotlib.figure.Figure at 0x114b185f8>"
      ]
     },
     "metadata": {},
     "output_type": "display_data"
    }
   ],
   "source": [
    "plt.title(\"Score versus features\")\n",
    "plt.xlabel('Number of features') \n",
    "plt.ylabel('R squared')\n",
    "plt.plot(model_scores)\n",
    "plt.show()"
   ]
  },
  {
   "cell_type": "code",
   "execution_count": 25,
   "metadata": {},
   "outputs": [
    {
     "name": "stdout",
     "output_type": "stream",
     "text": [
      "Best Score : 0.4273188117388197\n",
      "['hot dogs bacon sausage' 'first aid' 'milk' 'yogurt'\n",
      " 'packaged vegetables fruits' 'trash bags liners' 'granola' 'laundry'\n",
      " 'marinades meat preparation' 'butter' 'cleaning products' 'beers coolers'\n",
      " 'soy lactosefree' 'energy granola bars' 'energy sports drinks'\n",
      " 'preserved dips spreads' 'frozen meals' 'baking ingredients'\n",
      " 'frozen breakfast' 'fresh herbs' 'cereal' 'tea']\n"
     ]
    }
   ],
   "source": [
    "nbfs, nbs, model_scores = order_best_features_and_score(X_train[best_features], y_train, X_test[best_features], y_test)\n",
    "print(\"Best Score :\", nbs)\n",
    "print(nbfs)"
   ]
  },
  {
   "cell_type": "code",
   "execution_count": 26,
   "metadata": {},
   "outputs": [
    {
     "data": {
      "image/png": "[encoded data removed]",
      "text/plain": [
       "<matplotlib.figure.Figure at 0x114b18b38>"
      ]
     },
     "metadata": {},
     "output_type": "display_data"
    }
   ],
   "source": [
    "plt.title(\"Score versus features\")\n",
    "plt.xlabel('Number of features') \n",
    "plt.ylabel('R squared')\n",
    "plt.plot(model_scores)\n",
    "plt.show()"
   ]
  },
  {
   "cell_type": "code",
   "execution_count": null,
   "metadata": {},
   "outputs": [],
   "source": []
  },
  {
   "cell_type": "code",
   "execution_count": 27,
   "metadata": {},
   "outputs": [
    {
     "name": "stdout",
     "output_type": "stream",
     "text": [
      "New Best Score : 0.25802090650845566\n",
      "['milk' 'hot dogs bacon sausage' 'packaged vegetables fruits' 'butter'\n",
      " 'soy lactosefree' 'baking ingredients' 'first aid' 'beers coolers' 'tea'\n",
      " 'frozen breakfast' 'yogurt' 'granola']\n"
     ]
    }
   ],
   "source": [
    "nnbfs, nnbs, model_scores = order_best_features_and_score(X_train[best_features], y_train, X_train[best_features], y_train)\n",
    "print(\"New Best Score :\", nnbs)\n",
    "print(nnbfs)"
   ]
  },
  {
   "cell_type": "code",
   "execution_count": 28,
   "metadata": {},
   "outputs": [
    {
     "data": {
      "image/png": "[encoded data removed]",
      "text/plain": [
       "<matplotlib.figure.Figure at 0x115585518>"
      ]
     },
     "metadata": {},
     "output_type": "display_data"
    }
   ],
   "source": [
    "plt.title(\"Score versus features\")\n",
    "plt.xlabel('Number of features') \n",
    "plt.ylabel('R squared')\n",
    "plt.plot(model_scores)\n",
    "plt.show()"
   ]
  },
  {
   "cell_type": "markdown",
   "metadata": {},
   "source": [
    "### Specific User Investigation"
   ]
  },
  {
   "cell_type": "code",
   "execution_count": 29,
   "metadata": {},
   "outputs": [
    {
     "name": "stdout",
     "output_type": "stream",
     "text": [
      "Best Score : 0.2084730655463385\n",
      "['packaged vegetables fruits' 'ice cream ice' 'condiments']\n"
     ]
    }
   ],
   "source": [
    "# For the User\n",
    "train_orders_prod, test_orders_prod = join_products(user_train_orders, user_test_orders)\n",
    "wanted_info_train = train_orders_prod[key_cols]\n",
    "wanted_info_test = test_orders_prod[key_cols]\n",
    "df_with_aisle_info_train = add_each_aisle_to_df(wanted_info_train)\n",
    "df_with_aisle_info_test = add_each_aisle_to_df(wanted_info_test)\n",
    "cols_to_drop = [\"aisle\", \"aisle_id\", \"order_id\"]\n",
    "item = \"aisle\"\n",
    "df_aisle_group_train = group_by_order_in_df(df_with_aisle_info_train, item, cols_to_drop)\n",
    "df_aisle_group_test = group_by_order_in_df(df_with_aisle_info_test, item, cols_to_drop)\n",
    "X_train, y_train, X_test, y_test = split_data_to_features_and_value(df_aisle_group_train, df_aisle_group_test)\n",
    "best_features, best_score, model_scores = order_best_features_and_score(X_train, y_train, X_test, y_test)\n",
    "print(\"Best Score :\", best_score)\n",
    "print(best_features)"
   ]
  },
  {
   "cell_type": "code",
   "execution_count": 30,
   "metadata": {},
   "outputs": [
    {
     "data": {
      "image/png": "[encoded data removed]",
      "text/plain": [
       "<matplotlib.figure.Figure at 0x115585f60>"
      ]
     },
     "metadata": {},
     "output_type": "display_data"
    }
   ],
   "source": [
    "plt.title(\"Score versus features\")\n",
    "plt.xlabel('Number of features') \n",
    "plt.ylabel('R squared')\n",
    "plt.plot(model_scores)\n",
    "plt.show()"
   ]
  },
  {
   "cell_type": "code",
   "execution_count": 31,
   "metadata": {},
   "outputs": [
    {
     "name": "stdout",
     "output_type": "stream",
     "text": [
      "Best Score : 0.2084730655463385\n",
      "['packaged vegetables fruits' 'ice cream ice' 'condiments']\n"
     ]
    }
   ],
   "source": [
    "best_features, best_score, model_scores = order_best_features_and_score(X_train[best_features], y_train, X_test[best_features], y_test)\n",
    "print(\"Best Score :\", best_score)\n",
    "print(best_features)"
   ]
  },
  {
   "cell_type": "code",
   "execution_count": 32,
   "metadata": {},
   "outputs": [
    {
     "data": {
      "image/png": "[encoded data removed]",
      "text/plain": [
       "<matplotlib.figure.Figure at 0x1153c3ba8>"
      ]
     },
     "metadata": {},
     "output_type": "display_data"
    }
   ],
   "source": [
    "plt.title(\"Score versus features\")\n",
    "plt.xlabel('Number of features') \n",
    "plt.ylabel('R squared')\n",
    "plt.plot(model_scores)\n",
    "plt.show()"
   ]
  },
  {
   "cell_type": "code",
   "execution_count": null,
   "metadata": {},
   "outputs": [],
   "source": []
  },
  {
   "cell_type": "code",
   "execution_count": null,
   "metadata": {},
   "outputs": [],
   "source": []
  },
  {
   "cell_type": "code",
   "execution_count": 33,
   "metadata": {},
   "outputs": [],
   "source": [
    "# NOW WE WANT TO USE PCA/REGULARISATION AND REMOVE SOME UNNEEDED INFO/AISLES"
   ]
  },
  {
   "cell_type": "code",
   "execution_count": 34,
   "metadata": {},
   "outputs": [],
   "source": [
    "# DONT FORGET TO MEAN CENTRE"
   ]
  },
  {
   "cell_type": "code",
   "execution_count": null,
   "metadata": {},
   "outputs": [],
   "source": []
  }
 ],
 "metadata": {
  "kernelspec": {
   "display_name": "Python 3",
   "language": "python",
   "name": "python3"
  },
  "language_info": {
   "codemirror_mode": {
    "name": "ipython",
    "version": 3
   },
   "file_extension": ".py",
   "mimetype": "text/x-python",
   "name": "python",
   "nbconvert_exporter": "python",
   "pygments_lexer": "ipython3",
   "version": "3.6.4"
  }
 },
 "nbformat": 4,
 "nbformat_minor": 2
}

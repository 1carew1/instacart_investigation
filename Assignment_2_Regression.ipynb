{
 "cells": [
  {
   "cell_type": "code",
   "execution_count": 1,
   "metadata": {},
   "outputs": [],
   "source": [
    "%matplotlib inline "
   ]
  },
  {
   "cell_type": "markdown",
   "metadata": {},
   "source": [
    "# Regression\n",
    "***"
   ]
  },
  {
   "cell_type": "markdown",
   "metadata": {},
   "source": [
    "## Table of Contents\n",
    "***\n",
    "* [Aim](#aim)\n",
    "* [Code Setup](#code-setup)\n",
    "* [Data Import](#data-import)"
   ]
  },
  {
   "cell_type": "markdown",
   "metadata": {},
   "source": [
    "## Aim <a class=\"anchor\" id=\"aim\"></a>\n",
    "***\n",
    "\n",
    "The aim of this notebook is to perform Regression on the Instacart Data"
   ]
  },
  {
   "cell_type": "markdown",
   "metadata": {},
   "source": [
    "## Code Setup <a class=\"anchor\" id=\"code-setup\"></a>\n",
    "***"
   ]
  },
  {
   "cell_type": "markdown",
   "metadata": {},
   "source": [
    "### Constants"
   ]
  },
  {
   "cell_type": "code",
   "execution_count": 2,
   "metadata": {},
   "outputs": [],
   "source": [
    "instacart_dir = \"instacart_2017_05_01/\"\n",
    "my_orders_file = \"my_orders.csv\"\n",
    "products_file = \"products.csv\"\n",
    "aisles_file = \"aisles.csv\"\n",
    "departments_file = \"departments.csv\"\n",
    "orders_products_prior_file = \"my_order_products__prior.csv\"\n",
    "orders_products_train_file = \"my_order_products__train.csv\""
   ]
  },
  {
   "cell_type": "markdown",
   "metadata": {},
   "source": [
    "### Import Libraries"
   ]
  },
  {
   "cell_type": "code",
   "execution_count": 3,
   "metadata": {},
   "outputs": [],
   "source": [
    "import pandas as pd\n",
    "import sys\n",
    "import numpy as np\n",
    "import matplotlib.pyplot as plt\n",
    "plt.rcParams['figure.figsize'] = [12, 6]\n",
    "import seaborn as sns\n",
    "sns.set_style(\"darkgrid\")\n",
    "sns.set_context(\"paper\")\n",
    "from sklearn.model_selection import train_test_split\n",
    "from sklearn import linear_model\n",
    "from sklearn.decomposition import PCA\n",
    "from sklearn.preprocessing import StandardScaler\n",
    "scaler = StandardScaler()"
   ]
  },
  {
   "cell_type": "code",
   "execution_count": 4,
   "metadata": {},
   "outputs": [],
   "source": [
    "def read_csv_file(file_name):\n",
    "    return pd.read_csv(instacart_dir + file_name)"
   ]
  },
  {
   "cell_type": "markdown",
   "metadata": {},
   "source": [
    "### Import the Data"
   ]
  },
  {
   "cell_type": "code",
   "execution_count": 5,
   "metadata": {},
   "outputs": [],
   "source": [
    "orders = read_csv_file(my_orders_file)\n",
    "products = read_csv_file(products_file)\n",
    "aisles = read_csv_file(aisles_file)\n",
    "orders_products_prior = read_csv_file(orders_products_prior_file)\n",
    "orders_products_train = read_csv_file(orders_products_train_file)\n",
    "orders_products = pd.concat([orders_products_prior, orders_products_train])"
   ]
  },
  {
   "cell_type": "code",
   "execution_count": 6,
   "metadata": {},
   "outputs": [],
   "source": [
    "def join_products(train, test):\n",
    "    train_orders_prod = train.merge(orders_products, on=\"order_id\")\n",
    "    train_orders_prod = train_orders_prod.merge(products, on=\"product_id\")\n",
    "\n",
    "    test_orders_prod = test.merge(orders_products, on=\"order_id\")\n",
    "    test_orders_prod = test_orders_prod.merge(products, on=\"product_id\")\n",
    "    \n",
    "    return (train_orders_prod, test_orders_prod)"
   ]
  },
  {
   "cell_type": "code",
   "execution_count": 7,
   "metadata": {},
   "outputs": [],
   "source": [
    "def add_days_to_next_order(order_df):\n",
    "    orders = order_df.copy()\n",
    "    orders[\"days_to_next_order\"] = np.nan\n",
    "    for index, cur_order in orders.iterrows():\n",
    "        next_order_number = cur_order.order_number + 1\n",
    "        user_id = cur_order.user_id\n",
    "        next_order_df = orders.query(\"user_id == \" + str(user_id) + \" and  order_number == \" + str(next_order_number))\n",
    "        if(next_order_df.shape[0] == 1):\n",
    "            next_order = next_order_df.iloc[0]\n",
    "            days_to_next_order = next_order.days_since_prior_order\n",
    "            if(np.isfinite(days_to_next_order)):\n",
    "                orders.loc[index, 'days_to_next_order'] = days_to_next_order\n",
    "    return orders"
   ]
  },
  {
   "cell_type": "code",
   "execution_count": 8,
   "metadata": {},
   "outputs": [],
   "source": [
    "def key_columns(next_one):\n",
    "    list = [\"order_id\", \"days_to_next_order\", next_one]\n",
    "    return list"
   ]
  },
  {
   "cell_type": "code",
   "execution_count": 9,
   "metadata": {},
   "outputs": [],
   "source": [
    "def split_data_to_features_and_value(df_train, df_test):\n",
    "    # Target\n",
    "    y_train = df_train['days_to_next_order'].copy()\n",
    "    X_train = df_train.copy() \n",
    "    # Feature\n",
    "    X_train.drop(['days_to_next_order'], axis=1, inplace=True)\n",
    "\n",
    "    # Testing\n",
    "    y_test = df_test['days_to_next_order'].copy()\n",
    "    X_test = df_test.copy() \n",
    "    # Feature\n",
    "    X_test.drop(['days_to_next_order'], axis=1, inplace=True)\n",
    "    return (X_train, y_train, X_test, y_test)"
   ]
  },
  {
   "cell_type": "code",
   "execution_count": 10,
   "metadata": {},
   "outputs": [],
   "source": [
    "def add_each_aisle_to_df(df):\n",
    "    df_aisles = df.copy().merge(aisles, on=\"aisle_id\")\n",
    "    for index, row in aisles.iterrows():\n",
    "        aisle_name = row.aisle\n",
    "        df_aisles[aisle_name] = 0\n",
    "    return df_aisles"
   ]
  },
  {
   "cell_type": "code",
   "execution_count": 11,
   "metadata": {},
   "outputs": [],
   "source": [
    "def add_each_department_to_df(df):\n",
    "    df_dep = df.copy().merge(departments, on=\"department_id\")\n",
    "    for index, row in departments.iterrows():\n",
    "        department_name = row.department\n",
    "        df_dep[department_name] = 0\n",
    "    return df_dep"
   ]
  },
  {
   "cell_type": "code",
   "execution_count": 12,
   "metadata": {},
   "outputs": [],
   "source": [
    "def add_each_product_to_df(df, popular_products):\n",
    "    df_products = df.copy().merge(products, on=\"product_id\")\n",
    "    for index, row in popular_products.iterrows():\n",
    "        product_name = row.product_name\n",
    "        df_products[product_name] = 0\n",
    "    return df_products"
   ]
  },
  {
   "cell_type": "code",
   "execution_count": 13,
   "metadata": {},
   "outputs": [],
   "source": [
    "def group_by_order_in_df(df_ordered, item_name, cols_to_drop):\n",
    "    # Create new df with only the column names\n",
    "    df = df_ordered.copy()\n",
    "    df.drop(df.index, inplace=True)\n",
    "    order_ids = df_ordered.order_id.unique().tolist()\n",
    "    for order_id in order_ids:\n",
    "        temp_df = df_ordered.query(\"order_id == \" + str(order_id))\n",
    "        # Need a copy as not to modify something we are iterarting over\n",
    "        first_row = temp_df.copy().head(1)\n",
    "        for i, temp_row in temp_df.iterrows():\n",
    "            temp_name = temp_row[item_name]\n",
    "            # If the feature is present, set it to 1\n",
    "            if temp_name in df.columns:\n",
    "                first_row[temp_name] = 1\n",
    "        # Add the aggregated entry\n",
    "        df = pd.concat([df, first_row])\n",
    "    df = df.drop(cols_to_drop, axis=1)\n",
    "    return df    "
   ]
  },
  {
   "cell_type": "code",
   "execution_count": 14,
   "metadata": {},
   "outputs": [],
   "source": [
    "def find_best_feature(X, y, X_test, y_test):\n",
    "    n_features = X.shape[1]\n",
    "    # Not zero as some negative scores can happen\n",
    "    max_score = -100000\n",
    "    max_feature = None\n",
    "    for i in range(n_features):\n",
    "        feature = X.columns[i]\n",
    "        X_subset = X[[feature]]\n",
    "        X_test_subset = X_test[[feature]]\n",
    "        temp_model = linear_model.LinearRegression()\n",
    "        temp_model.fit(X_subset, y)\n",
    "        # R squared metric\n",
    "        temp_model_score = temp_model.score(X_test_subset, y_test)\n",
    "        if temp_model_score > max_score:\n",
    "            max_score = temp_model_score\n",
    "            max_feature = feature\n",
    "    if max_feature is None :\n",
    "        print(\"Issue, max feature not found, size\", n_features)\n",
    "        print(X.columns.values)\n",
    "    return (max_score, max_feature)"
   ]
  },
  {
   "cell_type": "code",
   "execution_count": 15,
   "metadata": {},
   "outputs": [],
   "source": [
    "# This is a very brute force way, computing all model possibilities and the solution with the highest score\n",
    "def order_best_features_and_score(X_train, y_train, X_test, y_test, absolute_max_score):\n",
    "    n_features = X_train.shape[1]\n",
    "    model_scores = [0]\n",
    "    best_features = []\n",
    "    best_score = -10000\n",
    "    X_selection = X_train.copy()\n",
    "    X_test_selection = X_test.copy()\n",
    "    X_subsets = pd.DataFrame(index=X_train.index)\n",
    "    X_test_subsets = pd.DataFrame(index=X_test.index)\n",
    "\n",
    "    for i in range(n_features):\n",
    "        max_score, next_best_feature = find_best_feature(X_selection, y_train, X_test_selection, y_test)\n",
    "\n",
    "        X_subset = X_selection[[next_best_feature]]\n",
    "        X_test_subset = X_test_selection[[next_best_feature]]\n",
    "    \n",
    "        X_subsets[next_best_feature] = X_subset\n",
    "        X_test_subsets[next_best_feature] = X_test_subset\n",
    "        \n",
    "        tem_model = linear_model.LinearRegression()\n",
    "        tem_model.fit(X_subsets, y_train)\n",
    "        tem_model_score = tem_model.score(X_test_subsets, y_test)\n",
    "        model_scores.append(tem_model_score)\n",
    "        \n",
    "        # Want the model to be better by some amount\n",
    "        score_increase_threshold = 0.00001\n",
    "        if(tem_model_score == absolute_max_score) :\n",
    "            best_score = tem_model_score\n",
    "            best_features = X_subsets.columns.values\n",
    "            break\n",
    "        if (tem_model_score > (best_score + score_increase_threshold)) and (tem_model_score < absolute_max_score) :\n",
    "            best_score = tem_model_score\n",
    "            best_features = X_subsets.columns.values\n",
    "\n",
    "        X_selection.drop([next_best_feature], axis=1, inplace=True)\n",
    "        X_test_selection.drop([next_best_feature], axis=1, inplace=True)\n",
    "    return (best_features, best_score, model_scores)"
   ]
  },
  {
   "cell_type": "markdown",
   "metadata": {},
   "source": [
    "#### Test and training split for all users"
   ]
  },
  {
   "cell_type": "code",
   "execution_count": 16,
   "metadata": {},
   "outputs": [
    {
     "name": "stdout",
     "output_type": "stream",
     "text": [
      "Training size is : 228\n",
      "Testing size is : 58\n"
     ]
    }
   ],
   "source": [
    "test_percentage = 0.2\n",
    "orders = add_days_to_next_order(orders)\n",
    "# Can use this to estimate what would be ordered\n",
    "orders_with_no_next_order = orders[orders['days_to_next_order'].isnull()]\n",
    "# Can split this into train and test\n",
    "orders_with_next_order = orders[~orders['days_to_next_order'].isnull()]\n",
    "train_orders, test_orders = train_test_split(orders_with_next_order, test_size=test_percentage)\n",
    "print(\"Training size is :\", train_orders.shape[0])\n",
    "print(\"Testing size is :\", test_orders.shape[0])"
   ]
  },
  {
   "cell_type": "markdown",
   "metadata": {},
   "source": [
    "#### Test and training split for specific user"
   ]
  },
  {
   "cell_type": "code",
   "execution_count": 17,
   "metadata": {},
   "outputs": [
    {
     "name": "stdout",
     "output_type": "stream",
     "text": [
      "User id for single investigation : 47562\n",
      "Training size for single user is : 70\n",
      "Testing size for single user is is : 18\n"
     ]
    }
   ],
   "source": [
    "count_orders = (orders\n",
    "                .groupby(\"user_id\")\n",
    "                .size()\n",
    "                .reset_index(name=\"count\")\n",
    "                .sort_values(by=['count'], ascending=False)\n",
    "               )\n",
    "# Get the most frequent user as this will have the most data associated with it\n",
    "most_frequeny_user_id =  count_orders.iloc[0].user_id\n",
    "single_user_orders = orders.query(\"user_id == \" + str(most_frequeny_user_id))\n",
    "single_user_orders = add_days_to_next_order(single_user_orders)\n",
    "user_orders_with_next_order = single_user_orders[~single_user_orders['days_to_next_order'].isnull()]\n",
    "user_train_orders, user_test_orders = train_test_split(user_orders_with_next_order, test_size=test_percentage)\n",
    "print(\"User id for single investigation :\", most_frequeny_user_id)\n",
    "print(\"Training size for single user is :\", user_train_orders.shape[0])\n",
    "print(\"Testing size for single user is is :\", user_test_orders.shape[0])"
   ]
  },
  {
   "cell_type": "markdown",
   "metadata": {},
   "source": [
    "### Merge Product and Aisle to the data"
   ]
  },
  {
   "cell_type": "code",
   "execution_count": 18,
   "metadata": {},
   "outputs": [
    {
     "data": {
      "text/html": [
       "<div>\n",
       "<style scoped>\n",
       "    .dataframe tbody tr th:only-of-type {\n",
       "        vertical-align: middle;\n",
       "    }\n",
       "\n",
       "    .dataframe tbody tr th {\n",
       "        vertical-align: top;\n",
       "    }\n",
       "\n",
       "    .dataframe thead th {\n",
       "        text-align: right;\n",
       "    }\n",
       "</style>\n",
       "<table border=\"1\" class=\"dataframe\">\n",
       "  <thead>\n",
       "    <tr style=\"text-align: right;\">\n",
       "      <th></th>\n",
       "      <th>Unnamed: 0_x</th>\n",
       "      <th>order_id</th>\n",
       "      <th>user_id</th>\n",
       "      <th>eval_set</th>\n",
       "      <th>order_number</th>\n",
       "      <th>order_dow</th>\n",
       "      <th>order_hour_of_day</th>\n",
       "      <th>days_since_prior_order</th>\n",
       "      <th>days_to_next_order</th>\n",
       "      <th>Unnamed: 0_y</th>\n",
       "      <th>product_id</th>\n",
       "      <th>add_to_cart_order</th>\n",
       "      <th>reordered</th>\n",
       "      <th>product_name</th>\n",
       "      <th>aisle_id</th>\n",
       "      <th>department_id</th>\n",
       "    </tr>\n",
       "  </thead>\n",
       "  <tbody>\n",
       "    <tr>\n",
       "      <th>0</th>\n",
       "      <td>1395898</td>\n",
       "      <td>1227141</td>\n",
       "      <td>83908</td>\n",
       "      <td>prior</td>\n",
       "      <td>5</td>\n",
       "      <td>5</td>\n",
       "      <td>16</td>\n",
       "      <td>6.0</td>\n",
       "      <td>24.0</td>\n",
       "      <td>11624022</td>\n",
       "      <td>43295</td>\n",
       "      <td>1</td>\n",
       "      <td>0</td>\n",
       "      <td>Unsweetened Vanilla Almond Milk</td>\n",
       "      <td>91</td>\n",
       "      <td>16</td>\n",
       "    </tr>\n",
       "    <tr>\n",
       "      <th>1</th>\n",
       "      <td>1395903</td>\n",
       "      <td>457091</td>\n",
       "      <td>83908</td>\n",
       "      <td>prior</td>\n",
       "      <td>10</td>\n",
       "      <td>2</td>\n",
       "      <td>18</td>\n",
       "      <td>30.0</td>\n",
       "      <td>13.0</td>\n",
       "      <td>4330183</td>\n",
       "      <td>43295</td>\n",
       "      <td>1</td>\n",
       "      <td>1</td>\n",
       "      <td>Unsweetened Vanilla Almond Milk</td>\n",
       "      <td>91</td>\n",
       "      <td>16</td>\n",
       "    </tr>\n",
       "    <tr>\n",
       "      <th>2</th>\n",
       "      <td>1395902</td>\n",
       "      <td>2449975</td>\n",
       "      <td>83908</td>\n",
       "      <td>prior</td>\n",
       "      <td>9</td>\n",
       "      <td>0</td>\n",
       "      <td>17</td>\n",
       "      <td>10.0</td>\n",
       "      <td>30.0</td>\n",
       "      <td>23228984</td>\n",
       "      <td>43295</td>\n",
       "      <td>1</td>\n",
       "      <td>1</td>\n",
       "      <td>Unsweetened Vanilla Almond Milk</td>\n",
       "      <td>91</td>\n",
       "      <td>16</td>\n",
       "    </tr>\n",
       "    <tr>\n",
       "      <th>3</th>\n",
       "      <td>2065990</td>\n",
       "      <td>2013970</td>\n",
       "      <td>124199</td>\n",
       "      <td>prior</td>\n",
       "      <td>3</td>\n",
       "      <td>1</td>\n",
       "      <td>11</td>\n",
       "      <td>6.0</td>\n",
       "      <td>5.0</td>\n",
       "      <td>19095148</td>\n",
       "      <td>17553</td>\n",
       "      <td>1</td>\n",
       "      <td>1</td>\n",
       "      <td>Lowfat Blueberry Yogurt</td>\n",
       "      <td>120</td>\n",
       "      <td>16</td>\n",
       "    </tr>\n",
       "    <tr>\n",
       "      <th>4</th>\n",
       "      <td>2066024</td>\n",
       "      <td>489825</td>\n",
       "      <td>124199</td>\n",
       "      <td>prior</td>\n",
       "      <td>37</td>\n",
       "      <td>6</td>\n",
       "      <td>16</td>\n",
       "      <td>5.0</td>\n",
       "      <td>14.0</td>\n",
       "      <td>4641539</td>\n",
       "      <td>17553</td>\n",
       "      <td>1</td>\n",
       "      <td>1</td>\n",
       "      <td>Lowfat Blueberry Yogurt</td>\n",
       "      <td>120</td>\n",
       "      <td>16</td>\n",
       "    </tr>\n",
       "  </tbody>\n",
       "</table>\n",
       "</div>"
      ],
      "text/plain": [
       "   Unnamed: 0_x  order_id  user_id eval_set  order_number  order_dow  \\\n",
       "0       1395898   1227141    83908    prior             5          5   \n",
       "1       1395903    457091    83908    prior            10          2   \n",
       "2       1395902   2449975    83908    prior             9          0   \n",
       "3       2065990   2013970   124199    prior             3          1   \n",
       "4       2066024    489825   124199    prior            37          6   \n",
       "\n",
       "   order_hour_of_day  days_since_prior_order  days_to_next_order  \\\n",
       "0                 16                     6.0                24.0   \n",
       "1                 18                    30.0                13.0   \n",
       "2                 17                    10.0                30.0   \n",
       "3                 11                     6.0                 5.0   \n",
       "4                 16                     5.0                14.0   \n",
       "\n",
       "   Unnamed: 0_y  product_id  add_to_cart_order  reordered  \\\n",
       "0      11624022       43295                  1          0   \n",
       "1       4330183       43295                  1          1   \n",
       "2      23228984       43295                  1          1   \n",
       "3      19095148       17553                  1          1   \n",
       "4       4641539       17553                  1          1   \n",
       "\n",
       "                      product_name  aisle_id  department_id  \n",
       "0  Unsweetened Vanilla Almond Milk        91             16  \n",
       "1  Unsweetened Vanilla Almond Milk        91             16  \n",
       "2  Unsweetened Vanilla Almond Milk        91             16  \n",
       "3          Lowfat Blueberry Yogurt       120             16  \n",
       "4          Lowfat Blueberry Yogurt       120             16  "
      ]
     },
     "execution_count": 18,
     "metadata": {},
     "output_type": "execute_result"
    }
   ],
   "source": [
    "train_orders_prod, test_orders_prod = join_products(train_orders, test_orders)\n",
    "train_orders_prod.head()"
   ]
  },
  {
   "cell_type": "markdown",
   "metadata": {},
   "source": [
    "## Product Investigation\n",
    "***"
   ]
  },
  {
   "cell_type": "code",
   "execution_count": 19,
   "metadata": {},
   "outputs": [
    {
     "data": {
      "text/html": [
       "<div>\n",
       "<style scoped>\n",
       "    .dataframe tbody tr th:only-of-type {\n",
       "        vertical-align: middle;\n",
       "    }\n",
       "\n",
       "    .dataframe tbody tr th {\n",
       "        vertical-align: top;\n",
       "    }\n",
       "\n",
       "    .dataframe thead th {\n",
       "        text-align: right;\n",
       "    }\n",
       "</style>\n",
       "<table border=\"1\" class=\"dataframe\">\n",
       "  <thead>\n",
       "    <tr style=\"text-align: right;\">\n",
       "      <th></th>\n",
       "      <th>order_id</th>\n",
       "      <th>days_to_next_order</th>\n",
       "      <th>product_id</th>\n",
       "    </tr>\n",
       "  </thead>\n",
       "  <tbody>\n",
       "    <tr>\n",
       "      <th>0</th>\n",
       "      <td>1227141</td>\n",
       "      <td>24.0</td>\n",
       "      <td>43295</td>\n",
       "    </tr>\n",
       "    <tr>\n",
       "      <th>1</th>\n",
       "      <td>457091</td>\n",
       "      <td>13.0</td>\n",
       "      <td>43295</td>\n",
       "    </tr>\n",
       "    <tr>\n",
       "      <th>2</th>\n",
       "      <td>2449975</td>\n",
       "      <td>30.0</td>\n",
       "      <td>43295</td>\n",
       "    </tr>\n",
       "    <tr>\n",
       "      <th>3</th>\n",
       "      <td>2013970</td>\n",
       "      <td>5.0</td>\n",
       "      <td>17553</td>\n",
       "    </tr>\n",
       "    <tr>\n",
       "      <th>4</th>\n",
       "      <td>489825</td>\n",
       "      <td>14.0</td>\n",
       "      <td>17553</td>\n",
       "    </tr>\n",
       "  </tbody>\n",
       "</table>\n",
       "</div>"
      ],
      "text/plain": [
       "   order_id  days_to_next_order  product_id\n",
       "0   1227141                24.0       43295\n",
       "1    457091                13.0       43295\n",
       "2   2449975                30.0       43295\n",
       "3   2013970                 5.0       17553\n",
       "4    489825                14.0       17553"
      ]
     },
     "execution_count": 19,
     "metadata": {},
     "output_type": "execute_result"
    }
   ],
   "source": [
    "key_cols = key_columns(\"product_id\")\n",
    "wanted_info_train = train_orders_prod[key_cols]\n",
    "wanted_info_test = test_orders_prod[key_cols]\n",
    "\n",
    "wanted_info_train.head()"
   ]
  },
  {
   "cell_type": "markdown",
   "metadata": {},
   "source": [
    "### Add Product Columns - Keeping only products which have been bought more than a number of times"
   ]
  },
  {
   "cell_type": "code",
   "execution_count": 20,
   "metadata": {},
   "outputs": [],
   "source": [
    "# Only doing what products are currenty present in training set and appeared 3 or more times to reduce number of products\n",
    "min_time_prod_appear = 3\n",
    "popular_products_ids = (wanted_info_train\n",
    "                        .groupby(\"product_id\")\n",
    "                        .size()\n",
    "                        .reset_index(name=\"count\")\n",
    "                        .query(\"count >= \" + str(min_time_prod_appear))\n",
    "                        .product_id\n",
    "                        .tolist()\n",
    "                       )\n",
    "popular_products = products[products['product_id'].isin(popular_products_ids)]\n",
    "df_with_product_info_train = add_each_product_to_df(wanted_info_train, popular_products)\n",
    "df_with_product_info_test = add_each_product_to_df(wanted_info_test, popular_products)"
   ]
  },
  {
   "cell_type": "markdown",
   "metadata": {},
   "source": [
    "### Remove No Longer needed columns"
   ]
  },
  {
   "cell_type": "code",
   "execution_count": 21,
   "metadata": {},
   "outputs": [
    {
     "data": {
      "text/html": [
       "<div>\n",
       "<style scoped>\n",
       "    .dataframe tbody tr th:only-of-type {\n",
       "        vertical-align: middle;\n",
       "    }\n",
       "\n",
       "    .dataframe tbody tr th {\n",
       "        vertical-align: top;\n",
       "    }\n",
       "\n",
       "    .dataframe thead th {\n",
       "        text-align: right;\n",
       "    }\n",
       "</style>\n",
       "<table border=\"1\" class=\"dataframe\">\n",
       "  <thead>\n",
       "    <tr style=\"text-align: right;\">\n",
       "      <th></th>\n",
       "      <th>days_to_next_order</th>\n",
       "      <th>Organic Diced Tomatoes</th>\n",
       "      <th>Jack's Special Salsa Medium Hot</th>\n",
       "      <th>Noodle Soup, Shin Cup, Gourmet Spicy</th>\n",
       "      <th>Kidz All Natural Baked Chicken Nuggets</th>\n",
       "      <th>Cherry Pomegranate Greek Yogurt</th>\n",
       "      <th>Whole Wheat Cookies Dark Chocolate</th>\n",
       "      <th>Vitamin C Super Orange Dietary Supplement</th>\n",
       "      <th>Yellow Bell Pepper</th>\n",
       "      <th>Wild Wonders Medley Tomato</th>\n",
       "      <th>...</th>\n",
       "      <th>Raisin Cinnamon Swirl Bread</th>\n",
       "      <th>Cream Cheese Stuffed Jalapenos Poppers</th>\n",
       "      <th>Asparagus</th>\n",
       "      <th>S'mores Chocolate Ice Cream</th>\n",
       "      <th>Large Lemon</th>\n",
       "      <th>Organic Avocado</th>\n",
       "      <th>Sweet Onion</th>\n",
       "      <th>Organic Half &amp; Half</th>\n",
       "      <th>White Grape Juice Cocktail</th>\n",
       "      <th>Cucumber Kirby</th>\n",
       "    </tr>\n",
       "  </thead>\n",
       "  <tbody>\n",
       "    <tr>\n",
       "      <th>0</th>\n",
       "      <td>24.0</td>\n",
       "      <td>0</td>\n",
       "      <td>0</td>\n",
       "      <td>0</td>\n",
       "      <td>0</td>\n",
       "      <td>0</td>\n",
       "      <td>0</td>\n",
       "      <td>0</td>\n",
       "      <td>0</td>\n",
       "      <td>0</td>\n",
       "      <td>...</td>\n",
       "      <td>0</td>\n",
       "      <td>0</td>\n",
       "      <td>0</td>\n",
       "      <td>0</td>\n",
       "      <td>0</td>\n",
       "      <td>0</td>\n",
       "      <td>0</td>\n",
       "      <td>0</td>\n",
       "      <td>0</td>\n",
       "      <td>0</td>\n",
       "    </tr>\n",
       "    <tr>\n",
       "      <th>1</th>\n",
       "      <td>13.0</td>\n",
       "      <td>0</td>\n",
       "      <td>0</td>\n",
       "      <td>0</td>\n",
       "      <td>0</td>\n",
       "      <td>0</td>\n",
       "      <td>0</td>\n",
       "      <td>0</td>\n",
       "      <td>0</td>\n",
       "      <td>0</td>\n",
       "      <td>...</td>\n",
       "      <td>0</td>\n",
       "      <td>0</td>\n",
       "      <td>0</td>\n",
       "      <td>0</td>\n",
       "      <td>0</td>\n",
       "      <td>0</td>\n",
       "      <td>0</td>\n",
       "      <td>0</td>\n",
       "      <td>0</td>\n",
       "      <td>0</td>\n",
       "    </tr>\n",
       "    <tr>\n",
       "      <th>2</th>\n",
       "      <td>30.0</td>\n",
       "      <td>0</td>\n",
       "      <td>0</td>\n",
       "      <td>0</td>\n",
       "      <td>0</td>\n",
       "      <td>0</td>\n",
       "      <td>0</td>\n",
       "      <td>0</td>\n",
       "      <td>0</td>\n",
       "      <td>0</td>\n",
       "      <td>...</td>\n",
       "      <td>0</td>\n",
       "      <td>0</td>\n",
       "      <td>0</td>\n",
       "      <td>0</td>\n",
       "      <td>0</td>\n",
       "      <td>0</td>\n",
       "      <td>0</td>\n",
       "      <td>0</td>\n",
       "      <td>0</td>\n",
       "      <td>0</td>\n",
       "    </tr>\n",
       "    <tr>\n",
       "      <th>3</th>\n",
       "      <td>5.0</td>\n",
       "      <td>0</td>\n",
       "      <td>0</td>\n",
       "      <td>0</td>\n",
       "      <td>0</td>\n",
       "      <td>0</td>\n",
       "      <td>0</td>\n",
       "      <td>0</td>\n",
       "      <td>0</td>\n",
       "      <td>0</td>\n",
       "      <td>...</td>\n",
       "      <td>0</td>\n",
       "      <td>0</td>\n",
       "      <td>0</td>\n",
       "      <td>0</td>\n",
       "      <td>0</td>\n",
       "      <td>0</td>\n",
       "      <td>0</td>\n",
       "      <td>0</td>\n",
       "      <td>0</td>\n",
       "      <td>0</td>\n",
       "    </tr>\n",
       "    <tr>\n",
       "      <th>4</th>\n",
       "      <td>14.0</td>\n",
       "      <td>0</td>\n",
       "      <td>0</td>\n",
       "      <td>0</td>\n",
       "      <td>0</td>\n",
       "      <td>0</td>\n",
       "      <td>0</td>\n",
       "      <td>0</td>\n",
       "      <td>0</td>\n",
       "      <td>0</td>\n",
       "      <td>...</td>\n",
       "      <td>0</td>\n",
       "      <td>0</td>\n",
       "      <td>0</td>\n",
       "      <td>0</td>\n",
       "      <td>0</td>\n",
       "      <td>0</td>\n",
       "      <td>0</td>\n",
       "      <td>1</td>\n",
       "      <td>0</td>\n",
       "      <td>0</td>\n",
       "    </tr>\n",
       "  </tbody>\n",
       "</table>\n",
       "<p>5 rows × 212 columns</p>\n",
       "</div>"
      ],
      "text/plain": [
       "   days_to_next_order  Organic Diced Tomatoes  \\\n",
       "0                24.0                       0   \n",
       "1                13.0                       0   \n",
       "2                30.0                       0   \n",
       "3                 5.0                       0   \n",
       "4                14.0                       0   \n",
       "\n",
       "   Jack's Special Salsa Medium Hot  Noodle Soup, Shin Cup, Gourmet Spicy  \\\n",
       "0                                0                                     0   \n",
       "1                                0                                     0   \n",
       "2                                0                                     0   \n",
       "3                                0                                     0   \n",
       "4                                0                                     0   \n",
       "\n",
       "   Kidz All Natural Baked Chicken Nuggets  Cherry Pomegranate Greek Yogurt  \\\n",
       "0                                       0                                0   \n",
       "1                                       0                                0   \n",
       "2                                       0                                0   \n",
       "3                                       0                                0   \n",
       "4                                       0                                0   \n",
       "\n",
       "   Whole Wheat Cookies Dark Chocolate  \\\n",
       "0                                   0   \n",
       "1                                   0   \n",
       "2                                   0   \n",
       "3                                   0   \n",
       "4                                   0   \n",
       "\n",
       "   Vitamin C Super Orange Dietary Supplement  Yellow Bell Pepper  \\\n",
       "0                                          0                   0   \n",
       "1                                          0                   0   \n",
       "2                                          0                   0   \n",
       "3                                          0                   0   \n",
       "4                                          0                   0   \n",
       "\n",
       "   Wild Wonders Medley Tomato       ...        Raisin Cinnamon Swirl Bread  \\\n",
       "0                           0       ...                                  0   \n",
       "1                           0       ...                                  0   \n",
       "2                           0       ...                                  0   \n",
       "3                           0       ...                                  0   \n",
       "4                           0       ...                                  0   \n",
       "\n",
       "   Cream Cheese Stuffed Jalapenos Poppers  Asparagus  \\\n",
       "0                                       0          0   \n",
       "1                                       0          0   \n",
       "2                                       0          0   \n",
       "3                                       0          0   \n",
       "4                                       0          0   \n",
       "\n",
       "   S'mores Chocolate Ice Cream  Large Lemon  Organic Avocado  Sweet Onion  \\\n",
       "0                            0            0                0            0   \n",
       "1                            0            0                0            0   \n",
       "2                            0            0                0            0   \n",
       "3                            0            0                0            0   \n",
       "4                            0            0                0            0   \n",
       "\n",
       "   Organic Half & Half  White Grape Juice Cocktail  Cucumber Kirby  \n",
       "0                    0                           0               0  \n",
       "1                    0                           0               0  \n",
       "2                    0                           0               0  \n",
       "3                    0                           0               0  \n",
       "4                    1                           0               0  \n",
       "\n",
       "[5 rows x 212 columns]"
      ]
     },
     "execution_count": 21,
     "metadata": {},
     "output_type": "execute_result"
    }
   ],
   "source": [
    "cols_to_drop = [\"product_id\", \"product_name\", \"order_id\", \"department_id\", \"aisle_id\"]\n",
    "item = \"product_name\"\n",
    "df_prod_group_train = group_by_order_in_df(df_with_product_info_train, item, cols_to_drop)\n",
    "df_prod_group_test = group_by_order_in_df(df_with_product_info_test, item, cols_to_drop)\n",
    "\n",
    "df_prod_group_train.head()"
   ]
  },
  {
   "cell_type": "markdown",
   "metadata": {},
   "source": [
    "### Create the Training and Test Data with the outputs"
   ]
  },
  {
   "cell_type": "code",
   "execution_count": 22,
   "metadata": {},
   "outputs": [
    {
     "data": {
      "text/html": [
       "<div>\n",
       "<style scoped>\n",
       "    .dataframe tbody tr th:only-of-type {\n",
       "        vertical-align: middle;\n",
       "    }\n",
       "\n",
       "    .dataframe tbody tr th {\n",
       "        vertical-align: top;\n",
       "    }\n",
       "\n",
       "    .dataframe thead th {\n",
       "        text-align: right;\n",
       "    }\n",
       "</style>\n",
       "<table border=\"1\" class=\"dataframe\">\n",
       "  <thead>\n",
       "    <tr style=\"text-align: right;\">\n",
       "      <th></th>\n",
       "      <th>Organic Diced Tomatoes</th>\n",
       "      <th>Jack's Special Salsa Medium Hot</th>\n",
       "      <th>Noodle Soup, Shin Cup, Gourmet Spicy</th>\n",
       "      <th>Kidz All Natural Baked Chicken Nuggets</th>\n",
       "      <th>Cherry Pomegranate Greek Yogurt</th>\n",
       "      <th>Whole Wheat Cookies Dark Chocolate</th>\n",
       "      <th>Vitamin C Super Orange Dietary Supplement</th>\n",
       "      <th>Yellow Bell Pepper</th>\n",
       "      <th>Wild Wonders Medley Tomato</th>\n",
       "      <th>Dark Chocolate with Whole Hazelnuts</th>\n",
       "      <th>...</th>\n",
       "      <th>Raisin Cinnamon Swirl Bread</th>\n",
       "      <th>Cream Cheese Stuffed Jalapenos Poppers</th>\n",
       "      <th>Asparagus</th>\n",
       "      <th>S'mores Chocolate Ice Cream</th>\n",
       "      <th>Large Lemon</th>\n",
       "      <th>Organic Avocado</th>\n",
       "      <th>Sweet Onion</th>\n",
       "      <th>Organic Half &amp; Half</th>\n",
       "      <th>White Grape Juice Cocktail</th>\n",
       "      <th>Cucumber Kirby</th>\n",
       "    </tr>\n",
       "  </thead>\n",
       "  <tbody>\n",
       "    <tr>\n",
       "      <th>0</th>\n",
       "      <td>0</td>\n",
       "      <td>0</td>\n",
       "      <td>0</td>\n",
       "      <td>0</td>\n",
       "      <td>0</td>\n",
       "      <td>0</td>\n",
       "      <td>0</td>\n",
       "      <td>0</td>\n",
       "      <td>0</td>\n",
       "      <td>0</td>\n",
       "      <td>...</td>\n",
       "      <td>0</td>\n",
       "      <td>0</td>\n",
       "      <td>0</td>\n",
       "      <td>0</td>\n",
       "      <td>0</td>\n",
       "      <td>0</td>\n",
       "      <td>0</td>\n",
       "      <td>0</td>\n",
       "      <td>0</td>\n",
       "      <td>0</td>\n",
       "    </tr>\n",
       "    <tr>\n",
       "      <th>1</th>\n",
       "      <td>0</td>\n",
       "      <td>0</td>\n",
       "      <td>0</td>\n",
       "      <td>0</td>\n",
       "      <td>0</td>\n",
       "      <td>0</td>\n",
       "      <td>0</td>\n",
       "      <td>0</td>\n",
       "      <td>0</td>\n",
       "      <td>0</td>\n",
       "      <td>...</td>\n",
       "      <td>0</td>\n",
       "      <td>0</td>\n",
       "      <td>0</td>\n",
       "      <td>0</td>\n",
       "      <td>0</td>\n",
       "      <td>0</td>\n",
       "      <td>0</td>\n",
       "      <td>0</td>\n",
       "      <td>0</td>\n",
       "      <td>0</td>\n",
       "    </tr>\n",
       "    <tr>\n",
       "      <th>2</th>\n",
       "      <td>0</td>\n",
       "      <td>0</td>\n",
       "      <td>0</td>\n",
       "      <td>0</td>\n",
       "      <td>0</td>\n",
       "      <td>0</td>\n",
       "      <td>0</td>\n",
       "      <td>0</td>\n",
       "      <td>0</td>\n",
       "      <td>0</td>\n",
       "      <td>...</td>\n",
       "      <td>0</td>\n",
       "      <td>0</td>\n",
       "      <td>0</td>\n",
       "      <td>0</td>\n",
       "      <td>0</td>\n",
       "      <td>0</td>\n",
       "      <td>0</td>\n",
       "      <td>0</td>\n",
       "      <td>0</td>\n",
       "      <td>0</td>\n",
       "    </tr>\n",
       "    <tr>\n",
       "      <th>3</th>\n",
       "      <td>0</td>\n",
       "      <td>0</td>\n",
       "      <td>0</td>\n",
       "      <td>0</td>\n",
       "      <td>0</td>\n",
       "      <td>0</td>\n",
       "      <td>0</td>\n",
       "      <td>0</td>\n",
       "      <td>0</td>\n",
       "      <td>0</td>\n",
       "      <td>...</td>\n",
       "      <td>0</td>\n",
       "      <td>0</td>\n",
       "      <td>0</td>\n",
       "      <td>0</td>\n",
       "      <td>0</td>\n",
       "      <td>0</td>\n",
       "      <td>0</td>\n",
       "      <td>0</td>\n",
       "      <td>0</td>\n",
       "      <td>0</td>\n",
       "    </tr>\n",
       "    <tr>\n",
       "      <th>4</th>\n",
       "      <td>0</td>\n",
       "      <td>0</td>\n",
       "      <td>0</td>\n",
       "      <td>0</td>\n",
       "      <td>0</td>\n",
       "      <td>0</td>\n",
       "      <td>0</td>\n",
       "      <td>0</td>\n",
       "      <td>0</td>\n",
       "      <td>0</td>\n",
       "      <td>...</td>\n",
       "      <td>0</td>\n",
       "      <td>0</td>\n",
       "      <td>0</td>\n",
       "      <td>0</td>\n",
       "      <td>0</td>\n",
       "      <td>0</td>\n",
       "      <td>0</td>\n",
       "      <td>1</td>\n",
       "      <td>0</td>\n",
       "      <td>0</td>\n",
       "    </tr>\n",
       "  </tbody>\n",
       "</table>\n",
       "<p>5 rows × 211 columns</p>\n",
       "</div>"
      ],
      "text/plain": [
       "   Organic Diced Tomatoes  Jack's Special Salsa Medium Hot  \\\n",
       "0                       0                                0   \n",
       "1                       0                                0   \n",
       "2                       0                                0   \n",
       "3                       0                                0   \n",
       "4                       0                                0   \n",
       "\n",
       "   Noodle Soup, Shin Cup, Gourmet Spicy  \\\n",
       "0                                     0   \n",
       "1                                     0   \n",
       "2                                     0   \n",
       "3                                     0   \n",
       "4                                     0   \n",
       "\n",
       "   Kidz All Natural Baked Chicken Nuggets  Cherry Pomegranate Greek Yogurt  \\\n",
       "0                                       0                                0   \n",
       "1                                       0                                0   \n",
       "2                                       0                                0   \n",
       "3                                       0                                0   \n",
       "4                                       0                                0   \n",
       "\n",
       "   Whole Wheat Cookies Dark Chocolate  \\\n",
       "0                                   0   \n",
       "1                                   0   \n",
       "2                                   0   \n",
       "3                                   0   \n",
       "4                                   0   \n",
       "\n",
       "   Vitamin C Super Orange Dietary Supplement  Yellow Bell Pepper  \\\n",
       "0                                          0                   0   \n",
       "1                                          0                   0   \n",
       "2                                          0                   0   \n",
       "3                                          0                   0   \n",
       "4                                          0                   0   \n",
       "\n",
       "   Wild Wonders Medley Tomato  Dark Chocolate with Whole Hazelnuts  \\\n",
       "0                           0                                    0   \n",
       "1                           0                                    0   \n",
       "2                           0                                    0   \n",
       "3                           0                                    0   \n",
       "4                           0                                    0   \n",
       "\n",
       "        ...        Raisin Cinnamon Swirl Bread  \\\n",
       "0       ...                                  0   \n",
       "1       ...                                  0   \n",
       "2       ...                                  0   \n",
       "3       ...                                  0   \n",
       "4       ...                                  0   \n",
       "\n",
       "   Cream Cheese Stuffed Jalapenos Poppers  Asparagus  \\\n",
       "0                                       0          0   \n",
       "1                                       0          0   \n",
       "2                                       0          0   \n",
       "3                                       0          0   \n",
       "4                                       0          0   \n",
       "\n",
       "   S'mores Chocolate Ice Cream  Large Lemon  Organic Avocado  Sweet Onion  \\\n",
       "0                            0            0                0            0   \n",
       "1                            0            0                0            0   \n",
       "2                            0            0                0            0   \n",
       "3                            0            0                0            0   \n",
       "4                            0            0                0            0   \n",
       "\n",
       "   Organic Half & Half  White Grape Juice Cocktail  Cucumber Kirby  \n",
       "0                    0                           0               0  \n",
       "1                    0                           0               0  \n",
       "2                    0                           0               0  \n",
       "3                    0                           0               0  \n",
       "4                    1                           0               0  \n",
       "\n",
       "[5 rows x 211 columns]"
      ]
     },
     "execution_count": 22,
     "metadata": {},
     "output_type": "execute_result"
    }
   ],
   "source": [
    "X_train, y_train, X_test, y_test = split_data_to_features_and_value(df_prod_group_train, df_prod_group_test)\n",
    "# Where X are the features and Y is the days to next order (value trying to predict)\n",
    "X_train.head()"
   ]
  },
  {
   "cell_type": "markdown",
   "metadata": {},
   "source": [
    "### Create model using the training data"
   ]
  },
  {
   "cell_type": "code",
   "execution_count": 23,
   "metadata": {},
   "outputs": [
    {
     "data": {
      "text/plain": [
       "15.058388157894736"
      ]
     },
     "execution_count": 23,
     "metadata": {},
     "output_type": "execute_result"
    }
   ],
   "source": [
    "prod_model = linear_model.LinearRegression()\n",
    "prod_model.fit(X_train, y_train)\n",
    "prod_model.intercept_"
   ]
  },
  {
   "cell_type": "markdown",
   "metadata": {},
   "source": [
    "### Score the model based on training"
   ]
  },
  {
   "cell_type": "code",
   "execution_count": 24,
   "metadata": {},
   "outputs": [
    {
     "data": {
      "text/plain": [
       "0.8305176930023348"
      ]
     },
     "execution_count": 24,
     "metadata": {},
     "output_type": "execute_result"
    }
   ],
   "source": [
    "prod_model.score(X_train, y_train)"
   ]
  },
  {
   "cell_type": "markdown",
   "metadata": {},
   "source": [
    "This appears to be a reasonable number but using the training data to test as a first pass will not show much until we test the training data"
   ]
  },
  {
   "cell_type": "markdown",
   "metadata": {},
   "source": [
    "### Score the model based on testing data"
   ]
  },
  {
   "cell_type": "code",
   "execution_count": 25,
   "metadata": {},
   "outputs": [
    {
     "data": {
      "text/plain": [
       "-2.1235218293086456e+26"
      ]
     },
     "execution_count": 25,
     "metadata": {},
     "output_type": "execute_result"
    }
   ],
   "source": [
    "prod_model.score(X_test, y_test)"
   ]
  },
  {
   "cell_type": "markdown",
   "metadata": {},
   "source": [
    "As can be seen this is a very large negative number, meaning the model is very bad and fits the training data too much"
   ]
  },
  {
   "cell_type": "markdown",
   "metadata": {},
   "source": [
    "### Best Feature of the Model by Train"
   ]
  },
  {
   "cell_type": "code",
   "execution_count": 26,
   "metadata": {},
   "outputs": [
    {
     "data": {
      "text/plain": [
       "(0.12098062321299985, '2% Reduced Fat Organic Milk')"
      ]
     },
     "execution_count": 26,
     "metadata": {},
     "output_type": "execute_result"
    }
   ],
   "source": [
    "find_best_feature(X_train, y_train, X_train, y_train)"
   ]
  },
  {
   "cell_type": "markdown",
   "metadata": {},
   "source": [
    "Milk is the most popular product so this makes sense"
   ]
  },
  {
   "cell_type": "markdown",
   "metadata": {},
   "source": [
    "### Best Feature of the Model by Test"
   ]
  },
  {
   "cell_type": "code",
   "execution_count": 27,
   "metadata": {},
   "outputs": [
    {
     "data": {
      "text/plain": [
       "(0.25004016955587693, '2% Reduced Fat Organic Milk')"
      ]
     },
     "execution_count": 27,
     "metadata": {},
     "output_type": "execute_result"
    }
   ],
   "source": [
    "find_best_feature(X_train, y_train, X_test, y_test)"
   ]
  },
  {
   "cell_type": "markdown",
   "metadata": {},
   "source": [
    "Again Milk is the most popular product so this makes sense, however as the model generated will be different run to run, this may not be milk."
   ]
  },
  {
   "cell_type": "markdown",
   "metadata": {},
   "source": [
    "### Find best Model, Score by training"
   ]
  },
  {
   "cell_type": "code",
   "execution_count": 28,
   "metadata": {},
   "outputs": [
    {
     "name": "stdout",
     "output_type": "stream",
     "text": [
      "Best Score : 0.8365780135979499 with 210 features\n",
      "Score with best model using testing data : -6.074232761249478e+24\n"
     ]
    }
   ],
   "source": [
    "best_features_train, best_score_train, model_scores_train = order_best_features_and_score(X_train, y_train, X_train, y_train, 1.0)\n",
    "print(\"Best Score :\", best_score_train, \"with\", len(best_features_train), \"features\")\n",
    "\n",
    "best_prod_model_train = linear_model.LinearRegression()\n",
    "best_prod_model_train.fit(X_train[best_features_train], y_train)\n",
    "\n",
    "test_score_with_best = best_prod_model_train.score(X_test[best_features_train], y_test)\n",
    "print(\"Score with best model using testing data :\", test_score_with_best)"
   ]
  },
  {
   "cell_type": "markdown",
   "metadata": {},
   "source": [
    "As can be seen the model is terrible (way too much variance) so we need to adjust the score to improve this"
   ]
  },
  {
   "cell_type": "markdown",
   "metadata": {},
   "source": [
    "### Training R Squared Plot for Varying feature Numbers"
   ]
  },
  {
   "cell_type": "code",
   "execution_count": 29,
   "metadata": {},
   "outputs": [
    {
     "data": {
      "image/png": "[encoded data removed]",
      "text/plain": [
       "<matplotlib.figure.Figure at 0x1a113a27f0>"
      ]
     },
     "metadata": {},
     "output_type": "display_data"
    }
   ],
   "source": [
    "plt.title(\"Train Score versus features\")\n",
    "plt.xlabel('Number of features') \n",
    "plt.ylabel('R squared')\n",
    "plt.plot(model_scores_train)\n",
    "plt.show()"
   ]
  },
  {
   "cell_type": "markdown",
   "metadata": {},
   "source": [
    "It can be seen as the Number of Feature increase, the better training model performs, this makes sense as we are overfitting the data so the more data we can give it when testing against the training data, the closer it will get to 1"
   ]
  },
  {
   "cell_type": "markdown",
   "metadata": {},
   "source": [
    "### Find best Model, Score by testing"
   ]
  },
  {
   "cell_type": "code",
   "execution_count": 31,
   "metadata": {},
   "outputs": [
    {
     "name": "stdout",
     "output_type": "stream",
     "text": [
      "Best Score : 0.38813230814885574 with 18 features\n",
      "Score with best model using training data to test : 0.1761713377190769\n"
     ]
    }
   ],
   "source": [
    "best_features_test, best_score_test, model_scores_test = order_best_features_and_score(X_train, y_train, X_test, y_test, 1)\n",
    "print(\"Best Score :\", best_score_test, \"with\", len(best_features_test), \"features\")\n",
    "\n",
    "best_prod_model_test = linear_model.LinearRegression()\n",
    "best_prod_model_test.fit(X_train[best_features_test], y_train)\n",
    "\n",
    "train_score_with_best = best_prod_model_test.score(X_train[best_features_test], y_train)\n",
    "print(\"Score with best model using training data to test :\", train_score_with_best)"
   ]
  },
  {
   "cell_type": "markdown",
   "metadata": {},
   "source": [
    "This is very inverse logic. Find the best scoring model made via the training data with certain features/products with the test data being used to score. From this model, score the training data also and see how it performs. \n",
    "\n",
    "As can be seen it performs best for the testing data (0.388) and less than half that score for the training data (0.176). Overall it produced more accurate results than that of using the training data only to score then testing the test data off the best model, but the issue now is the test data was used to pick the best model so may now be fitting the test data to the model and the training data scored poorly (still above 0) against the model it was used to create."
   ]
  },
  {
   "cell_type": "markdown",
   "metadata": {},
   "source": [
    "### Testing R Squared Plot for Varying feature Numbers"
   ]
  },
  {
   "cell_type": "code",
   "execution_count": 32,
   "metadata": {},
   "outputs": [
    {
     "data": {
      "image/png": "[encoded data removed]",
      "text/plain": [
       "<matplotlib.figure.Figure at 0x1a0f8f82b0>"
      ]
     },
     "metadata": {},
     "output_type": "display_data"
    }
   ],
   "source": [
    "plt.title(\"Test Score versus features\")\n",
    "plt.xlabel('Number of features') \n",
    "plt.ylabel('R squared')\n",
    "plt.plot(model_scores_test)\n",
    "plt.show()"
   ]
  },
  {
   "cell_type": "markdown",
   "metadata": {},
   "source": [
    "As can be seen from the graph,the score is in the factor of 10^26 which is huge so as a result we cannot see when the score is above 0, lets take a smaller sample of them. As the score drops down dramatically at 150 but the graph may change depending on models generated so we will pick 40 as the maximum number of score to view."
   ]
  },
  {
   "cell_type": "code",
   "execution_count": 37,
   "metadata": {},
   "outputs": [
    {
     "data": {
      "image/png": "[encoded data removed]",
      "text/plain": [
       "<matplotlib.figure.Figure at 0x1a0f52add8>"
      ]
     },
     "metadata": {},
     "output_type": "display_data"
    }
   ],
   "source": [
    "plt.title(\"Test Score versus features - Reduced Entries\")\n",
    "plt.xlabel('Number of features') \n",
    "plt.ylabel('R squared')\n",
    "plt.plot(model_scores_test[:40])\n",
    "plt.show()"
   ]
  },
  {
   "cell_type": "markdown",
   "metadata": {},
   "source": [
    "The models appear to perform the best when the have between 15 and 20 features, this depends on the features and also as the models will change with numerous run this graph may change but the point below should still hold.\n",
    "\n",
    "An issue we have here is that we are using the testing data to find the best model for it, which means we are overfitting the solution to the test data, ideally we should create a model and ensure it has a good score with its own training data then use the testing data to score that single model"
   ]
  },
  {
   "cell_type": "markdown",
   "metadata": {},
   "source": [
    "### PCA Investigation"
   ]
  },
  {
   "cell_type": "code",
   "execution_count": 41,
   "metadata": {},
   "outputs": [
    {
     "name": "stdout",
     "output_type": "stream",
     "text": [
      "Score with training data : 0.44581863183061865 . Score with testing data : 0.2025354760876913\n"
     ]
    }
   ],
   "source": [
    "# Fit on training set only.\n",
    "scaler.fit(X_train)\n",
    "\n",
    "\n",
    "X_train_scale = scaler.transform(X_train)\n",
    "X_test_scale = scaler.transform(X_test)\n",
    "\n",
    "# Make an instance of the Model \n",
    "variance = 0.8 # 0.8 means keep 80% of the variance\n",
    "pca = PCA(variance)\n",
    "pca.fit(X_train_scale)\n",
    "\n",
    "X_train_pca = pca.transform(X_train_scale)\n",
    "X_test_pca = pca.transform(X_test_scale)\n",
    "\n",
    "model = linear_model.LinearRegression()\n",
    "model.fit(X_train_pca, y_train)\n",
    "pca_train_score = model.score(X_train_pca, y_train)\n",
    "pca_test_score = model.score(X_test_pca, y_test)\n",
    "# Some References\n",
    "#https://stats.stackexchange.com/questions/82050/principal-component-analysis-and-regression-in-python\n",
    "#https://towardsdatascience.com/pca-using-python-scikit-learn-e653f8989e60\n",
    "\n",
    "print(\"Score with training data :\", pca_train_score, \". Score with testing data :\", pca_test_score)"
   ]
  },
  {
   "cell_type": "markdown",
   "metadata": {},
   "source": [
    "Though the score are low here, 0.45 for training and 0.2 for testing, they are still the best we have seen thus far"
   ]
  },
  {
   "cell_type": "markdown",
   "metadata": {},
   "source": [
    "## Aisle Rollup\n",
    "***"
   ]
  },
  {
   "cell_type": "markdown",
   "metadata": {},
   "source": [
    "### Extract Desired Columns"
   ]
  },
  {
   "cell_type": "code",
   "execution_count": null,
   "metadata": {},
   "outputs": [],
   "source": [
    "key_cols = key_columns(\"aisle_id\")\n",
    "wanted_info_train = train_orders_prod[key_cols]\n",
    "wanted_info_test = test_orders_prod[key_cols]\n",
    "\n",
    "wanted_info_train.head()"
   ]
  },
  {
   "cell_type": "markdown",
   "metadata": {},
   "source": [
    "### Add the Aisle Columns"
   ]
  },
  {
   "cell_type": "code",
   "execution_count": null,
   "metadata": {},
   "outputs": [],
   "source": [
    "df_with_aisle_info_train = add_each_aisle_to_df(wanted_info_train)\n",
    "df_with_aisle_info_test = add_each_aisle_to_df(wanted_info_test)\n",
    "\n",
    "df_with_aisle_info_train.head()"
   ]
  },
  {
   "cell_type": "markdown",
   "metadata": {},
   "source": [
    "### Populate the Aisle Columns"
   ]
  },
  {
   "cell_type": "code",
   "execution_count": null,
   "metadata": {},
   "outputs": [],
   "source": [
    "# Aggregates the data so we have days to next order with the aisles required checked\n",
    "cols_to_drop = [\"aisle\", \"aisle_id\", \"order_id\"]\n",
    "item = \"aisle\"\n",
    "df_aisle_group_train = group_by_order_in_df(df_with_aisle_info_train, item, cols_to_drop)\n",
    "df_aisle_group_test = group_by_order_in_df(df_with_aisle_info_test, item, cols_to_drop)\n",
    "\n",
    "df_aisle_group_train.head()"
   ]
  },
  {
   "cell_type": "markdown",
   "metadata": {},
   "source": [
    "### Preparing the data for modelling"
   ]
  },
  {
   "cell_type": "code",
   "execution_count": null,
   "metadata": {},
   "outputs": [],
   "source": [
    "X_train, y_train, X_test, y_test = split_data_to_features_and_value(df_aisle_group_train, df_aisle_group_test)\n",
    "# Where X are the features and Y is the days to next order (value trying to predict)\n",
    "X_train.head()"
   ]
  },
  {
   "cell_type": "markdown",
   "metadata": {},
   "source": [
    "### Generate the Model"
   ]
  },
  {
   "cell_type": "code",
   "execution_count": null,
   "metadata": {},
   "outputs": [],
   "source": [
    "model = linear_model.LinearRegression()\n",
    "model.fit(X_train, y_train)\n",
    "model.intercept_"
   ]
  },
  {
   "cell_type": "markdown",
   "metadata": {},
   "source": [
    "### Find the best feature/aisle"
   ]
  },
  {
   "cell_type": "code",
   "execution_count": null,
   "metadata": {},
   "outputs": [],
   "source": [
    "find_best_feature(X_train, y_train, X_test, y_test)"
   ]
  },
  {
   "cell_type": "markdown",
   "metadata": {},
   "source": [
    "### Find best features in Order and calculate scores"
   ]
  },
  {
   "cell_type": "code",
   "execution_count": null,
   "metadata": {},
   "outputs": [],
   "source": [
    "best_features, best_score, model_scores = order_best_features_and_score(X_train, y_train, X_test, y_test, 1)\n",
    "print(\"Best Score :\", best_score)\n",
    "print(best_features)"
   ]
  },
  {
   "cell_type": "code",
   "execution_count": null,
   "metadata": {},
   "outputs": [],
   "source": [
    "plt.title(\"Score versus features\")\n",
    "plt.xlabel('Number of features') \n",
    "plt.ylabel('R squared')\n",
    "plt.plot(model_scores)\n",
    "plt.show()"
   ]
  },
  {
   "cell_type": "code",
   "execution_count": null,
   "metadata": {},
   "outputs": [],
   "source": [
    "nbfs, nbs, model_scores = order_best_features_and_score(X_train[best_features], y_train, X_test[best_features], y_test, 1)\n",
    "print(\"Best Score :\", nbs)\n",
    "print(nbfs)"
   ]
  },
  {
   "cell_type": "code",
   "execution_count": null,
   "metadata": {},
   "outputs": [],
   "source": [
    "plt.title(\"Score versus features\")\n",
    "plt.xlabel('Number of features') \n",
    "plt.ylabel('R squared')\n",
    "plt.plot(model_scores)\n",
    "plt.show()"
   ]
  },
  {
   "cell_type": "code",
   "execution_count": null,
   "metadata": {},
   "outputs": [],
   "source": []
  },
  {
   "cell_type": "code",
   "execution_count": null,
   "metadata": {},
   "outputs": [],
   "source": [
    "nnbfs, nnbs, model_scores = order_best_features_and_score(X_train[best_features], y_train, X_train[best_features], y_train, 1)\n",
    "print(\"New Best Score :\", nnbs)\n",
    "print(nnbfs)"
   ]
  },
  {
   "cell_type": "code",
   "execution_count": null,
   "metadata": {},
   "outputs": [],
   "source": [
    "plt.title(\"Score versus features\")\n",
    "plt.xlabel('Number of features') \n",
    "plt.ylabel('R squared')\n",
    "plt.plot(model_scores)\n",
    "plt.show()"
   ]
  },
  {
   "cell_type": "markdown",
   "metadata": {},
   "source": [
    "### Specific User Investigation"
   ]
  },
  {
   "cell_type": "code",
   "execution_count": null,
   "metadata": {},
   "outputs": [],
   "source": [
    "# For the User\n",
    "train_orders_prod, test_orders_prod = join_products(user_train_orders, user_test_orders)\n",
    "wanted_info_train = train_orders_prod[key_cols]\n",
    "wanted_info_test = test_orders_prod[key_cols]\n",
    "df_with_aisle_info_train = add_each_aisle_to_df(wanted_info_train)\n",
    "df_with_aisle_info_test = add_each_aisle_to_df(wanted_info_test)\n",
    "cols_to_drop = [\"aisle\", \"aisle_id\", \"order_id\"]\n",
    "item = \"aisle\"\n",
    "df_aisle_group_train = group_by_order_in_df(df_with_aisle_info_train, item, cols_to_drop)\n",
    "df_aisle_group_test = group_by_order_in_df(df_with_aisle_info_test, item, cols_to_drop)\n",
    "X_train, y_train, X_test, y_test = split_data_to_features_and_value(df_aisle_group_train, df_aisle_group_test)\n",
    "best_features, best_score, model_scores = order_best_features_and_score(X_train, y_train, X_test, y_test, 1)\n",
    "print(\"Best Score :\", best_score)\n",
    "print(best_features)"
   ]
  },
  {
   "cell_type": "code",
   "execution_count": null,
   "metadata": {},
   "outputs": [],
   "source": [
    "plt.title(\"Score versus features\")\n",
    "plt.xlabel('Number of features') \n",
    "plt.ylabel('R squared')\n",
    "plt.plot(model_scores)\n",
    "plt.show()"
   ]
  },
  {
   "cell_type": "code",
   "execution_count": null,
   "metadata": {},
   "outputs": [],
   "source": [
    "best_features, best_score, model_scores = order_best_features_and_score(X_train[best_features], y_train, X_test[best_features], y_test, 1)\n",
    "print(\"Best Score :\", best_score)\n",
    "print(best_features)"
   ]
  },
  {
   "cell_type": "code",
   "execution_count": null,
   "metadata": {},
   "outputs": [],
   "source": [
    "plt.title(\"Score versus features\")\n",
    "plt.xlabel('Number of features') \n",
    "plt.ylabel('R squared')\n",
    "plt.plot(model_scores)\n",
    "plt.show()"
   ]
  },
  {
   "cell_type": "code",
   "execution_count": null,
   "metadata": {},
   "outputs": [],
   "source": []
  },
  {
   "cell_type": "code",
   "execution_count": null,
   "metadata": {},
   "outputs": [],
   "source": []
  },
  {
   "cell_type": "code",
   "execution_count": null,
   "metadata": {},
   "outputs": [],
   "source": [
    "# NOW WE WANT TO USE PCA/REGULARISATION AND REMOVE SOME UNNEEDED INFO/AISLES"
   ]
  },
  {
   "cell_type": "code",
   "execution_count": null,
   "metadata": {},
   "outputs": [],
   "source": [
    "# DONT FORGET TO MEAN CENTRE"
   ]
  },
  {
   "cell_type": "code",
   "execution_count": null,
   "metadata": {},
   "outputs": [],
   "source": []
  }
 ],
 "metadata": {
  "kernelspec": {
   "display_name": "Python 3",
   "language": "python",
   "name": "python3"
  },
  "language_info": {
   "codemirror_mode": {
    "name": "ipython",
    "version": 3
   },
   "file_extension": ".py",
   "mimetype": "text/x-python",
   "name": "python",
   "nbconvert_exporter": "python",
   "pygments_lexer": "ipython3",
   "version": "3.6.4"
  }
 },
 "nbformat": 4,
 "nbformat_minor": 2
}

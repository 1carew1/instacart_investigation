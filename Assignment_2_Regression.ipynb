{
 "cells": [
  {
   "cell_type": "code",
   "execution_count": 1,
   "metadata": {},
   "outputs": [],
   "source": [
    "%matplotlib inline "
   ]
  },
  {
   "cell_type": "markdown",
   "metadata": {},
   "source": [
    "# Regression\n",
    "***"
   ]
  },
  {
   "cell_type": "markdown",
   "metadata": {},
   "source": [
    "## Table of Contents\n",
    "***\n",
    "* [Aim](#aim)\n",
    "* [Code Setup](#code-setup)\n",
    "* [Product Investigation](#prod-inv)\n",
    "* [Product PCA](#prod-pca)\n",
    "* [Aisle Rollup](#aisle)\n",
    "* [Ridge Regression - Using Products](#ridge)\n",
    "* [Lasso Regression - Using Products](#lasso)\n",
    "* [Comparison Before User Investigation](#compbu)\n",
    "* [User Investigation](#user)\n",
    "* [Comparison After User Investigation](#compau)"
   ]
  },
  {
   "cell_type": "markdown",
   "metadata": {},
   "source": [
    "## Aim and Comments <a class=\"anchor\" id=\"aim\"></a>\n",
    "***\n",
    "\n",
    "The aim of this notebook is to perform Regression on the Instacart Data\n",
    "\n",
    "Just a note on the score, it is R^2, it can be negative as documented here : http://scikit-learn.org/stable/modules/generated/sklearn.metrics.r2_score.html . If negative, the model performs poorly.\n",
    "\n",
    "The LinearRegression is a Least Squares Implementation and are normalised.\n",
    "\n",
    "The graphs should not change by run. The Library used for splitting the data : \"from sklearn.model_selection import train_test_split\" should split the data the same each time due to using \"random_state=42\".\n",
    "\n",
    "Overall this may take a couple of minutes to run, but should be in the range of 1-4 minutes (hardware dependant)."
   ]
  },
  {
   "cell_type": "markdown",
   "metadata": {},
   "source": [
    "## Code Setup <a class=\"anchor\" id=\"code-setup\"></a>\n",
    "***"
   ]
  },
  {
   "cell_type": "markdown",
   "metadata": {},
   "source": [
    "### Constants"
   ]
  },
  {
   "cell_type": "code",
   "execution_count": 2,
   "metadata": {},
   "outputs": [],
   "source": [
    "instacart_dir = \"instacart_2017_05_01/\"\n",
    "my_orders_file = \"my_orders.csv\"\n",
    "products_file = \"products.csv\"\n",
    "aisles_file = \"aisles.csv\"\n",
    "departments_file = \"departments.csv\"\n",
    "orders_products_prior_file = \"my_order_products__prior.csv\"\n",
    "orders_products_train_file = \"my_order_products__train.csv\""
   ]
  },
  {
   "cell_type": "markdown",
   "metadata": {},
   "source": [
    "### Import Libraries"
   ]
  },
  {
   "cell_type": "code",
   "execution_count": 3,
   "metadata": {},
   "outputs": [],
   "source": [
    "import pandas as pd\n",
    "import sys\n",
    "import numpy as np\n",
    "import matplotlib.pyplot as plt\n",
    "plt.rcParams['figure.figsize'] = [12, 6]\n",
    "import seaborn as sns\n",
    "sns.set_style(\"darkgrid\")\n",
    "sns.set_context(\"paper\")\n",
    "from sklearn.model_selection import train_test_split\n",
    "from sklearn import linear_model\n",
    "from sklearn.decomposition import PCA\n",
    "from sklearn.preprocessing import StandardScaler\n",
    "scaler = StandardScaler()\n",
    "from sklearn.linear_model import Ridge\n",
    "from sklearn.linear_model import Lasso"
   ]
  },
  {
   "cell_type": "code",
   "execution_count": 4,
   "metadata": {},
   "outputs": [],
   "source": [
    "def read_csv_file(file_name):\n",
    "    return pd.read_csv(instacart_dir + file_name)"
   ]
  },
  {
   "cell_type": "markdown",
   "metadata": {},
   "source": [
    "### Import the Data"
   ]
  },
  {
   "cell_type": "code",
   "execution_count": 5,
   "metadata": {},
   "outputs": [],
   "source": [
    "orders = read_csv_file(my_orders_file)\n",
    "products = read_csv_file(products_file)\n",
    "aisles = read_csv_file(aisles_file)\n",
    "orders_products_prior = read_csv_file(orders_products_prior_file)\n",
    "orders_products_train = read_csv_file(orders_products_train_file)\n",
    "orders_products = pd.concat([orders_products_prior, orders_products_train])"
   ]
  },
  {
   "cell_type": "code",
   "execution_count": 6,
   "metadata": {},
   "outputs": [],
   "source": [
    "def join_products(train, test):\n",
    "    train_orders_prod = train.merge(orders_products, on=\"order_id\")\n",
    "    train_orders_prod = train_orders_prod.merge(products, on=\"product_id\")\n",
    "\n",
    "    test_orders_prod = test.merge(orders_products, on=\"order_id\")\n",
    "    test_orders_prod = test_orders_prod.merge(products, on=\"product_id\")\n",
    "    \n",
    "    return (train_orders_prod, test_orders_prod)"
   ]
  },
  {
   "cell_type": "code",
   "execution_count": 7,
   "metadata": {},
   "outputs": [],
   "source": [
    "def add_days_to_next_order(order_df):\n",
    "    orders = order_df.copy()\n",
    "    orders[\"days_to_next_order\"] = np.nan\n",
    "    for index, cur_order in orders.iterrows():\n",
    "        next_order_number = cur_order.order_number + 1\n",
    "        user_id = cur_order.user_id\n",
    "        next_order_df = orders.query(\"user_id == \" + str(user_id) + \" and  order_number == \" + str(next_order_number))\n",
    "        if(next_order_df.shape[0] == 1):\n",
    "            next_order = next_order_df.iloc[0]\n",
    "            days_to_next_order = next_order.days_since_prior_order\n",
    "            if(np.isfinite(days_to_next_order)):\n",
    "                orders.loc[index, 'days_to_next_order'] = days_to_next_order\n",
    "    return orders"
   ]
  },
  {
   "cell_type": "code",
   "execution_count": 8,
   "metadata": {},
   "outputs": [],
   "source": [
    "def key_columns(next_one):\n",
    "    list = [\"order_id\", \"days_to_next_order\", next_one]\n",
    "    return list"
   ]
  },
  {
   "cell_type": "code",
   "execution_count": 9,
   "metadata": {},
   "outputs": [],
   "source": [
    "def split_data_to_features_and_value(df_train, df_test):\n",
    "    # Target\n",
    "    y_train = df_train['days_to_next_order'].copy()\n",
    "    X_train = df_train.copy() \n",
    "    # Feature\n",
    "    X_train.drop(['days_to_next_order'], axis=1, inplace=True)\n",
    "\n",
    "    # Testing\n",
    "    y_test = df_test['days_to_next_order'].copy()\n",
    "    X_test = df_test.copy() \n",
    "    # Feature\n",
    "    X_test.drop(['days_to_next_order'], axis=1, inplace=True)\n",
    "    return (X_train, y_train, X_test, y_test)"
   ]
  },
  {
   "cell_type": "code",
   "execution_count": 10,
   "metadata": {},
   "outputs": [],
   "source": [
    "def add_each_aisle_to_df(df):\n",
    "    df_aisles = df.copy().merge(aisles, on=\"aisle_id\")\n",
    "    for index, row in aisles.iterrows():\n",
    "        aisle_name = row.aisle\n",
    "        df_aisles[aisle_name] = 0\n",
    "    return df_aisles"
   ]
  },
  {
   "cell_type": "code",
   "execution_count": 11,
   "metadata": {},
   "outputs": [],
   "source": [
    "def add_each_department_to_df(df):\n",
    "    df_dep = df.copy().merge(departments, on=\"department_id\")\n",
    "    for index, row in departments.iterrows():\n",
    "        department_name = row.department\n",
    "        df_dep[department_name] = 0\n",
    "    return df_dep"
   ]
  },
  {
   "cell_type": "code",
   "execution_count": 12,
   "metadata": {},
   "outputs": [],
   "source": [
    "def add_each_product_to_df(df, popular_products):\n",
    "    df_products = df.copy().merge(products, on=\"product_id\")\n",
    "    for index, row in popular_products.iterrows():\n",
    "        product_name = row.product_name\n",
    "        df_products[product_name] = 0\n",
    "    return df_products"
   ]
  },
  {
   "cell_type": "code",
   "execution_count": 13,
   "metadata": {},
   "outputs": [],
   "source": [
    "def group_by_order_in_df(df_ordered, item_name, cols_to_drop):\n",
    "    # Create new df with only the column names\n",
    "    df = df_ordered.copy()\n",
    "    df.drop(df.index, inplace=True)\n",
    "    order_ids = df_ordered.order_id.unique().tolist()\n",
    "    for order_id in order_ids:\n",
    "        temp_df = df_ordered.query(\"order_id == \" + str(order_id))\n",
    "        # Need a copy as not to modify something we are iterarting over\n",
    "        first_row = temp_df.copy().head(1)\n",
    "        for i, temp_row in temp_df.iterrows():\n",
    "            temp_name = temp_row[item_name]\n",
    "            # If the feature is present, set it to 1\n",
    "            if temp_name in df.columns:\n",
    "                first_row[temp_name] = 1\n",
    "        # Add the aggregated entry\n",
    "        df = pd.concat([df, first_row])\n",
    "    df = df.drop(cols_to_drop, axis=1)\n",
    "    return df    "
   ]
  },
  {
   "cell_type": "code",
   "execution_count": 14,
   "metadata": {},
   "outputs": [],
   "source": [
    "def find_best_feature(X, y, X_test, y_test):\n",
    "    n_features = X.shape[1]\n",
    "    # Not zero as some negative scores can happen\n",
    "    max_score = -100000\n",
    "    max_feature = None\n",
    "    for i in range(n_features):\n",
    "        feature = X.columns[i]\n",
    "        X_subset = X[[feature]]\n",
    "        X_test_subset = X_test[[feature]]\n",
    "        temp_model = linear_model.LinearRegression(normalize=True)\n",
    "        temp_model.fit(X_subset, y)\n",
    "        # R squared metric\n",
    "        temp_model_score = temp_model.score(X_test_subset, y_test)\n",
    "        if temp_model_score > max_score:\n",
    "            max_score = temp_model_score\n",
    "            max_feature = feature\n",
    "    if max_feature is None :\n",
    "        print(\"Issue, max feature not found, size\", n_features)\n",
    "        print(X.columns.values)\n",
    "    return (max_score, max_feature)"
   ]
  },
  {
   "cell_type": "code",
   "execution_count": 15,
   "metadata": {},
   "outputs": [],
   "source": [
    "# This is a very brute force way, computing all model possibilities and the solution with the highest score\n",
    "def order_best_features_and_score(X_train, y_train, X_test, y_test, absolute_max_score):\n",
    "    n_features = X_train.shape[1]\n",
    "    model_scores = [0]\n",
    "    best_features = []\n",
    "    best_score = -10000\n",
    "    X_selection = X_train.copy()\n",
    "    X_test_selection = X_test.copy()\n",
    "    X_subsets = pd.DataFrame(index=X_train.index)\n",
    "    X_test_subsets = pd.DataFrame(index=X_test.index)\n",
    "\n",
    "    for i in range(n_features):\n",
    "        max_score, next_best_feature = find_best_feature(X_selection, y_train, X_test_selection, y_test)\n",
    "\n",
    "        X_subset = X_selection[[next_best_feature]]\n",
    "        X_test_subset = X_test_selection[[next_best_feature]]\n",
    "    \n",
    "        X_subsets[next_best_feature] = X_subset\n",
    "        X_test_subsets[next_best_feature] = X_test_subset\n",
    "        \n",
    "        tem_model = linear_model.LinearRegression(normalize=True)\n",
    "        tem_model.fit(X_subsets, y_train)\n",
    "        tem_model_score = tem_model.score(X_test_subsets, y_test)\n",
    "        model_scores.append(tem_model_score)\n",
    "        \n",
    "        # Want the model to be better by some amount\n",
    "        score_increase_threshold = 0.00001\n",
    "        # Max score there incase we want to limit how good a model is to see if that would prevent variance\n",
    "        if(tem_model_score == absolute_max_score) :\n",
    "            best_score = tem_model_score\n",
    "            best_features = X_subsets.columns.values\n",
    "            break\n",
    "        if (tem_model_score > (best_score + score_increase_threshold)) and (tem_model_score < absolute_max_score) :\n",
    "            best_score = tem_model_score\n",
    "            best_features = X_subsets.columns.values\n",
    "\n",
    "        X_selection.drop([next_best_feature], axis=1, inplace=True)\n",
    "        X_test_selection.drop([next_best_feature], axis=1, inplace=True)\n",
    "    return (best_features, best_score, model_scores)"
   ]
  },
  {
   "cell_type": "markdown",
   "metadata": {},
   "source": [
    "#### Test and training split for all users"
   ]
  },
  {
   "cell_type": "code",
   "execution_count": 16,
   "metadata": {},
   "outputs": [
    {
     "name": "stdout",
     "output_type": "stream",
     "text": [
      "Training size is : 228\n",
      "Testing size is : 58\n"
     ]
    }
   ],
   "source": [
    "test_percentage = 0.2\n",
    "orders = add_days_to_next_order(orders)\n",
    "# Can use this to estimate what would be ordered\n",
    "orders_with_no_next_order = orders[orders['days_to_next_order'].isnull()]\n",
    "# Can split this into train and test\n",
    "orders_with_next_order = orders[~orders['days_to_next_order'].isnull()]\n",
    "train_orders, test_orders = train_test_split(orders_with_next_order, test_size=test_percentage, random_state=42)\n",
    "print(\"Training size is :\", train_orders.shape[0])\n",
    "print(\"Testing size is :\", test_orders.shape[0])"
   ]
  },
  {
   "cell_type": "markdown",
   "metadata": {},
   "source": [
    "#### Test and training split for specific user"
   ]
  },
  {
   "cell_type": "code",
   "execution_count": 17,
   "metadata": {},
   "outputs": [
    {
     "name": "stdout",
     "output_type": "stream",
     "text": [
      "User id for single investigation : 47562\n",
      "Training size for single user is : 70\n",
      "Testing size for single user is is : 18\n"
     ]
    }
   ],
   "source": [
    "count_orders = (orders\n",
    "                .groupby(\"user_id\")\n",
    "                .size()\n",
    "                .reset_index(name=\"count\")\n",
    "                .sort_values(by=['count'], ascending=False)\n",
    "               )\n",
    "# Get the most frequent user as this will have the most data associated with it\n",
    "most_frequeny_user_id =  count_orders.iloc[0].user_id\n",
    "single_user_orders = orders.query(\"user_id == \" + str(most_frequeny_user_id))\n",
    "single_user_orders = add_days_to_next_order(single_user_orders)\n",
    "user_orders_with_next_order = single_user_orders[~single_user_orders['days_to_next_order'].isnull()]\n",
    "user_train_orders, user_test_orders = train_test_split(user_orders_with_next_order, test_size=test_percentage, random_state=42)\n",
    "print(\"User id for single investigation :\", most_frequeny_user_id)\n",
    "print(\"Training size for single user is :\", user_train_orders.shape[0])\n",
    "print(\"Testing size for single user is is :\", user_test_orders.shape[0])"
   ]
  },
  {
   "cell_type": "markdown",
   "metadata": {},
   "source": [
    "### Merge Product and Aisle to the data"
   ]
  },
  {
   "cell_type": "code",
   "execution_count": 18,
   "metadata": {},
   "outputs": [
    {
     "data": {
      "text/html": [
       "<div>\n",
       "<style scoped>\n",
       "    .dataframe tbody tr th:only-of-type {\n",
       "        vertical-align: middle;\n",
       "    }\n",
       "\n",
       "    .dataframe tbody tr th {\n",
       "        vertical-align: top;\n",
       "    }\n",
       "\n",
       "    .dataframe thead th {\n",
       "        text-align: right;\n",
       "    }\n",
       "</style>\n",
       "<table border=\"1\" class=\"dataframe\">\n",
       "  <thead>\n",
       "    <tr style=\"text-align: right;\">\n",
       "      <th></th>\n",
       "      <th>Unnamed: 0_x</th>\n",
       "      <th>order_id</th>\n",
       "      <th>user_id</th>\n",
       "      <th>eval_set</th>\n",
       "      <th>order_number</th>\n",
       "      <th>order_dow</th>\n",
       "      <th>order_hour_of_day</th>\n",
       "      <th>days_since_prior_order</th>\n",
       "      <th>days_to_next_order</th>\n",
       "      <th>Unnamed: 0_y</th>\n",
       "      <th>product_id</th>\n",
       "      <th>add_to_cart_order</th>\n",
       "      <th>reordered</th>\n",
       "      <th>product_name</th>\n",
       "      <th>aisle_id</th>\n",
       "      <th>department_id</th>\n",
       "    </tr>\n",
       "  </thead>\n",
       "  <tbody>\n",
       "    <tr>\n",
       "      <th>0</th>\n",
       "      <td>1179411</td>\n",
       "      <td>3411808</td>\n",
       "      <td>70894</td>\n",
       "      <td>prior</td>\n",
       "      <td>22</td>\n",
       "      <td>0</td>\n",
       "      <td>14</td>\n",
       "      <td>13.0</td>\n",
       "      <td>8.0</td>\n",
       "      <td>32346412</td>\n",
       "      <td>24964</td>\n",
       "      <td>1</td>\n",
       "      <td>1</td>\n",
       "      <td>Organic Garlic</td>\n",
       "      <td>83</td>\n",
       "      <td>4</td>\n",
       "    </tr>\n",
       "    <tr>\n",
       "      <th>1</th>\n",
       "      <td>2065988</td>\n",
       "      <td>573593</td>\n",
       "      <td>124199</td>\n",
       "      <td>prior</td>\n",
       "      <td>1</td>\n",
       "      <td>6</td>\n",
       "      <td>17</td>\n",
       "      <td>NaN</td>\n",
       "      <td>3.0</td>\n",
       "      <td>5434953</td>\n",
       "      <td>24964</td>\n",
       "      <td>10</td>\n",
       "      <td>0</td>\n",
       "      <td>Organic Garlic</td>\n",
       "      <td>83</td>\n",
       "      <td>4</td>\n",
       "    </tr>\n",
       "    <tr>\n",
       "      <th>2</th>\n",
       "      <td>2066017</td>\n",
       "      <td>3312511</td>\n",
       "      <td>124199</td>\n",
       "      <td>prior</td>\n",
       "      <td>30</td>\n",
       "      <td>5</td>\n",
       "      <td>0</td>\n",
       "      <td>2.0</td>\n",
       "      <td>9.0</td>\n",
       "      <td>31405685</td>\n",
       "      <td>24964</td>\n",
       "      <td>6</td>\n",
       "      <td>1</td>\n",
       "      <td>Organic Garlic</td>\n",
       "      <td>83</td>\n",
       "      <td>4</td>\n",
       "    </tr>\n",
       "    <tr>\n",
       "      <th>3</th>\n",
       "      <td>1179394</td>\n",
       "      <td>27068</td>\n",
       "      <td>70894</td>\n",
       "      <td>prior</td>\n",
       "      <td>5</td>\n",
       "      <td>0</td>\n",
       "      <td>17</td>\n",
       "      <td>6.0</td>\n",
       "      <td>0.0</td>\n",
       "      <td>257080</td>\n",
       "      <td>24964</td>\n",
       "      <td>4</td>\n",
       "      <td>0</td>\n",
       "      <td>Organic Garlic</td>\n",
       "      <td>83</td>\n",
       "      <td>4</td>\n",
       "    </tr>\n",
       "    <tr>\n",
       "      <th>4</th>\n",
       "      <td>2066015</td>\n",
       "      <td>2989600</td>\n",
       "      <td>124199</td>\n",
       "      <td>prior</td>\n",
       "      <td>28</td>\n",
       "      <td>3</td>\n",
       "      <td>23</td>\n",
       "      <td>18.0</td>\n",
       "      <td>14.0</td>\n",
       "      <td>28348198</td>\n",
       "      <td>24964</td>\n",
       "      <td>18</td>\n",
       "      <td>1</td>\n",
       "      <td>Organic Garlic</td>\n",
       "      <td>83</td>\n",
       "      <td>4</td>\n",
       "    </tr>\n",
       "  </tbody>\n",
       "</table>\n",
       "</div>"
      ],
      "text/plain": [
       "   Unnamed: 0_x  order_id  user_id eval_set  order_number  order_dow  \\\n",
       "0       1179411   3411808    70894    prior            22          0   \n",
       "1       2065988    573593   124199    prior             1          6   \n",
       "2       2066017   3312511   124199    prior            30          5   \n",
       "3       1179394     27068    70894    prior             5          0   \n",
       "4       2066015   2989600   124199    prior            28          3   \n",
       "\n",
       "   order_hour_of_day  days_since_prior_order  days_to_next_order  \\\n",
       "0                 14                    13.0                 8.0   \n",
       "1                 17                     NaN                 3.0   \n",
       "2                  0                     2.0                 9.0   \n",
       "3                 17                     6.0                 0.0   \n",
       "4                 23                    18.0                14.0   \n",
       "\n",
       "   Unnamed: 0_y  product_id  add_to_cart_order  reordered    product_name  \\\n",
       "0      32346412       24964                  1          1  Organic Garlic   \n",
       "1       5434953       24964                 10          0  Organic Garlic   \n",
       "2      31405685       24964                  6          1  Organic Garlic   \n",
       "3        257080       24964                  4          0  Organic Garlic   \n",
       "4      28348198       24964                 18          1  Organic Garlic   \n",
       "\n",
       "   aisle_id  department_id  \n",
       "0        83              4  \n",
       "1        83              4  \n",
       "2        83              4  \n",
       "3        83              4  \n",
       "4        83              4  "
      ]
     },
     "execution_count": 18,
     "metadata": {},
     "output_type": "execute_result"
    }
   ],
   "source": [
    "train_orders_prod, test_orders_prod = join_products(train_orders, test_orders)\n",
    "train_orders_prod.head()"
   ]
  },
  {
   "cell_type": "markdown",
   "metadata": {},
   "source": [
    "## Product Investigation<a class=\"anchor\" id=\"product-inv\"></a>\n",
    "***"
   ]
  },
  {
   "cell_type": "code",
   "execution_count": 19,
   "metadata": {},
   "outputs": [
    {
     "data": {
      "text/html": [
       "<div>\n",
       "<style scoped>\n",
       "    .dataframe tbody tr th:only-of-type {\n",
       "        vertical-align: middle;\n",
       "    }\n",
       "\n",
       "    .dataframe tbody tr th {\n",
       "        vertical-align: top;\n",
       "    }\n",
       "\n",
       "    .dataframe thead th {\n",
       "        text-align: right;\n",
       "    }\n",
       "</style>\n",
       "<table border=\"1\" class=\"dataframe\">\n",
       "  <thead>\n",
       "    <tr style=\"text-align: right;\">\n",
       "      <th></th>\n",
       "      <th>order_id</th>\n",
       "      <th>days_to_next_order</th>\n",
       "      <th>product_id</th>\n",
       "    </tr>\n",
       "  </thead>\n",
       "  <tbody>\n",
       "    <tr>\n",
       "      <th>0</th>\n",
       "      <td>3411808</td>\n",
       "      <td>8.0</td>\n",
       "      <td>24964</td>\n",
       "    </tr>\n",
       "    <tr>\n",
       "      <th>1</th>\n",
       "      <td>573593</td>\n",
       "      <td>3.0</td>\n",
       "      <td>24964</td>\n",
       "    </tr>\n",
       "    <tr>\n",
       "      <th>2</th>\n",
       "      <td>3312511</td>\n",
       "      <td>9.0</td>\n",
       "      <td>24964</td>\n",
       "    </tr>\n",
       "    <tr>\n",
       "      <th>3</th>\n",
       "      <td>27068</td>\n",
       "      <td>0.0</td>\n",
       "      <td>24964</td>\n",
       "    </tr>\n",
       "    <tr>\n",
       "      <th>4</th>\n",
       "      <td>2989600</td>\n",
       "      <td>14.0</td>\n",
       "      <td>24964</td>\n",
       "    </tr>\n",
       "  </tbody>\n",
       "</table>\n",
       "</div>"
      ],
      "text/plain": [
       "   order_id  days_to_next_order  product_id\n",
       "0   3411808                 8.0       24964\n",
       "1    573593                 3.0       24964\n",
       "2   3312511                 9.0       24964\n",
       "3     27068                 0.0       24964\n",
       "4   2989600                14.0       24964"
      ]
     },
     "execution_count": 19,
     "metadata": {},
     "output_type": "execute_result"
    }
   ],
   "source": [
    "key_cols = key_columns(\"product_id\")\n",
    "wanted_info_train = train_orders_prod[key_cols]\n",
    "wanted_info_test = test_orders_prod[key_cols]\n",
    "\n",
    "wanted_info_train.head()"
   ]
  },
  {
   "cell_type": "markdown",
   "metadata": {},
   "source": [
    "### Add Product Columns - Keeping only products which have been bought more than a number of times"
   ]
  },
  {
   "cell_type": "code",
   "execution_count": 20,
   "metadata": {},
   "outputs": [],
   "source": [
    "# Only doing what products are currenty present in training set and appeared 3 or more times to reduce number of products\n",
    "min_time_prod_appear = 3\n",
    "popular_products_ids = (wanted_info_train\n",
    "                        .groupby(\"product_id\")\n",
    "                        .size()\n",
    "                        .reset_index(name=\"count\")\n",
    "                        .query(\"count >= \" + str(min_time_prod_appear))\n",
    "                        .product_id\n",
    "                        .tolist()\n",
    "                       )\n",
    "popular_products = products[products['product_id'].isin(popular_products_ids)]\n",
    "df_with_product_info_train = add_each_product_to_df(wanted_info_train, popular_products)\n",
    "df_with_product_info_test = add_each_product_to_df(wanted_info_test, popular_products)"
   ]
  },
  {
   "cell_type": "markdown",
   "metadata": {},
   "source": [
    "### Remove No Longer needed columns"
   ]
  },
  {
   "cell_type": "code",
   "execution_count": 21,
   "metadata": {},
   "outputs": [
    {
     "data": {
      "text/html": [
       "<div>\n",
       "<style scoped>\n",
       "    .dataframe tbody tr th:only-of-type {\n",
       "        vertical-align: middle;\n",
       "    }\n",
       "\n",
       "    .dataframe tbody tr th {\n",
       "        vertical-align: top;\n",
       "    }\n",
       "\n",
       "    .dataframe thead th {\n",
       "        text-align: right;\n",
       "    }\n",
       "</style>\n",
       "<table border=\"1\" class=\"dataframe\">\n",
       "  <thead>\n",
       "    <tr style=\"text-align: right;\">\n",
       "      <th></th>\n",
       "      <th>days_to_next_order</th>\n",
       "      <th>Organic Diced Tomatoes</th>\n",
       "      <th>Noodle Soup, Shin Cup, Gourmet Spicy</th>\n",
       "      <th>Kidz All Natural Baked Chicken Nuggets</th>\n",
       "      <th>Cherry Pomegranate Greek Yogurt</th>\n",
       "      <th>Apple Jacks Cereal</th>\n",
       "      <th>Vitamin C Super Orange Dietary Supplement</th>\n",
       "      <th>Yellow Bell Pepper</th>\n",
       "      <th>Wild Wonders Medley Tomato</th>\n",
       "      <th>Dark Chocolate with Whole Hazelnuts</th>\n",
       "      <th>...</th>\n",
       "      <th>Raisin Cinnamon Swirl Bread</th>\n",
       "      <th>Cream Cheese Stuffed Jalapenos Poppers</th>\n",
       "      <th>Asparagus</th>\n",
       "      <th>S'mores Chocolate Ice Cream</th>\n",
       "      <th>Large Lemon</th>\n",
       "      <th>Organic Avocado</th>\n",
       "      <th>Sweet Onion</th>\n",
       "      <th>Organic Half &amp; Half</th>\n",
       "      <th>White Grape Juice Cocktail</th>\n",
       "      <th>Cucumber Kirby</th>\n",
       "    </tr>\n",
       "  </thead>\n",
       "  <tbody>\n",
       "    <tr>\n",
       "      <th>0</th>\n",
       "      <td>8.0</td>\n",
       "      <td>0</td>\n",
       "      <td>0</td>\n",
       "      <td>0</td>\n",
       "      <td>0</td>\n",
       "      <td>0</td>\n",
       "      <td>0</td>\n",
       "      <td>0</td>\n",
       "      <td>0</td>\n",
       "      <td>0</td>\n",
       "      <td>...</td>\n",
       "      <td>0</td>\n",
       "      <td>0</td>\n",
       "      <td>0</td>\n",
       "      <td>0</td>\n",
       "      <td>0</td>\n",
       "      <td>0</td>\n",
       "      <td>0</td>\n",
       "      <td>0</td>\n",
       "      <td>0</td>\n",
       "      <td>0</td>\n",
       "    </tr>\n",
       "    <tr>\n",
       "      <th>1</th>\n",
       "      <td>3.0</td>\n",
       "      <td>0</td>\n",
       "      <td>0</td>\n",
       "      <td>0</td>\n",
       "      <td>0</td>\n",
       "      <td>0</td>\n",
       "      <td>0</td>\n",
       "      <td>0</td>\n",
       "      <td>0</td>\n",
       "      <td>0</td>\n",
       "      <td>...</td>\n",
       "      <td>0</td>\n",
       "      <td>0</td>\n",
       "      <td>0</td>\n",
       "      <td>0</td>\n",
       "      <td>0</td>\n",
       "      <td>0</td>\n",
       "      <td>0</td>\n",
       "      <td>0</td>\n",
       "      <td>0</td>\n",
       "      <td>0</td>\n",
       "    </tr>\n",
       "    <tr>\n",
       "      <th>2</th>\n",
       "      <td>9.0</td>\n",
       "      <td>0</td>\n",
       "      <td>0</td>\n",
       "      <td>0</td>\n",
       "      <td>0</td>\n",
       "      <td>0</td>\n",
       "      <td>0</td>\n",
       "      <td>0</td>\n",
       "      <td>0</td>\n",
       "      <td>0</td>\n",
       "      <td>...</td>\n",
       "      <td>0</td>\n",
       "      <td>0</td>\n",
       "      <td>0</td>\n",
       "      <td>0</td>\n",
       "      <td>0</td>\n",
       "      <td>0</td>\n",
       "      <td>0</td>\n",
       "      <td>0</td>\n",
       "      <td>0</td>\n",
       "      <td>0</td>\n",
       "    </tr>\n",
       "    <tr>\n",
       "      <th>3</th>\n",
       "      <td>0.0</td>\n",
       "      <td>1</td>\n",
       "      <td>0</td>\n",
       "      <td>0</td>\n",
       "      <td>0</td>\n",
       "      <td>0</td>\n",
       "      <td>0</td>\n",
       "      <td>1</td>\n",
       "      <td>0</td>\n",
       "      <td>0</td>\n",
       "      <td>...</td>\n",
       "      <td>0</td>\n",
       "      <td>0</td>\n",
       "      <td>0</td>\n",
       "      <td>0</td>\n",
       "      <td>0</td>\n",
       "      <td>0</td>\n",
       "      <td>0</td>\n",
       "      <td>0</td>\n",
       "      <td>0</td>\n",
       "      <td>0</td>\n",
       "    </tr>\n",
       "    <tr>\n",
       "      <th>4</th>\n",
       "      <td>14.0</td>\n",
       "      <td>0</td>\n",
       "      <td>0</td>\n",
       "      <td>0</td>\n",
       "      <td>0</td>\n",
       "      <td>0</td>\n",
       "      <td>0</td>\n",
       "      <td>0</td>\n",
       "      <td>0</td>\n",
       "      <td>1</td>\n",
       "      <td>...</td>\n",
       "      <td>0</td>\n",
       "      <td>0</td>\n",
       "      <td>0</td>\n",
       "      <td>0</td>\n",
       "      <td>0</td>\n",
       "      <td>0</td>\n",
       "      <td>1</td>\n",
       "      <td>0</td>\n",
       "      <td>0</td>\n",
       "      <td>0</td>\n",
       "    </tr>\n",
       "  </tbody>\n",
       "</table>\n",
       "<p>5 rows × 205 columns</p>\n",
       "</div>"
      ],
      "text/plain": [
       "   days_to_next_order  Organic Diced Tomatoes  \\\n",
       "0                 8.0                       0   \n",
       "1                 3.0                       0   \n",
       "2                 9.0                       0   \n",
       "3                 0.0                       1   \n",
       "4                14.0                       0   \n",
       "\n",
       "   Noodle Soup, Shin Cup, Gourmet Spicy  \\\n",
       "0                                     0   \n",
       "1                                     0   \n",
       "2                                     0   \n",
       "3                                     0   \n",
       "4                                     0   \n",
       "\n",
       "   Kidz All Natural Baked Chicken Nuggets  Cherry Pomegranate Greek Yogurt  \\\n",
       "0                                       0                                0   \n",
       "1                                       0                                0   \n",
       "2                                       0                                0   \n",
       "3                                       0                                0   \n",
       "4                                       0                                0   \n",
       "\n",
       "   Apple Jacks Cereal  Vitamin C Super Orange Dietary Supplement  \\\n",
       "0                   0                                          0   \n",
       "1                   0                                          0   \n",
       "2                   0                                          0   \n",
       "3                   0                                          0   \n",
       "4                   0                                          0   \n",
       "\n",
       "   Yellow Bell Pepper  Wild Wonders Medley Tomato  \\\n",
       "0                   0                           0   \n",
       "1                   0                           0   \n",
       "2                   0                           0   \n",
       "3                   1                           0   \n",
       "4                   0                           0   \n",
       "\n",
       "   Dark Chocolate with Whole Hazelnuts       ...        \\\n",
       "0                                    0       ...         \n",
       "1                                    0       ...         \n",
       "2                                    0       ...         \n",
       "3                                    0       ...         \n",
       "4                                    1       ...         \n",
       "\n",
       "   Raisin Cinnamon Swirl Bread  Cream Cheese Stuffed Jalapenos Poppers  \\\n",
       "0                            0                                       0   \n",
       "1                            0                                       0   \n",
       "2                            0                                       0   \n",
       "3                            0                                       0   \n",
       "4                            0                                       0   \n",
       "\n",
       "   Asparagus  S'mores Chocolate Ice Cream  Large Lemon  Organic Avocado  \\\n",
       "0          0                            0            0                0   \n",
       "1          0                            0            0                0   \n",
       "2          0                            0            0                0   \n",
       "3          0                            0            0                0   \n",
       "4          0                            0            0                0   \n",
       "\n",
       "   Sweet Onion  Organic Half & Half  White Grape Juice Cocktail  \\\n",
       "0            0                    0                           0   \n",
       "1            0                    0                           0   \n",
       "2            0                    0                           0   \n",
       "3            0                    0                           0   \n",
       "4            1                    0                           0   \n",
       "\n",
       "   Cucumber Kirby  \n",
       "0               0  \n",
       "1               0  \n",
       "2               0  \n",
       "3               0  \n",
       "4               0  \n",
       "\n",
       "[5 rows x 205 columns]"
      ]
     },
     "execution_count": 21,
     "metadata": {},
     "output_type": "execute_result"
    }
   ],
   "source": [
    "cols_to_drop = [\"product_id\", \"product_name\", \"order_id\", \"department_id\", \"aisle_id\"]\n",
    "item = \"product_name\"\n",
    "df_prod_group_train = group_by_order_in_df(df_with_product_info_train, item, cols_to_drop)\n",
    "df_prod_group_test = group_by_order_in_df(df_with_product_info_test, item, cols_to_drop)\n",
    "\n",
    "df_prod_group_train.head()"
   ]
  },
  {
   "cell_type": "markdown",
   "metadata": {},
   "source": [
    "### Create the Training and Test Data with the outputs"
   ]
  },
  {
   "cell_type": "code",
   "execution_count": 22,
   "metadata": {},
   "outputs": [
    {
     "data": {
      "text/html": [
       "<div>\n",
       "<style scoped>\n",
       "    .dataframe tbody tr th:only-of-type {\n",
       "        vertical-align: middle;\n",
       "    }\n",
       "\n",
       "    .dataframe tbody tr th {\n",
       "        vertical-align: top;\n",
       "    }\n",
       "\n",
       "    .dataframe thead th {\n",
       "        text-align: right;\n",
       "    }\n",
       "</style>\n",
       "<table border=\"1\" class=\"dataframe\">\n",
       "  <thead>\n",
       "    <tr style=\"text-align: right;\">\n",
       "      <th></th>\n",
       "      <th>Organic Diced Tomatoes</th>\n",
       "      <th>Noodle Soup, Shin Cup, Gourmet Spicy</th>\n",
       "      <th>Kidz All Natural Baked Chicken Nuggets</th>\n",
       "      <th>Cherry Pomegranate Greek Yogurt</th>\n",
       "      <th>Apple Jacks Cereal</th>\n",
       "      <th>Vitamin C Super Orange Dietary Supplement</th>\n",
       "      <th>Yellow Bell Pepper</th>\n",
       "      <th>Wild Wonders Medley Tomato</th>\n",
       "      <th>Dark Chocolate with Whole Hazelnuts</th>\n",
       "      <th>Mountain Spring Water</th>\n",
       "      <th>...</th>\n",
       "      <th>Raisin Cinnamon Swirl Bread</th>\n",
       "      <th>Cream Cheese Stuffed Jalapenos Poppers</th>\n",
       "      <th>Asparagus</th>\n",
       "      <th>S'mores Chocolate Ice Cream</th>\n",
       "      <th>Large Lemon</th>\n",
       "      <th>Organic Avocado</th>\n",
       "      <th>Sweet Onion</th>\n",
       "      <th>Organic Half &amp; Half</th>\n",
       "      <th>White Grape Juice Cocktail</th>\n",
       "      <th>Cucumber Kirby</th>\n",
       "    </tr>\n",
       "  </thead>\n",
       "  <tbody>\n",
       "    <tr>\n",
       "      <th>0</th>\n",
       "      <td>0</td>\n",
       "      <td>0</td>\n",
       "      <td>0</td>\n",
       "      <td>0</td>\n",
       "      <td>0</td>\n",
       "      <td>0</td>\n",
       "      <td>0</td>\n",
       "      <td>0</td>\n",
       "      <td>0</td>\n",
       "      <td>0</td>\n",
       "      <td>...</td>\n",
       "      <td>0</td>\n",
       "      <td>0</td>\n",
       "      <td>0</td>\n",
       "      <td>0</td>\n",
       "      <td>0</td>\n",
       "      <td>0</td>\n",
       "      <td>0</td>\n",
       "      <td>0</td>\n",
       "      <td>0</td>\n",
       "      <td>0</td>\n",
       "    </tr>\n",
       "    <tr>\n",
       "      <th>1</th>\n",
       "      <td>0</td>\n",
       "      <td>0</td>\n",
       "      <td>0</td>\n",
       "      <td>0</td>\n",
       "      <td>0</td>\n",
       "      <td>0</td>\n",
       "      <td>0</td>\n",
       "      <td>0</td>\n",
       "      <td>0</td>\n",
       "      <td>0</td>\n",
       "      <td>...</td>\n",
       "      <td>0</td>\n",
       "      <td>0</td>\n",
       "      <td>0</td>\n",
       "      <td>0</td>\n",
       "      <td>0</td>\n",
       "      <td>0</td>\n",
       "      <td>0</td>\n",
       "      <td>0</td>\n",
       "      <td>0</td>\n",
       "      <td>0</td>\n",
       "    </tr>\n",
       "    <tr>\n",
       "      <th>2</th>\n",
       "      <td>0</td>\n",
       "      <td>0</td>\n",
       "      <td>0</td>\n",
       "      <td>0</td>\n",
       "      <td>0</td>\n",
       "      <td>0</td>\n",
       "      <td>0</td>\n",
       "      <td>0</td>\n",
       "      <td>0</td>\n",
       "      <td>0</td>\n",
       "      <td>...</td>\n",
       "      <td>0</td>\n",
       "      <td>0</td>\n",
       "      <td>0</td>\n",
       "      <td>0</td>\n",
       "      <td>0</td>\n",
       "      <td>0</td>\n",
       "      <td>0</td>\n",
       "      <td>0</td>\n",
       "      <td>0</td>\n",
       "      <td>0</td>\n",
       "    </tr>\n",
       "    <tr>\n",
       "      <th>3</th>\n",
       "      <td>1</td>\n",
       "      <td>0</td>\n",
       "      <td>0</td>\n",
       "      <td>0</td>\n",
       "      <td>0</td>\n",
       "      <td>0</td>\n",
       "      <td>1</td>\n",
       "      <td>0</td>\n",
       "      <td>0</td>\n",
       "      <td>0</td>\n",
       "      <td>...</td>\n",
       "      <td>0</td>\n",
       "      <td>0</td>\n",
       "      <td>0</td>\n",
       "      <td>0</td>\n",
       "      <td>0</td>\n",
       "      <td>0</td>\n",
       "      <td>0</td>\n",
       "      <td>0</td>\n",
       "      <td>0</td>\n",
       "      <td>0</td>\n",
       "    </tr>\n",
       "    <tr>\n",
       "      <th>4</th>\n",
       "      <td>0</td>\n",
       "      <td>0</td>\n",
       "      <td>0</td>\n",
       "      <td>0</td>\n",
       "      <td>0</td>\n",
       "      <td>0</td>\n",
       "      <td>0</td>\n",
       "      <td>0</td>\n",
       "      <td>1</td>\n",
       "      <td>0</td>\n",
       "      <td>...</td>\n",
       "      <td>0</td>\n",
       "      <td>0</td>\n",
       "      <td>0</td>\n",
       "      <td>0</td>\n",
       "      <td>0</td>\n",
       "      <td>0</td>\n",
       "      <td>1</td>\n",
       "      <td>0</td>\n",
       "      <td>0</td>\n",
       "      <td>0</td>\n",
       "    </tr>\n",
       "  </tbody>\n",
       "</table>\n",
       "<p>5 rows × 204 columns</p>\n",
       "</div>"
      ],
      "text/plain": [
       "   Organic Diced Tomatoes  Noodle Soup, Shin Cup, Gourmet Spicy  \\\n",
       "0                       0                                     0   \n",
       "1                       0                                     0   \n",
       "2                       0                                     0   \n",
       "3                       1                                     0   \n",
       "4                       0                                     0   \n",
       "\n",
       "   Kidz All Natural Baked Chicken Nuggets  Cherry Pomegranate Greek Yogurt  \\\n",
       "0                                       0                                0   \n",
       "1                                       0                                0   \n",
       "2                                       0                                0   \n",
       "3                                       0                                0   \n",
       "4                                       0                                0   \n",
       "\n",
       "   Apple Jacks Cereal  Vitamin C Super Orange Dietary Supplement  \\\n",
       "0                   0                                          0   \n",
       "1                   0                                          0   \n",
       "2                   0                                          0   \n",
       "3                   0                                          0   \n",
       "4                   0                                          0   \n",
       "\n",
       "   Yellow Bell Pepper  Wild Wonders Medley Tomato  \\\n",
       "0                   0                           0   \n",
       "1                   0                           0   \n",
       "2                   0                           0   \n",
       "3                   1                           0   \n",
       "4                   0                           0   \n",
       "\n",
       "   Dark Chocolate with Whole Hazelnuts  Mountain Spring Water       ...        \\\n",
       "0                                    0                      0       ...         \n",
       "1                                    0                      0       ...         \n",
       "2                                    0                      0       ...         \n",
       "3                                    0                      0       ...         \n",
       "4                                    1                      0       ...         \n",
       "\n",
       "   Raisin Cinnamon Swirl Bread  Cream Cheese Stuffed Jalapenos Poppers  \\\n",
       "0                            0                                       0   \n",
       "1                            0                                       0   \n",
       "2                            0                                       0   \n",
       "3                            0                                       0   \n",
       "4                            0                                       0   \n",
       "\n",
       "   Asparagus  S'mores Chocolate Ice Cream  Large Lemon  Organic Avocado  \\\n",
       "0          0                            0            0                0   \n",
       "1          0                            0            0                0   \n",
       "2          0                            0            0                0   \n",
       "3          0                            0            0                0   \n",
       "4          0                            0            0                0   \n",
       "\n",
       "   Sweet Onion  Organic Half & Half  White Grape Juice Cocktail  \\\n",
       "0            0                    0                           0   \n",
       "1            0                    0                           0   \n",
       "2            0                    0                           0   \n",
       "3            0                    0                           0   \n",
       "4            1                    0                           0   \n",
       "\n",
       "   Cucumber Kirby  \n",
       "0               0  \n",
       "1               0  \n",
       "2               0  \n",
       "3               0  \n",
       "4               0  \n",
       "\n",
       "[5 rows x 204 columns]"
      ]
     },
     "execution_count": 22,
     "metadata": {},
     "output_type": "execute_result"
    }
   ],
   "source": [
    "X_train, y_train, X_test, y_test = split_data_to_features_and_value(df_prod_group_train, df_prod_group_test)\n",
    "# Where X are the features and Y is the days to next order (value trying to predict)\n",
    "X_train.head()"
   ]
  },
  {
   "cell_type": "markdown",
   "metadata": {},
   "source": [
    "### Create model using the training data"
   ]
  },
  {
   "cell_type": "code",
   "execution_count": 23,
   "metadata": {},
   "outputs": [
    {
     "data": {
      "text/plain": [
       "15.200178179824562"
      ]
     },
     "execution_count": 23,
     "metadata": {},
     "output_type": "execute_result"
    }
   ],
   "source": [
    "prod_model = linear_model.LinearRegression(normalize=True)\n",
    "prod_model.fit(X_train, y_train)\n",
    "prod_model.intercept_"
   ]
  },
  {
   "cell_type": "markdown",
   "metadata": {},
   "source": [
    "### Score the model based on training"
   ]
  },
  {
   "cell_type": "code",
   "execution_count": 24,
   "metadata": {},
   "outputs": [
    {
     "data": {
      "text/plain": [
       "0.8465881076872062"
      ]
     },
     "execution_count": 24,
     "metadata": {},
     "output_type": "execute_result"
    }
   ],
   "source": [
    "prod_model.score(X_train, y_train)"
   ]
  },
  {
   "cell_type": "markdown",
   "metadata": {},
   "source": [
    "This appears to be a reasonable number but using the training data to test as a first pass will not show much until we test the training data"
   ]
  },
  {
   "cell_type": "markdown",
   "metadata": {},
   "source": [
    "### Score the model based on testing data"
   ]
  },
  {
   "cell_type": "code",
   "execution_count": 25,
   "metadata": {},
   "outputs": [
    {
     "data": {
      "text/plain": [
       "-1.181546889449733e+26"
      ]
     },
     "execution_count": 25,
     "metadata": {},
     "output_type": "execute_result"
    }
   ],
   "source": [
    "prod_model.score(X_test, y_test)"
   ]
  },
  {
   "cell_type": "markdown",
   "metadata": {},
   "source": [
    "As can be seen this is a very large negative number, meaning the model is very bad and fits the training data too much"
   ]
  },
  {
   "cell_type": "markdown",
   "metadata": {},
   "source": [
    "### Best Feature of the Model by Train"
   ]
  },
  {
   "cell_type": "code",
   "execution_count": 26,
   "metadata": {},
   "outputs": [
    {
     "data": {
      "text/plain": [
       "(0.15955270199661042, '2% Reduced Fat Organic Milk')"
      ]
     },
     "execution_count": 26,
     "metadata": {},
     "output_type": "execute_result"
    }
   ],
   "source": [
    "find_best_feature(X_train, y_train, X_train, y_train)"
   ]
  },
  {
   "cell_type": "markdown",
   "metadata": {},
   "source": [
    "Milk is the most popular product so this makes sense"
   ]
  },
  {
   "cell_type": "markdown",
   "metadata": {},
   "source": [
    "### Best Feature of the Model by Test"
   ]
  },
  {
   "cell_type": "code",
   "execution_count": 27,
   "metadata": {},
   "outputs": [
    {
     "data": {
      "text/plain": [
       "(0.08570190110364617, '2% Reduced Fat Organic Milk')"
      ]
     },
     "execution_count": 27,
     "metadata": {},
     "output_type": "execute_result"
    }
   ],
   "source": [
    "find_best_feature(X_train, y_train, X_test, y_test)"
   ]
  },
  {
   "cell_type": "markdown",
   "metadata": {},
   "source": [
    "Again Milk is the most popular product in test data also"
   ]
  },
  {
   "cell_type": "markdown",
   "metadata": {},
   "source": [
    "### Find best Model, Score by training"
   ]
  },
  {
   "cell_type": "code",
   "execution_count": 28,
   "metadata": {},
   "outputs": [
    {
     "name": "stdout",
     "output_type": "stream",
     "text": [
      "Best Score : 0.8477036147871766 with 203 features\n",
      "Score with best model using testing data : -70.09544352377077\n"
     ]
    }
   ],
   "source": [
    "best_features_train, best_score_train, model_scores_train = order_best_features_and_score(X_train, y_train, X_train, y_train, 1.0)\n",
    "print(\"Best Score :\", best_score_train, \"with\", len(best_features_train), \"features\")\n",
    "\n",
    "best_prod_model_train = linear_model.LinearRegression(normalize=True)\n",
    "best_prod_model_train.fit(X_train[best_features_train], y_train)\n",
    "\n",
    "test_score_with_best = best_prod_model_train.score(X_test[best_features_train], y_test)\n",
    "print(\"Score with best model using testing data :\", test_score_with_best)"
   ]
  },
  {
   "cell_type": "markdown",
   "metadata": {},
   "source": [
    "As can be seen the model is terrible (way too much variance)"
   ]
  },
  {
   "cell_type": "markdown",
   "metadata": {},
   "source": [
    "### Coefficients of best Train Model Plot"
   ]
  },
  {
   "cell_type": "code",
   "execution_count": 29,
   "metadata": {},
   "outputs": [
    {
     "data": {
      "text/plain": [
       "<matplotlib.axes._subplots.AxesSubplot at 0x10388cbe0>"
      ]
     },
     "execution_count": 29,
     "metadata": {},
     "output_type": "execute_result"
    },
    {
     "data": {
      "image/png": "[encoded data removed]",
      "text/plain": [
       "<matplotlib.figure.Figure at 0x1094a3be0>"
      ]
     },
     "metadata": {},
     "output_type": "display_data"
    }
   ],
   "source": [
    "best_prod_model_train_predictors = X_train[best_features_train].columns\n",
    "best_prod_model_train_coef = pd.Series(best_prod_model_train.coef_,best_prod_model_train_predictors).sort_values()\n",
    "best_prod_model_train_coef.plot(kind='bar', title=\"Best Train Model coefficients\")"
   ]
  },
  {
   "cell_type": "markdown",
   "metadata": {},
   "source": [
    "This graph has quite a number of coefficients so very hard to see what is going on, main thing it shows is that the dimenstionality of the problem probably needs to be reduced and also in some runs there are a few clear dominating terms."
   ]
  },
  {
   "cell_type": "markdown",
   "metadata": {},
   "source": [
    "### Training R Squared Plot for Varying feature Numbers"
   ]
  },
  {
   "cell_type": "code",
   "execution_count": 30,
   "metadata": {},
   "outputs": [
    {
     "data": {
      "image/png": "[encoded data removed]",
      "text/plain": [
       "<matplotlib.figure.Figure at 0x1094ef080>"
      ]
     },
     "metadata": {},
     "output_type": "display_data"
    }
   ],
   "source": [
    "plt.title(\"Train Score versus features\")\n",
    "plt.xlabel('Number of features') \n",
    "plt.ylabel('R squared')\n",
    "plt.plot(model_scores_train)\n",
    "plt.show()"
   ]
  },
  {
   "cell_type": "markdown",
   "metadata": {},
   "source": [
    "It can be seen as the Number of Feature increase, the better training model performs, this makes sense as we are overfitting the data so the more data we can give it when testing against the training data, the closer it will get to 1"
   ]
  },
  {
   "cell_type": "markdown",
   "metadata": {},
   "source": [
    "### Find best Model, Score by testing"
   ]
  },
  {
   "cell_type": "code",
   "execution_count": 31,
   "metadata": {},
   "outputs": [
    {
     "name": "stdout",
     "output_type": "stream",
     "text": [
      "Best Score : 0.3073352476549729 with 39 features\n",
      "Score with best model using training data to test : 0.33019659647627975\n"
     ]
    }
   ],
   "source": [
    "best_features_test, best_score_test, model_scores_test = order_best_features_and_score(X_train, y_train, X_test, y_test, 1)\n",
    "print(\"Best Score :\", best_score_test, \"with\", len(best_features_test), \"features\")\n",
    "\n",
    "best_prod_model_test = linear_model.LinearRegression(normalize=True)\n",
    "best_prod_model_test.fit(X_train[best_features_test], y_train)\n",
    "\n",
    "train_score_with_best = best_prod_model_test.score(X_train[best_features_test], y_train)\n",
    "print(\"Score with best model using training data to test :\", train_score_with_best)"
   ]
  },
  {
   "cell_type": "markdown",
   "metadata": {},
   "source": [
    "This is very inverse logic. Find the best scoring model made via the training data with certain features/products with the test data being used to score. From this model, score the training data also and see how it performs. \n",
    "\n",
    "As can be seen it performs near equally for both test and train. Overall it produced more accurate results than that of using the training data only to score then testing the test data off the best training model, but the issue now is the test data was used to pick the best model so may now be fitting the test data to the model."
   ]
  },
  {
   "cell_type": "markdown",
   "metadata": {},
   "source": [
    "### Coefficients of best Test Model Plot"
   ]
  },
  {
   "cell_type": "code",
   "execution_count": 32,
   "metadata": {},
   "outputs": [
    {
     "data": {
      "text/plain": [
       "<matplotlib.axes._subplots.AxesSubplot at 0x109d9bd68>"
      ]
     },
     "execution_count": 32,
     "metadata": {},
     "output_type": "execute_result"
    },
    {
     "data": {
      "image/png": "[encoded data removed]",
      "text/plain": [
       "<matplotlib.figure.Figure at 0x109227128>"
      ]
     },
     "metadata": {},
     "output_type": "display_data"
    }
   ],
   "source": [
    "best_prod_model_test_predictors = X_train[best_features_test].columns\n",
    "best_prod_model_test_coef = pd.Series(best_prod_model_test.coef_,best_prod_model_test_predictors).sort_values()\n",
    "best_prod_model_test_coef.plot(kind='bar', title=\"Best Test Model coefficients\")"
   ]
  },
  {
   "cell_type": "markdown",
   "metadata": {},
   "source": [
    "As can be seen there are more negative coefficients than positive coefficients but has many less features than that of the best model obtained by scoring the training data. Also again there are only a few dominating features."
   ]
  },
  {
   "cell_type": "markdown",
   "metadata": {},
   "source": [
    "### Testing R Squared Plot for Varying feature Numbers"
   ]
  },
  {
   "cell_type": "code",
   "execution_count": 33,
   "metadata": {},
   "outputs": [
    {
     "data": {
      "image/png": "[encoded data removed]",
      "text/plain": [
       "<matplotlib.figure.Figure at 0x109d96e48>"
      ]
     },
     "metadata": {},
     "output_type": "display_data"
    }
   ],
   "source": [
    "plt.title(\"Test Score versus features\")\n",
    "plt.xlabel('Number of features') \n",
    "plt.ylabel('R squared')\n",
    "plt.plot(model_scores_test)\n",
    "plt.show()"
   ]
  },
  {
   "cell_type": "markdown",
   "metadata": {},
   "source": [
    "As can be seen from the graph,the score is in the factor of 10^26 which is huge so as a result we cannot see when the score is above 0, lets take a smaller sample of them. As the score drops down dramatically (graphy may be different per run), we will pick 20 as the maximum number of score to view."
   ]
  },
  {
   "cell_type": "code",
   "execution_count": 34,
   "metadata": {},
   "outputs": [
    {
     "data": {
      "image/png": "[encoded data removed]",
      "text/plain": [
       "<matplotlib.figure.Figure at 0x1a17233b38>"
      ]
     },
     "metadata": {},
     "output_type": "display_data"
    }
   ],
   "source": [
    "plt.title(\"Test Score versus features - Reduced Entries\")\n",
    "plt.xlabel('Number of features') \n",
    "plt.ylabel('R squared')\n",
    "plt.plot(model_scores_test[:20])\n",
    "plt.show()"
   ]
  },
  {
   "cell_type": "markdown",
   "metadata": {},
   "source": [
    "The models appear to perform the best when the have between 11 and 14 features.\n",
    "\n",
    "An issue we have here is that we are using the testing data to find the best model for it, which means we are overfitting the solution to the test data, ideally we should create a model and ensure it has a good score with its own training data then use the testing data to score that single model"
   ]
  },
  {
   "cell_type": "markdown",
   "metadata": {},
   "source": [
    "## Product PCA<a class=\"anchor\" id=\"product-pca\"></a>\n",
    "***"
   ]
  },
  {
   "cell_type": "code",
   "execution_count": 35,
   "metadata": {},
   "outputs": [
    {
     "name": "stdout",
     "output_type": "stream",
     "text": [
      "Score with training data : 0.4811945507160911 . Score with testing data : 0.16865733442085784\n"
     ]
    }
   ],
   "source": [
    "# Fit on training set only.\n",
    "# https://towardsdatascience.com/pca-using-python-scikit-learn-e653f8989e60\n",
    "scaler.fit(X_train)\n",
    "\n",
    "\n",
    "X_train_scale = scaler.transform(X_train)\n",
    "X_test_scale = scaler.transform(X_test)\n",
    "\n",
    "# Make an instance of the Model \n",
    "# 0.8 was chosen due to a suck it and see approach as this gave the best scores for the model\n",
    "variance_prod_pca = 0.8 # 0.8 means keep 80% of the variance\n",
    "pca = PCA(variance_prod_pca)\n",
    "pca.fit(X_train_scale)\n",
    "\n",
    "X_train_pca = pca.transform(X_train_scale)\n",
    "X_test_pca = pca.transform(X_test_scale)\n",
    "\n",
    "# Normalise is not set due to the sclaer being used \n",
    "# See : http://scikit-learn.org/stable/modules/generated/sklearn.linear_model.LinearRegression.html\n",
    "pca_model = linear_model.LinearRegression()\n",
    "pca_model.fit(X_train_pca, y_train)\n",
    "pca_train_score = pca_model.score(X_train_pca, y_train)\n",
    "pca_test_score = pca_model.score(X_test_pca, y_test)\n",
    "\n",
    "print(\"Score with training data :\", pca_train_score, \". Score with testing data :\", pca_test_score)"
   ]
  },
  {
   "cell_type": "markdown",
   "metadata": {},
   "source": [
    "The scores are low here, 0.48 for training and 0.17 for testing (as of writing this). One of the best scores we have seen for far for training with a positive testing score."
   ]
  },
  {
   "cell_type": "markdown",
   "metadata": {},
   "source": [
    "## Aisle Rollup<a class=\"anchor\" id=\"aisle\"></a>\n",
    "***"
   ]
  },
  {
   "cell_type": "markdown",
   "metadata": {},
   "source": [
    "### Extract Desired Columns"
   ]
  },
  {
   "cell_type": "code",
   "execution_count": 36,
   "metadata": {},
   "outputs": [
    {
     "data": {
      "text/html": [
       "<div>\n",
       "<style scoped>\n",
       "    .dataframe tbody tr th:only-of-type {\n",
       "        vertical-align: middle;\n",
       "    }\n",
       "\n",
       "    .dataframe tbody tr th {\n",
       "        vertical-align: top;\n",
       "    }\n",
       "\n",
       "    .dataframe thead th {\n",
       "        text-align: right;\n",
       "    }\n",
       "</style>\n",
       "<table border=\"1\" class=\"dataframe\">\n",
       "  <thead>\n",
       "    <tr style=\"text-align: right;\">\n",
       "      <th></th>\n",
       "      <th>order_id</th>\n",
       "      <th>days_to_next_order</th>\n",
       "      <th>aisle_id</th>\n",
       "    </tr>\n",
       "  </thead>\n",
       "  <tbody>\n",
       "    <tr>\n",
       "      <th>0</th>\n",
       "      <td>3411808</td>\n",
       "      <td>8.0</td>\n",
       "      <td>83</td>\n",
       "    </tr>\n",
       "    <tr>\n",
       "      <th>1</th>\n",
       "      <td>573593</td>\n",
       "      <td>3.0</td>\n",
       "      <td>83</td>\n",
       "    </tr>\n",
       "    <tr>\n",
       "      <th>2</th>\n",
       "      <td>3312511</td>\n",
       "      <td>9.0</td>\n",
       "      <td>83</td>\n",
       "    </tr>\n",
       "    <tr>\n",
       "      <th>3</th>\n",
       "      <td>27068</td>\n",
       "      <td>0.0</td>\n",
       "      <td>83</td>\n",
       "    </tr>\n",
       "    <tr>\n",
       "      <th>4</th>\n",
       "      <td>2989600</td>\n",
       "      <td>14.0</td>\n",
       "      <td>83</td>\n",
       "    </tr>\n",
       "  </tbody>\n",
       "</table>\n",
       "</div>"
      ],
      "text/plain": [
       "   order_id  days_to_next_order  aisle_id\n",
       "0   3411808                 8.0        83\n",
       "1    573593                 3.0        83\n",
       "2   3312511                 9.0        83\n",
       "3     27068                 0.0        83\n",
       "4   2989600                14.0        83"
      ]
     },
     "execution_count": 36,
     "metadata": {},
     "output_type": "execute_result"
    }
   ],
   "source": [
    "aisle_key_cols = key_columns(\"aisle_id\")\n",
    "wanted_info_train = train_orders_prod[aisle_key_cols]\n",
    "wanted_info_test = test_orders_prod[aisle_key_cols]\n",
    "\n",
    "wanted_info_train.head()"
   ]
  },
  {
   "cell_type": "markdown",
   "metadata": {},
   "source": [
    "### Add the Aisle Columns"
   ]
  },
  {
   "cell_type": "code",
   "execution_count": 37,
   "metadata": {},
   "outputs": [
    {
     "data": {
      "text/html": [
       "<div>\n",
       "<style scoped>\n",
       "    .dataframe tbody tr th:only-of-type {\n",
       "        vertical-align: middle;\n",
       "    }\n",
       "\n",
       "    .dataframe tbody tr th {\n",
       "        vertical-align: top;\n",
       "    }\n",
       "\n",
       "    .dataframe thead th {\n",
       "        text-align: right;\n",
       "    }\n",
       "</style>\n",
       "<table border=\"1\" class=\"dataframe\">\n",
       "  <thead>\n",
       "    <tr style=\"text-align: right;\">\n",
       "      <th></th>\n",
       "      <th>order_id</th>\n",
       "      <th>days_to_next_order</th>\n",
       "      <th>aisle_id</th>\n",
       "      <th>aisle</th>\n",
       "      <th>prepared soups salads</th>\n",
       "      <th>specialty cheeses</th>\n",
       "      <th>energy granola bars</th>\n",
       "      <th>instant foods</th>\n",
       "      <th>marinades meat preparation</th>\n",
       "      <th>other</th>\n",
       "      <th>...</th>\n",
       "      <th>trail mix snack mix</th>\n",
       "      <th>feminine care</th>\n",
       "      <th>body lotions soap</th>\n",
       "      <th>tortillas flat bread</th>\n",
       "      <th>frozen appetizers sides</th>\n",
       "      <th>hot cereal pancake mixes</th>\n",
       "      <th>dry pasta</th>\n",
       "      <th>beauty</th>\n",
       "      <th>muscles joints pain relief</th>\n",
       "      <th>specialty wines champagnes</th>\n",
       "    </tr>\n",
       "  </thead>\n",
       "  <tbody>\n",
       "    <tr>\n",
       "      <th>0</th>\n",
       "      <td>3411808</td>\n",
       "      <td>8.0</td>\n",
       "      <td>83</td>\n",
       "      <td>fresh vegetables</td>\n",
       "      <td>0</td>\n",
       "      <td>0</td>\n",
       "      <td>0</td>\n",
       "      <td>0</td>\n",
       "      <td>0</td>\n",
       "      <td>0</td>\n",
       "      <td>...</td>\n",
       "      <td>0</td>\n",
       "      <td>0</td>\n",
       "      <td>0</td>\n",
       "      <td>0</td>\n",
       "      <td>0</td>\n",
       "      <td>0</td>\n",
       "      <td>0</td>\n",
       "      <td>0</td>\n",
       "      <td>0</td>\n",
       "      <td>0</td>\n",
       "    </tr>\n",
       "    <tr>\n",
       "      <th>1</th>\n",
       "      <td>573593</td>\n",
       "      <td>3.0</td>\n",
       "      <td>83</td>\n",
       "      <td>fresh vegetables</td>\n",
       "      <td>0</td>\n",
       "      <td>0</td>\n",
       "      <td>0</td>\n",
       "      <td>0</td>\n",
       "      <td>0</td>\n",
       "      <td>0</td>\n",
       "      <td>...</td>\n",
       "      <td>0</td>\n",
       "      <td>0</td>\n",
       "      <td>0</td>\n",
       "      <td>0</td>\n",
       "      <td>0</td>\n",
       "      <td>0</td>\n",
       "      <td>0</td>\n",
       "      <td>0</td>\n",
       "      <td>0</td>\n",
       "      <td>0</td>\n",
       "    </tr>\n",
       "    <tr>\n",
       "      <th>2</th>\n",
       "      <td>3312511</td>\n",
       "      <td>9.0</td>\n",
       "      <td>83</td>\n",
       "      <td>fresh vegetables</td>\n",
       "      <td>0</td>\n",
       "      <td>0</td>\n",
       "      <td>0</td>\n",
       "      <td>0</td>\n",
       "      <td>0</td>\n",
       "      <td>0</td>\n",
       "      <td>...</td>\n",
       "      <td>0</td>\n",
       "      <td>0</td>\n",
       "      <td>0</td>\n",
       "      <td>0</td>\n",
       "      <td>0</td>\n",
       "      <td>0</td>\n",
       "      <td>0</td>\n",
       "      <td>0</td>\n",
       "      <td>0</td>\n",
       "      <td>0</td>\n",
       "    </tr>\n",
       "    <tr>\n",
       "      <th>3</th>\n",
       "      <td>27068</td>\n",
       "      <td>0.0</td>\n",
       "      <td>83</td>\n",
       "      <td>fresh vegetables</td>\n",
       "      <td>0</td>\n",
       "      <td>0</td>\n",
       "      <td>0</td>\n",
       "      <td>0</td>\n",
       "      <td>0</td>\n",
       "      <td>0</td>\n",
       "      <td>...</td>\n",
       "      <td>0</td>\n",
       "      <td>0</td>\n",
       "      <td>0</td>\n",
       "      <td>0</td>\n",
       "      <td>0</td>\n",
       "      <td>0</td>\n",
       "      <td>0</td>\n",
       "      <td>0</td>\n",
       "      <td>0</td>\n",
       "      <td>0</td>\n",
       "    </tr>\n",
       "    <tr>\n",
       "      <th>4</th>\n",
       "      <td>2989600</td>\n",
       "      <td>14.0</td>\n",
       "      <td>83</td>\n",
       "      <td>fresh vegetables</td>\n",
       "      <td>0</td>\n",
       "      <td>0</td>\n",
       "      <td>0</td>\n",
       "      <td>0</td>\n",
       "      <td>0</td>\n",
       "      <td>0</td>\n",
       "      <td>...</td>\n",
       "      <td>0</td>\n",
       "      <td>0</td>\n",
       "      <td>0</td>\n",
       "      <td>0</td>\n",
       "      <td>0</td>\n",
       "      <td>0</td>\n",
       "      <td>0</td>\n",
       "      <td>0</td>\n",
       "      <td>0</td>\n",
       "      <td>0</td>\n",
       "    </tr>\n",
       "  </tbody>\n",
       "</table>\n",
       "<p>5 rows × 138 columns</p>\n",
       "</div>"
      ],
      "text/plain": [
       "   order_id  days_to_next_order  aisle_id             aisle  \\\n",
       "0   3411808                 8.0        83  fresh vegetables   \n",
       "1    573593                 3.0        83  fresh vegetables   \n",
       "2   3312511                 9.0        83  fresh vegetables   \n",
       "3     27068                 0.0        83  fresh vegetables   \n",
       "4   2989600                14.0        83  fresh vegetables   \n",
       "\n",
       "   prepared soups salads  specialty cheeses  energy granola bars  \\\n",
       "0                      0                  0                    0   \n",
       "1                      0                  0                    0   \n",
       "2                      0                  0                    0   \n",
       "3                      0                  0                    0   \n",
       "4                      0                  0                    0   \n",
       "\n",
       "   instant foods  marinades meat preparation  other  \\\n",
       "0              0                           0      0   \n",
       "1              0                           0      0   \n",
       "2              0                           0      0   \n",
       "3              0                           0      0   \n",
       "4              0                           0      0   \n",
       "\n",
       "              ...              trail mix snack mix  feminine care  \\\n",
       "0             ...                                0              0   \n",
       "1             ...                                0              0   \n",
       "2             ...                                0              0   \n",
       "3             ...                                0              0   \n",
       "4             ...                                0              0   \n",
       "\n",
       "   body lotions soap  tortillas flat bread  frozen appetizers sides  \\\n",
       "0                  0                     0                        0   \n",
       "1                  0                     0                        0   \n",
       "2                  0                     0                        0   \n",
       "3                  0                     0                        0   \n",
       "4                  0                     0                        0   \n",
       "\n",
       "   hot cereal pancake mixes  dry pasta  beauty  muscles joints pain relief  \\\n",
       "0                         0          0       0                           0   \n",
       "1                         0          0       0                           0   \n",
       "2                         0          0       0                           0   \n",
       "3                         0          0       0                           0   \n",
       "4                         0          0       0                           0   \n",
       "\n",
       "   specialty wines champagnes  \n",
       "0                           0  \n",
       "1                           0  \n",
       "2                           0  \n",
       "3                           0  \n",
       "4                           0  \n",
       "\n",
       "[5 rows x 138 columns]"
      ]
     },
     "execution_count": 37,
     "metadata": {},
     "output_type": "execute_result"
    }
   ],
   "source": [
    "df_with_aisle_info_train = add_each_aisle_to_df(wanted_info_train)\n",
    "df_with_aisle_info_test = add_each_aisle_to_df(wanted_info_test)\n",
    "\n",
    "df_with_aisle_info_train.head()"
   ]
  },
  {
   "cell_type": "markdown",
   "metadata": {},
   "source": [
    "### Populate the Aisle Columns"
   ]
  },
  {
   "cell_type": "code",
   "execution_count": 38,
   "metadata": {},
   "outputs": [
    {
     "data": {
      "text/html": [
       "<div>\n",
       "<style scoped>\n",
       "    .dataframe tbody tr th:only-of-type {\n",
       "        vertical-align: middle;\n",
       "    }\n",
       "\n",
       "    .dataframe tbody tr th {\n",
       "        vertical-align: top;\n",
       "    }\n",
       "\n",
       "    .dataframe thead th {\n",
       "        text-align: right;\n",
       "    }\n",
       "</style>\n",
       "<table border=\"1\" class=\"dataframe\">\n",
       "  <thead>\n",
       "    <tr style=\"text-align: right;\">\n",
       "      <th></th>\n",
       "      <th>days_to_next_order</th>\n",
       "      <th>prepared soups salads</th>\n",
       "      <th>specialty cheeses</th>\n",
       "      <th>energy granola bars</th>\n",
       "      <th>instant foods</th>\n",
       "      <th>marinades meat preparation</th>\n",
       "      <th>other</th>\n",
       "      <th>packaged meat</th>\n",
       "      <th>bakery desserts</th>\n",
       "      <th>pasta sauce</th>\n",
       "      <th>...</th>\n",
       "      <th>trail mix snack mix</th>\n",
       "      <th>feminine care</th>\n",
       "      <th>body lotions soap</th>\n",
       "      <th>tortillas flat bread</th>\n",
       "      <th>frozen appetizers sides</th>\n",
       "      <th>hot cereal pancake mixes</th>\n",
       "      <th>dry pasta</th>\n",
       "      <th>beauty</th>\n",
       "      <th>muscles joints pain relief</th>\n",
       "      <th>specialty wines champagnes</th>\n",
       "    </tr>\n",
       "  </thead>\n",
       "  <tbody>\n",
       "    <tr>\n",
       "      <th>0</th>\n",
       "      <td>8.0</td>\n",
       "      <td>0</td>\n",
       "      <td>0</td>\n",
       "      <td>0</td>\n",
       "      <td>0</td>\n",
       "      <td>0</td>\n",
       "      <td>0</td>\n",
       "      <td>0</td>\n",
       "      <td>0</td>\n",
       "      <td>0</td>\n",
       "      <td>...</td>\n",
       "      <td>0</td>\n",
       "      <td>0</td>\n",
       "      <td>0</td>\n",
       "      <td>0</td>\n",
       "      <td>0</td>\n",
       "      <td>0</td>\n",
       "      <td>0</td>\n",
       "      <td>0</td>\n",
       "      <td>0</td>\n",
       "      <td>0</td>\n",
       "    </tr>\n",
       "    <tr>\n",
       "      <th>1</th>\n",
       "      <td>3.0</td>\n",
       "      <td>0</td>\n",
       "      <td>0</td>\n",
       "      <td>0</td>\n",
       "      <td>0</td>\n",
       "      <td>0</td>\n",
       "      <td>0</td>\n",
       "      <td>0</td>\n",
       "      <td>0</td>\n",
       "      <td>0</td>\n",
       "      <td>...</td>\n",
       "      <td>0</td>\n",
       "      <td>0</td>\n",
       "      <td>0</td>\n",
       "      <td>0</td>\n",
       "      <td>0</td>\n",
       "      <td>0</td>\n",
       "      <td>0</td>\n",
       "      <td>0</td>\n",
       "      <td>0</td>\n",
       "      <td>0</td>\n",
       "    </tr>\n",
       "    <tr>\n",
       "      <th>2</th>\n",
       "      <td>9.0</td>\n",
       "      <td>0</td>\n",
       "      <td>0</td>\n",
       "      <td>0</td>\n",
       "      <td>0</td>\n",
       "      <td>0</td>\n",
       "      <td>0</td>\n",
       "      <td>0</td>\n",
       "      <td>0</td>\n",
       "      <td>0</td>\n",
       "      <td>...</td>\n",
       "      <td>0</td>\n",
       "      <td>0</td>\n",
       "      <td>0</td>\n",
       "      <td>0</td>\n",
       "      <td>0</td>\n",
       "      <td>0</td>\n",
       "      <td>0</td>\n",
       "      <td>0</td>\n",
       "      <td>0</td>\n",
       "      <td>0</td>\n",
       "    </tr>\n",
       "    <tr>\n",
       "      <th>3</th>\n",
       "      <td>0.0</td>\n",
       "      <td>0</td>\n",
       "      <td>0</td>\n",
       "      <td>0</td>\n",
       "      <td>0</td>\n",
       "      <td>0</td>\n",
       "      <td>0</td>\n",
       "      <td>0</td>\n",
       "      <td>0</td>\n",
       "      <td>0</td>\n",
       "      <td>...</td>\n",
       "      <td>0</td>\n",
       "      <td>0</td>\n",
       "      <td>0</td>\n",
       "      <td>0</td>\n",
       "      <td>0</td>\n",
       "      <td>0</td>\n",
       "      <td>0</td>\n",
       "      <td>0</td>\n",
       "      <td>0</td>\n",
       "      <td>0</td>\n",
       "    </tr>\n",
       "    <tr>\n",
       "      <th>4</th>\n",
       "      <td>14.0</td>\n",
       "      <td>0</td>\n",
       "      <td>0</td>\n",
       "      <td>1</td>\n",
       "      <td>0</td>\n",
       "      <td>0</td>\n",
       "      <td>0</td>\n",
       "      <td>0</td>\n",
       "      <td>0</td>\n",
       "      <td>0</td>\n",
       "      <td>...</td>\n",
       "      <td>0</td>\n",
       "      <td>0</td>\n",
       "      <td>0</td>\n",
       "      <td>0</td>\n",
       "      <td>0</td>\n",
       "      <td>1</td>\n",
       "      <td>1</td>\n",
       "      <td>0</td>\n",
       "      <td>0</td>\n",
       "      <td>0</td>\n",
       "    </tr>\n",
       "  </tbody>\n",
       "</table>\n",
       "<p>5 rows × 135 columns</p>\n",
       "</div>"
      ],
      "text/plain": [
       "   days_to_next_order  prepared soups salads  specialty cheeses  \\\n",
       "0                 8.0                      0                  0   \n",
       "1                 3.0                      0                  0   \n",
       "2                 9.0                      0                  0   \n",
       "3                 0.0                      0                  0   \n",
       "4                14.0                      0                  0   \n",
       "\n",
       "   energy granola bars  instant foods  marinades meat preparation  other  \\\n",
       "0                    0              0                           0      0   \n",
       "1                    0              0                           0      0   \n",
       "2                    0              0                           0      0   \n",
       "3                    0              0                           0      0   \n",
       "4                    1              0                           0      0   \n",
       "\n",
       "   packaged meat  bakery desserts  pasta sauce             ...              \\\n",
       "0              0                0            0             ...               \n",
       "1              0                0            0             ...               \n",
       "2              0                0            0             ...               \n",
       "3              0                0            0             ...               \n",
       "4              0                0            0             ...               \n",
       "\n",
       "   trail mix snack mix  feminine care  body lotions soap  \\\n",
       "0                    0              0                  0   \n",
       "1                    0              0                  0   \n",
       "2                    0              0                  0   \n",
       "3                    0              0                  0   \n",
       "4                    0              0                  0   \n",
       "\n",
       "   tortillas flat bread  frozen appetizers sides  hot cereal pancake mixes  \\\n",
       "0                     0                        0                         0   \n",
       "1                     0                        0                         0   \n",
       "2                     0                        0                         0   \n",
       "3                     0                        0                         0   \n",
       "4                     0                        0                         1   \n",
       "\n",
       "   dry pasta  beauty  muscles joints pain relief  specialty wines champagnes  \n",
       "0          0       0                           0                           0  \n",
       "1          0       0                           0                           0  \n",
       "2          0       0                           0                           0  \n",
       "3          0       0                           0                           0  \n",
       "4          1       0                           0                           0  \n",
       "\n",
       "[5 rows x 135 columns]"
      ]
     },
     "execution_count": 38,
     "metadata": {},
     "output_type": "execute_result"
    }
   ],
   "source": [
    "# Aggregates the data so we have days to next order with the aisles required checked\n",
    "cols_to_drop = [\"aisle\", \"aisle_id\", \"order_id\"]\n",
    "item = \"aisle\"\n",
    "df_aisle_group_train = group_by_order_in_df(df_with_aisle_info_train, item, cols_to_drop)\n",
    "df_aisle_group_test = group_by_order_in_df(df_with_aisle_info_test, item, cols_to_drop)\n",
    "\n",
    "df_aisle_group_train.head()"
   ]
  },
  {
   "cell_type": "markdown",
   "metadata": {},
   "source": [
    "### Preparing the data for modelling"
   ]
  },
  {
   "cell_type": "code",
   "execution_count": 39,
   "metadata": {},
   "outputs": [
    {
     "data": {
      "text/html": [
       "<div>\n",
       "<style scoped>\n",
       "    .dataframe tbody tr th:only-of-type {\n",
       "        vertical-align: middle;\n",
       "    }\n",
       "\n",
       "    .dataframe tbody tr th {\n",
       "        vertical-align: top;\n",
       "    }\n",
       "\n",
       "    .dataframe thead th {\n",
       "        text-align: right;\n",
       "    }\n",
       "</style>\n",
       "<table border=\"1\" class=\"dataframe\">\n",
       "  <thead>\n",
       "    <tr style=\"text-align: right;\">\n",
       "      <th></th>\n",
       "      <th>prepared soups salads</th>\n",
       "      <th>specialty cheeses</th>\n",
       "      <th>energy granola bars</th>\n",
       "      <th>instant foods</th>\n",
       "      <th>marinades meat preparation</th>\n",
       "      <th>other</th>\n",
       "      <th>packaged meat</th>\n",
       "      <th>bakery desserts</th>\n",
       "      <th>pasta sauce</th>\n",
       "      <th>kitchen supplies</th>\n",
       "      <th>...</th>\n",
       "      <th>trail mix snack mix</th>\n",
       "      <th>feminine care</th>\n",
       "      <th>body lotions soap</th>\n",
       "      <th>tortillas flat bread</th>\n",
       "      <th>frozen appetizers sides</th>\n",
       "      <th>hot cereal pancake mixes</th>\n",
       "      <th>dry pasta</th>\n",
       "      <th>beauty</th>\n",
       "      <th>muscles joints pain relief</th>\n",
       "      <th>specialty wines champagnes</th>\n",
       "    </tr>\n",
       "  </thead>\n",
       "  <tbody>\n",
       "    <tr>\n",
       "      <th>0</th>\n",
       "      <td>0</td>\n",
       "      <td>0</td>\n",
       "      <td>0</td>\n",
       "      <td>0</td>\n",
       "      <td>0</td>\n",
       "      <td>0</td>\n",
       "      <td>0</td>\n",
       "      <td>0</td>\n",
       "      <td>0</td>\n",
       "      <td>0</td>\n",
       "      <td>...</td>\n",
       "      <td>0</td>\n",
       "      <td>0</td>\n",
       "      <td>0</td>\n",
       "      <td>0</td>\n",
       "      <td>0</td>\n",
       "      <td>0</td>\n",
       "      <td>0</td>\n",
       "      <td>0</td>\n",
       "      <td>0</td>\n",
       "      <td>0</td>\n",
       "    </tr>\n",
       "    <tr>\n",
       "      <th>1</th>\n",
       "      <td>0</td>\n",
       "      <td>0</td>\n",
       "      <td>0</td>\n",
       "      <td>0</td>\n",
       "      <td>0</td>\n",
       "      <td>0</td>\n",
       "      <td>0</td>\n",
       "      <td>0</td>\n",
       "      <td>0</td>\n",
       "      <td>0</td>\n",
       "      <td>...</td>\n",
       "      <td>0</td>\n",
       "      <td>0</td>\n",
       "      <td>0</td>\n",
       "      <td>0</td>\n",
       "      <td>0</td>\n",
       "      <td>0</td>\n",
       "      <td>0</td>\n",
       "      <td>0</td>\n",
       "      <td>0</td>\n",
       "      <td>0</td>\n",
       "    </tr>\n",
       "    <tr>\n",
       "      <th>2</th>\n",
       "      <td>0</td>\n",
       "      <td>0</td>\n",
       "      <td>0</td>\n",
       "      <td>0</td>\n",
       "      <td>0</td>\n",
       "      <td>0</td>\n",
       "      <td>0</td>\n",
       "      <td>0</td>\n",
       "      <td>0</td>\n",
       "      <td>0</td>\n",
       "      <td>...</td>\n",
       "      <td>0</td>\n",
       "      <td>0</td>\n",
       "      <td>0</td>\n",
       "      <td>0</td>\n",
       "      <td>0</td>\n",
       "      <td>0</td>\n",
       "      <td>0</td>\n",
       "      <td>0</td>\n",
       "      <td>0</td>\n",
       "      <td>0</td>\n",
       "    </tr>\n",
       "    <tr>\n",
       "      <th>3</th>\n",
       "      <td>0</td>\n",
       "      <td>0</td>\n",
       "      <td>0</td>\n",
       "      <td>0</td>\n",
       "      <td>0</td>\n",
       "      <td>0</td>\n",
       "      <td>0</td>\n",
       "      <td>0</td>\n",
       "      <td>0</td>\n",
       "      <td>0</td>\n",
       "      <td>...</td>\n",
       "      <td>0</td>\n",
       "      <td>0</td>\n",
       "      <td>0</td>\n",
       "      <td>0</td>\n",
       "      <td>0</td>\n",
       "      <td>0</td>\n",
       "      <td>0</td>\n",
       "      <td>0</td>\n",
       "      <td>0</td>\n",
       "      <td>0</td>\n",
       "    </tr>\n",
       "    <tr>\n",
       "      <th>4</th>\n",
       "      <td>0</td>\n",
       "      <td>0</td>\n",
       "      <td>1</td>\n",
       "      <td>0</td>\n",
       "      <td>0</td>\n",
       "      <td>0</td>\n",
       "      <td>0</td>\n",
       "      <td>0</td>\n",
       "      <td>0</td>\n",
       "      <td>0</td>\n",
       "      <td>...</td>\n",
       "      <td>0</td>\n",
       "      <td>0</td>\n",
       "      <td>0</td>\n",
       "      <td>0</td>\n",
       "      <td>0</td>\n",
       "      <td>1</td>\n",
       "      <td>1</td>\n",
       "      <td>0</td>\n",
       "      <td>0</td>\n",
       "      <td>0</td>\n",
       "    </tr>\n",
       "  </tbody>\n",
       "</table>\n",
       "<p>5 rows × 134 columns</p>\n",
       "</div>"
      ],
      "text/plain": [
       "   prepared soups salads  specialty cheeses  energy granola bars  \\\n",
       "0                      0                  0                    0   \n",
       "1                      0                  0                    0   \n",
       "2                      0                  0                    0   \n",
       "3                      0                  0                    0   \n",
       "4                      0                  0                    1   \n",
       "\n",
       "   instant foods  marinades meat preparation  other  packaged meat  \\\n",
       "0              0                           0      0              0   \n",
       "1              0                           0      0              0   \n",
       "2              0                           0      0              0   \n",
       "3              0                           0      0              0   \n",
       "4              0                           0      0              0   \n",
       "\n",
       "   bakery desserts  pasta sauce  kitchen supplies             ...              \\\n",
       "0                0            0                 0             ...               \n",
       "1                0            0                 0             ...               \n",
       "2                0            0                 0             ...               \n",
       "3                0            0                 0             ...               \n",
       "4                0            0                 0             ...               \n",
       "\n",
       "   trail mix snack mix  feminine care  body lotions soap  \\\n",
       "0                    0              0                  0   \n",
       "1                    0              0                  0   \n",
       "2                    0              0                  0   \n",
       "3                    0              0                  0   \n",
       "4                    0              0                  0   \n",
       "\n",
       "   tortillas flat bread  frozen appetizers sides  hot cereal pancake mixes  \\\n",
       "0                     0                        0                         0   \n",
       "1                     0                        0                         0   \n",
       "2                     0                        0                         0   \n",
       "3                     0                        0                         0   \n",
       "4                     0                        0                         1   \n",
       "\n",
       "   dry pasta  beauty  muscles joints pain relief  specialty wines champagnes  \n",
       "0          0       0                           0                           0  \n",
       "1          0       0                           0                           0  \n",
       "2          0       0                           0                           0  \n",
       "3          0       0                           0                           0  \n",
       "4          1       0                           0                           0  \n",
       "\n",
       "[5 rows x 134 columns]"
      ]
     },
     "execution_count": 39,
     "metadata": {},
     "output_type": "execute_result"
    }
   ],
   "source": [
    "X_train, y_train, X_test, y_test = split_data_to_features_and_value(df_aisle_group_train, df_aisle_group_test)\n",
    "# Where X are the features and Y is the days to next order (value trying to predict)\n",
    "X_train.head()"
   ]
  },
  {
   "cell_type": "markdown",
   "metadata": {},
   "source": [
    "### Generate the Model"
   ]
  },
  {
   "cell_type": "code",
   "execution_count": 40,
   "metadata": {},
   "outputs": [
    {
     "data": {
      "text/plain": [
       "11.692365679824562"
      ]
     },
     "execution_count": 40,
     "metadata": {},
     "output_type": "execute_result"
    }
   ],
   "source": [
    "model = linear_model.LinearRegression(normalize=True)\n",
    "model.fit(X_train, y_train)\n",
    "model.intercept_"
   ]
  },
  {
   "cell_type": "markdown",
   "metadata": {},
   "source": [
    "### Score the Model"
   ]
  },
  {
   "cell_type": "code",
   "execution_count": 41,
   "metadata": {},
   "outputs": [
    {
     "data": {
      "text/plain": [
       "-2.446628204719114e+28"
      ]
     },
     "execution_count": 41,
     "metadata": {},
     "output_type": "execute_result"
    }
   ],
   "source": [
    "model.score(X_test, y_test)"
   ]
  },
  {
   "cell_type": "markdown",
   "metadata": {},
   "source": [
    "### Find the best feature/aisle"
   ]
  },
  {
   "cell_type": "code",
   "execution_count": 42,
   "metadata": {},
   "outputs": [
    {
     "data": {
      "text/plain": [
       "(0.08760018310333306, 'fresh vegetables')"
      ]
     },
     "execution_count": 42,
     "metadata": {},
     "output_type": "execute_result"
    }
   ],
   "source": [
    "find_best_feature(X_train, y_train, X_test, y_test)"
   ]
  },
  {
   "cell_type": "markdown",
   "metadata": {},
   "source": [
    "### Find best features in Order and calculate scores based on testing data"
   ]
  },
  {
   "cell_type": "code",
   "execution_count": 43,
   "metadata": {},
   "outputs": [
    {
     "name": "stdout",
     "output_type": "stream",
     "text": [
      "Best Score using test data : 0.30823678396719423 Score using train data : 0.3168721757442158\n"
     ]
    }
   ],
   "source": [
    "best_features_test, best_score_test, model_scores_test = order_best_features_and_score(X_train, y_train, X_test, y_test, 1)\n",
    "\n",
    "best_aisle_model_test = linear_model.LinearRegression(normalize=True)\n",
    "best_aisle_model_test.fit(X_train[best_features_test], y_train)\n",
    "\n",
    "train_score_with_best = best_aisle_model_test.score(X_train[best_features_test], y_train)\n",
    "\n",
    "print(\"Best Score using test data :\", best_score_test, \"Score using train data :\", train_score_with_best)"
   ]
  },
  {
   "cell_type": "markdown",
   "metadata": {},
   "source": [
    "### Aisle Rollup Best Model Coefficients"
   ]
  },
  {
   "cell_type": "code",
   "execution_count": 44,
   "metadata": {},
   "outputs": [
    {
     "data": {
      "text/plain": [
       "<matplotlib.axes._subplots.AxesSubplot at 0x1a17217588>"
      ]
     },
     "execution_count": 44,
     "metadata": {},
     "output_type": "execute_result"
    },
    {
     "data": {
      "image/png": "[encoded data removed]",
      "text/plain": [
       "<matplotlib.figure.Figure at 0x1a1712e4e0>"
      ]
     },
     "metadata": {},
     "output_type": "display_data"
    }
   ],
   "source": [
    "best_aisle_model_test_predictors = X_train[best_features_test].columns\n",
    "best_aisle_model_test_coef = pd.Series(best_aisle_model_test.coef_,best_aisle_model_test_predictors).sort_values()\n",
    "best_aisle_model_test_coef.plot(kind='bar', title=\"Best Test Model coefficients for Aisle\")"
   ]
  },
  {
   "cell_type": "markdown",
   "metadata": {},
   "source": [
    "As always the better model has lower dimensions, it can be seen here that the coefficients are quite well distributed, some bigger than others but no very large factors of dominance."
   ]
  },
  {
   "cell_type": "code",
   "execution_count": 45,
   "metadata": {},
   "outputs": [
    {
     "data": {
      "image/png": "[encoded data removed]",
      "text/plain": [
       "<matplotlib.figure.Figure at 0x10948d630>"
      ]
     },
     "metadata": {},
     "output_type": "display_data"
    }
   ],
   "source": [
    "plt.title(\"Score using Test for Aisle versus features\")\n",
    "plt.xlabel('Number of features') \n",
    "plt.ylabel('R squared')\n",
    "plt.plot(model_scores_test)\n",
    "plt.show()"
   ]
  },
  {
   "cell_type": "markdown",
   "metadata": {},
   "source": [
    "Same issues as before, using the test data to pick a model based on the best score obtained from the test data. As can be seen from the print out before the graph, the model has not performed as well as a model using the reduced product set or PCA (on average), it is not very far off those models however"
   ]
  },
  {
   "cell_type": "markdown",
   "metadata": {},
   "source": [
    "## Regularisation - Ridge Regression with Product<a class=\"anchor\" id=\"ridge\"></a>\n",
    "***"
   ]
  },
  {
   "cell_type": "code",
   "execution_count": 46,
   "metadata": {},
   "outputs": [
    {
     "name": "stdout",
     "output_type": "stream",
     "text": [
      "Ridge Model Score with training : 0.6570861378451516  Score with testing : 0.18412971970654446\n"
     ]
    }
   ],
   "source": [
    "# Very suck it an see approach to try find \n",
    "ridge_reg_model_prod = Ridge(alpha=2.5)\n",
    "X_train, y_train, X_test, y_test = split_data_to_features_and_value(df_prod_group_train, df_prod_group_test)\n",
    "\n",
    "ridge_reg_model_prod.fit(X_train, y_train)\n",
    "ridge_prod_train_score = ridge_reg_model_prod.score(X_train, y_train)\n",
    "ridge_prod_test_score = ridge_reg_model_prod.score(X_test, y_test)\n",
    "print(\"Ridge Model Score with training :\", ridge_prod_train_score, \" Score with testing :\", ridge_prod_test_score)"
   ]
  },
  {
   "cell_type": "markdown",
   "metadata": {},
   "source": [
    "Chosing λ (alpha in this case) is difficult due to if it is too large, it will increase the bias as it matches the data less and if it is too small it matches the data too much and increases variance.\n",
    "\n",
    "From a training perspective this performed well-ish in that it has a score of 0.63 which is the highest train scored obtained whilst the testing score remaining postivie. The testing score on the other hand is 0.18 which is fairly consistent throughout most models which have been created"
   ]
  },
  {
   "cell_type": "markdown",
   "metadata": {},
   "source": [
    "## Regularisation - Lasso Regression with Product<a class=\"anchor\" id=\"lasso\"></a>\n",
    "***"
   ]
  },
  {
   "cell_type": "code",
   "execution_count": 47,
   "metadata": {},
   "outputs": [
    {
     "name": "stdout",
     "output_type": "stream",
     "text": [
      "Lasso Model Score with training : 0.4839718867542868  Score with testing : 0.16372575668022327\n"
     ]
    }
   ],
   "source": [
    "lasso_alpha = 0.07\n",
    "lasso_reg_model_prod = Lasso(alpha=lasso_alpha)\n",
    "X_train, y_train, X_test, y_test = split_data_to_features_and_value(df_prod_group_train, df_prod_group_test)\n",
    "lasso_reg_model_prod.fit(X_train, y_train)\n",
    "\n",
    "lasso_prod_train_score = lasso_reg_model_prod.score(X_train, y_train)\n",
    "lasso_prod_test_score = lasso_reg_model_prod.score(X_test, y_test)\n",
    "print(\"Lasso Model Score with training :\", lasso_prod_train_score, \" Score with testing :\", lasso_prod_test_score)"
   ]
  },
  {
   "cell_type": "markdown",
   "metadata": {},
   "source": [
    "Similar issue picking lamba here, it was found based on a trial and error approach (considering the calculation time it takes doing all the products and finding the best model I didn't want the notebook taking much longer).\n",
    "\n",
    "As can be seen, the lasso here did not perform as well as Ridge given the training score and testing score are both less than Ridge. The testing score is not too far off that of Ridge and overall, so far no good model has been created that has a high (over 0.5) score of both training and test. \n",
    "\n",
    "Lasso performed very similar to PCA scoring wise."
   ]
  },
  {
   "cell_type": "markdown",
   "metadata": {},
   "source": [
    "## Comparison Before User Investigation <a class=\"anchor\" id=\"compbu\"></a>\n",
    "***\n",
    "\n",
    "Although not many forms of dimensionality reduction were investigated (didn't look into correlating variables mainly due to laziness and that the 'brute force' way of comparing models would give a small dimension that using all products) I believe it is safe to say that the smaller the dimesion models performed better.\n",
    "\n",
    "Since there are so many products, it took too long to even generate the matrix of 1s and 0s of products for an order so that had to be reduced straight away. Initially it was thought that to only use products that actually appeared in my slice of the data but even that was quite large so I thought it best to go with products that were ordered 3 times or more as this gave a more \"manageable\" (depending on hardware) feature matrix. From this a brute force approach was ran to try and find the best model (reducing the number of product features on each run and storing the best results) either scoring by the training data or test data. It was clear if this approach was taken for scoring by training that a terrible model is obtain, around a 0.8 score but when it came to testing it was a terrible score (negative due to the implementation), this model has mostly all the features. From using a testing scorer the best model worked out to be about 0.3 or 0.4 for both the training and test score, this had many fewer features than that of the train scored one. \n",
    "Would I recommend this approach again? No I'd correlate the features and reduce that way rather than the Brute force approach for finding the best model as this would save a lot more on compute power (this notebook isn't very lower end hardware friendly). However the Brute Force way did show the extreme drop off in performance (even though most of the models are terrible anyway, in most cases predicting just on the 2% organic milk would give you about the same success score) when too many features are used, from the testing data perspective.\n",
    "\n",
    "The aisle roll up was investigated from the Brute Force approach performed very similar (around 0.3 for test and train) to the Brute Force product approach when scoring by test data. This makes sense as the products probably belonged to the aisle it was rolled up in to and as the aisles were scored by test it would make sense the values are similar.\n",
    "\n",
    "From PCA, Ridge and Lasso as regards dimension reduction, Ridge performed the best from a training point of view (usually has a train score of 0.6 and test of 0.2). PCA performed similar to obtaining a model using the Brute Force (around 0.4 for train and 0.2 test score). Lasso performed the worst from a testing score and middle for the training score. Overall, as the the aim of the model is to predict the test data, Ridge wins. However the numbers picked for variance in PCA and lambda in Lasso and Ridge were trial and error so it is possible that I did not find a good value from manualy testing. What can be drawn from these investigation is that reducing the dimensionality did improve the model as using all the products (even just popular ones) is far too contrained of a model.\n",
    "\n",
    "As Aisle rollup using test scoring appear to perform the most symmetrical between test and train score I will use that for the individual user investigation."
   ]
  },
  {
   "cell_type": "markdown",
   "metadata": {},
   "source": [
    "## Specific User Investigation<a class=\"anchor\" id=\"user\"></a>"
   ]
  },
  {
   "cell_type": "code",
   "execution_count": 48,
   "metadata": {},
   "outputs": [
    {
     "data": {
      "text/html": [
       "<div>\n",
       "<style scoped>\n",
       "    .dataframe tbody tr th:only-of-type {\n",
       "        vertical-align: middle;\n",
       "    }\n",
       "\n",
       "    .dataframe tbody tr th {\n",
       "        vertical-align: top;\n",
       "    }\n",
       "\n",
       "    .dataframe thead th {\n",
       "        text-align: right;\n",
       "    }\n",
       "</style>\n",
       "<table border=\"1\" class=\"dataframe\">\n",
       "  <thead>\n",
       "    <tr style=\"text-align: right;\">\n",
       "      <th></th>\n",
       "      <th>days_to_next_order</th>\n",
       "      <th>prepared soups salads</th>\n",
       "      <th>specialty cheeses</th>\n",
       "      <th>energy granola bars</th>\n",
       "      <th>instant foods</th>\n",
       "      <th>marinades meat preparation</th>\n",
       "      <th>other</th>\n",
       "      <th>packaged meat</th>\n",
       "      <th>bakery desserts</th>\n",
       "      <th>pasta sauce</th>\n",
       "      <th>...</th>\n",
       "      <th>trail mix snack mix</th>\n",
       "      <th>feminine care</th>\n",
       "      <th>body lotions soap</th>\n",
       "      <th>tortillas flat bread</th>\n",
       "      <th>frozen appetizers sides</th>\n",
       "      <th>hot cereal pancake mixes</th>\n",
       "      <th>dry pasta</th>\n",
       "      <th>beauty</th>\n",
       "      <th>muscles joints pain relief</th>\n",
       "      <th>specialty wines champagnes</th>\n",
       "    </tr>\n",
       "  </thead>\n",
       "  <tbody>\n",
       "    <tr>\n",
       "      <th>0</th>\n",
       "      <td>4.0</td>\n",
       "      <td>0</td>\n",
       "      <td>0</td>\n",
       "      <td>0</td>\n",
       "      <td>0</td>\n",
       "      <td>0</td>\n",
       "      <td>0</td>\n",
       "      <td>0</td>\n",
       "      <td>0</td>\n",
       "      <td>0</td>\n",
       "      <td>...</td>\n",
       "      <td>0</td>\n",
       "      <td>0</td>\n",
       "      <td>0</td>\n",
       "      <td>0</td>\n",
       "      <td>0</td>\n",
       "      <td>0</td>\n",
       "      <td>0</td>\n",
       "      <td>0</td>\n",
       "      <td>0</td>\n",
       "      <td>0</td>\n",
       "    </tr>\n",
       "    <tr>\n",
       "      <th>1</th>\n",
       "      <td>2.0</td>\n",
       "      <td>0</td>\n",
       "      <td>0</td>\n",
       "      <td>0</td>\n",
       "      <td>0</td>\n",
       "      <td>0</td>\n",
       "      <td>0</td>\n",
       "      <td>0</td>\n",
       "      <td>0</td>\n",
       "      <td>0</td>\n",
       "      <td>...</td>\n",
       "      <td>0</td>\n",
       "      <td>0</td>\n",
       "      <td>0</td>\n",
       "      <td>0</td>\n",
       "      <td>0</td>\n",
       "      <td>0</td>\n",
       "      <td>0</td>\n",
       "      <td>0</td>\n",
       "      <td>0</td>\n",
       "      <td>0</td>\n",
       "    </tr>\n",
       "    <tr>\n",
       "      <th>2</th>\n",
       "      <td>1.0</td>\n",
       "      <td>0</td>\n",
       "      <td>0</td>\n",
       "      <td>0</td>\n",
       "      <td>0</td>\n",
       "      <td>0</td>\n",
       "      <td>0</td>\n",
       "      <td>0</td>\n",
       "      <td>0</td>\n",
       "      <td>0</td>\n",
       "      <td>...</td>\n",
       "      <td>0</td>\n",
       "      <td>0</td>\n",
       "      <td>0</td>\n",
       "      <td>0</td>\n",
       "      <td>0</td>\n",
       "      <td>1</td>\n",
       "      <td>0</td>\n",
       "      <td>0</td>\n",
       "      <td>0</td>\n",
       "      <td>0</td>\n",
       "    </tr>\n",
       "    <tr>\n",
       "      <th>3</th>\n",
       "      <td>2.0</td>\n",
       "      <td>0</td>\n",
       "      <td>0</td>\n",
       "      <td>0</td>\n",
       "      <td>0</td>\n",
       "      <td>0</td>\n",
       "      <td>0</td>\n",
       "      <td>0</td>\n",
       "      <td>0</td>\n",
       "      <td>0</td>\n",
       "      <td>...</td>\n",
       "      <td>0</td>\n",
       "      <td>0</td>\n",
       "      <td>0</td>\n",
       "      <td>0</td>\n",
       "      <td>0</td>\n",
       "      <td>0</td>\n",
       "      <td>0</td>\n",
       "      <td>0</td>\n",
       "      <td>0</td>\n",
       "      <td>0</td>\n",
       "    </tr>\n",
       "    <tr>\n",
       "      <th>4</th>\n",
       "      <td>5.0</td>\n",
       "      <td>0</td>\n",
       "      <td>0</td>\n",
       "      <td>0</td>\n",
       "      <td>0</td>\n",
       "      <td>0</td>\n",
       "      <td>0</td>\n",
       "      <td>0</td>\n",
       "      <td>0</td>\n",
       "      <td>0</td>\n",
       "      <td>...</td>\n",
       "      <td>0</td>\n",
       "      <td>0</td>\n",
       "      <td>0</td>\n",
       "      <td>0</td>\n",
       "      <td>0</td>\n",
       "      <td>0</td>\n",
       "      <td>0</td>\n",
       "      <td>0</td>\n",
       "      <td>0</td>\n",
       "      <td>0</td>\n",
       "    </tr>\n",
       "  </tbody>\n",
       "</table>\n",
       "<p>5 rows × 135 columns</p>\n",
       "</div>"
      ],
      "text/plain": [
       "   days_to_next_order  prepared soups salads  specialty cheeses  \\\n",
       "0                 4.0                      0                  0   \n",
       "1                 2.0                      0                  0   \n",
       "2                 1.0                      0                  0   \n",
       "3                 2.0                      0                  0   \n",
       "4                 5.0                      0                  0   \n",
       "\n",
       "   energy granola bars  instant foods  marinades meat preparation  other  \\\n",
       "0                    0              0                           0      0   \n",
       "1                    0              0                           0      0   \n",
       "2                    0              0                           0      0   \n",
       "3                    0              0                           0      0   \n",
       "4                    0              0                           0      0   \n",
       "\n",
       "   packaged meat  bakery desserts  pasta sauce             ...              \\\n",
       "0              0                0            0             ...               \n",
       "1              0                0            0             ...               \n",
       "2              0                0            0             ...               \n",
       "3              0                0            0             ...               \n",
       "4              0                0            0             ...               \n",
       "\n",
       "   trail mix snack mix  feminine care  body lotions soap  \\\n",
       "0                    0              0                  0   \n",
       "1                    0              0                  0   \n",
       "2                    0              0                  0   \n",
       "3                    0              0                  0   \n",
       "4                    0              0                  0   \n",
       "\n",
       "   tortillas flat bread  frozen appetizers sides  hot cereal pancake mixes  \\\n",
       "0                     0                        0                         0   \n",
       "1                     0                        0                         0   \n",
       "2                     0                        0                         1   \n",
       "3                     0                        0                         0   \n",
       "4                     0                        0                         0   \n",
       "\n",
       "   dry pasta  beauty  muscles joints pain relief  specialty wines champagnes  \n",
       "0          0       0                           0                           0  \n",
       "1          0       0                           0                           0  \n",
       "2          0       0                           0                           0  \n",
       "3          0       0                           0                           0  \n",
       "4          0       0                           0                           0  \n",
       "\n",
       "[5 rows x 135 columns]"
      ]
     },
     "execution_count": 48,
     "metadata": {},
     "output_type": "execute_result"
    }
   ],
   "source": [
    "# For the User\n",
    "# Usual Setup, did'nt want to break it into loads of stages as before, just get to the meat\n",
    "aisle_key_cols = key_columns(\"aisle_id\")\n",
    "train_orders_prod, test_orders_prod = join_products(user_train_orders, user_test_orders)\n",
    "wanted_info_train = train_orders_prod[aisle_key_cols]\n",
    "wanted_info_test = test_orders_prod[aisle_key_cols]\n",
    "df_with_aisle_info_train = add_each_aisle_to_df(wanted_info_train)\n",
    "df_with_aisle_info_test = add_each_aisle_to_df(wanted_info_test)\n",
    "cols_to_drop = [\"aisle\", \"aisle_id\", \"order_id\"]\n",
    "item = \"aisle\"\n",
    "df_aisle_group_train = group_by_order_in_df(df_with_aisle_info_train, item, cols_to_drop)\n",
    "df_aisle_group_test = group_by_order_in_df(df_with_aisle_info_test, item, cols_to_drop)\n",
    "df_aisle_group_train.head()"
   ]
  },
  {
   "cell_type": "markdown",
   "metadata": {},
   "source": [
    "### Generate the Model"
   ]
  },
  {
   "cell_type": "code",
   "execution_count": 49,
   "metadata": {},
   "outputs": [
    {
     "name": "stdout",
     "output_type": "stream",
     "text": [
      "Best Score using test data : 0.451621277189612 Score using train data : 0.08400252283334175\n"
     ]
    }
   ],
   "source": [
    "X_train, y_train, X_test, y_test = split_data_to_features_and_value(df_aisle_group_train, df_aisle_group_test)\n",
    "best_features, best_score, model_scores = order_best_features_and_score(X_train, y_train, X_test, y_test, 1)\n",
    "\n",
    "best_aisle_model_user_test = linear_model.LinearRegression(normalize=True)\n",
    "best_aisle_model_user_test.fit(X_train[best_features], y_train)\n",
    "\n",
    "train_score_aisle_user_with_best = best_aisle_model_user_test.score(X_train[best_features], y_train)\n",
    "\n",
    "print(\"Best Score using test data :\", best_score, \"Score using train data :\", train_score_aisle_user_with_best)"
   ]
  },
  {
   "cell_type": "markdown",
   "metadata": {},
   "source": [
    "Best performer as regard testing data however the training score is awful so the model now possibly overfits the testing data."
   ]
  },
  {
   "cell_type": "markdown",
   "metadata": {},
   "source": [
    "### Find Best Feature"
   ]
  },
  {
   "cell_type": "code",
   "execution_count": 50,
   "metadata": {},
   "outputs": [
    {
     "data": {
      "text/plain": [
       "(0.16665789252021568, 'packaged vegetables fruits')"
      ]
     },
     "execution_count": 50,
     "metadata": {},
     "output_type": "execute_result"
    }
   ],
   "source": [
    "find_best_feature(X_train, y_train, X_test, y_test)"
   ]
  },
  {
   "cell_type": "markdown",
   "metadata": {},
   "source": [
    "Surprising, its not milk"
   ]
  },
  {
   "cell_type": "markdown",
   "metadata": {},
   "source": [
    "### Best User Aisle Model Coefficients"
   ]
  },
  {
   "cell_type": "code",
   "execution_count": 51,
   "metadata": {},
   "outputs": [
    {
     "data": {
      "text/plain": [
       "<matplotlib.axes._subplots.AxesSubplot at 0x1a0bb392b0>"
      ]
     },
     "execution_count": 51,
     "metadata": {},
     "output_type": "execute_result"
    },
    {
     "data": {
      "image/png": "[encoded data removed]",
      "text/plain": [
       "<matplotlib.figure.Figure at 0x109494c18>"
      ]
     },
     "metadata": {},
     "output_type": "display_data"
    }
   ],
   "source": [
    "best_aisle_model_user_test_predictors = X_train[best_features].columns\n",
    "best_aisle_model_user_test_coef = pd.Series(best_aisle_model_user_test.coef_,best_aisle_model_user_test_predictors).sort_values()\n",
    "best_aisle_model_user_test_coef.plot(kind='bar', title=\"Best Test Model coefficients for Aisle - User\")"
   ]
  },
  {
   "cell_type": "markdown",
   "metadata": {},
   "source": [
    "Overall distribution does not look too biased to one feature though there is still one larger one (other cream cheese)"
   ]
  },
  {
   "cell_type": "code",
   "execution_count": 52,
   "metadata": {},
   "outputs": [
    {
     "data": {
      "image/png": "[encoded data removed]",
      "text/plain": [
       "<matplotlib.figure.Figure at 0x1a0ba83ac8>"
      ]
     },
     "metadata": {},
     "output_type": "display_data"
    }
   ],
   "source": [
    "plt.title(\"Score versus features\")\n",
    "plt.xlabel('Number of features') \n",
    "plt.ylabel('R squared')\n",
    "plt.plot(model_scores)\n",
    "plt.show()"
   ]
  },
  {
   "cell_type": "markdown",
   "metadata": {},
   "source": [
    "Again as the features increase past a certain point, model becomse worse"
   ]
  },
  {
   "cell_type": "code",
   "execution_count": 53,
   "metadata": {},
   "outputs": [
    {
     "data": {
      "image/png": "[encoded data removed]",
      "text/plain": [
       "<matplotlib.figure.Figure at 0x1a0ba448d0>"
      ]
     },
     "metadata": {},
     "output_type": "display_data"
    }
   ],
   "source": [
    "plt.title(\"Score versus features - Small\")\n",
    "plt.xlabel('Number of features') \n",
    "plt.ylabel('R squared')\n",
    "plt.plot(model_scores[:20])\n",
    "plt.show()"
   ]
  },
  {
   "cell_type": "markdown",
   "metadata": {},
   "source": [
    "As can be seen if we zoom in on the graph, after about 13 features, the testing performance is at a maximum"
   ]
  },
  {
   "cell_type": "markdown",
   "metadata": {},
   "source": [
    "## Comparison After User Investigation <a class=\"anchor\" id=\"compau\"></a>\n",
    "***\n",
    "\n",
    "Overall, the user investigation is much the same as the product/aisle investigation. Too many features/data lead to too much variance and a bad model, not enough features would lead to too much bias and not a very good model also.\n",
    "\n",
    "The User created model did predict the best for that user with over 0.45 score for the testing data, but the training data score was so low (less than 0.1) that the model is probably not of much use. One would expect that it is easier to predict the order of a specific user given that user's pervious orders than if you were to predict the next order (of anyone) based on all previous orders (from everyone).\n",
    "\n",
    "The main draw from this investigation is that products/aisles (and departments by extension) alone are probably not enough information to predict a next order, other data like how often the user buys items, what day is their usual grocery shop, what is their most bought product (and I'm sure many others) would be needed to more accurately generate a model. Of course, dimensionality must also be watched when doing this."
   ]
  },
  {
   "cell_type": "code",
   "execution_count": null,
   "metadata": {},
   "outputs": [],
   "source": []
  }
 ],
 "metadata": {
  "kernelspec": {
   "display_name": "Python 3",
   "language": "python",
   "name": "python3"
  },
  "language_info": {
   "codemirror_mode": {
    "name": "ipython",
    "version": 3
   },
   "file_extension": ".py",
   "mimetype": "text/x-python",
   "name": "python",
   "nbconvert_exporter": "python",
   "pygments_lexer": "ipython3",
   "version": "3.6.4"
  }
 },
 "nbformat": 4,
 "nbformat_minor": 2
}

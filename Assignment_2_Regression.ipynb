{
 "cells": [
  {
   "cell_type": "code",
   "execution_count": 1,
   "metadata": {},
   "outputs": [],
   "source": [
    "%matplotlib inline "
   ]
  },
  {
   "cell_type": "markdown",
   "metadata": {},
   "source": [
    "# Regression\n",
    "***"
   ]
  },
  {
   "cell_type": "markdown",
   "metadata": {},
   "source": [
    "## Table of Contents\n",
    "***\n",
    "* [Aim](#aim)\n",
    "* [Code Setup](#code-setup)\n",
    "* [Data Import](#data-import)"
   ]
  },
  {
   "cell_type": "markdown",
   "metadata": {},
   "source": [
    "## Aim <a class=\"anchor\" id=\"aim\"></a>\n",
    "***\n",
    "\n",
    "The aim of this notebook is to perform Regression on the Instacart Data"
   ]
  },
  {
   "cell_type": "markdown",
   "metadata": {},
   "source": [
    "## Code Setup <a class=\"anchor\" id=\"code-setup\"></a>\n",
    "***"
   ]
  },
  {
   "cell_type": "markdown",
   "metadata": {},
   "source": [
    "### Constants"
   ]
  },
  {
   "cell_type": "code",
   "execution_count": 2,
   "metadata": {},
   "outputs": [],
   "source": [
    "instacart_dir = \"instacart_2017_05_01/\"\n",
    "my_orders_file = \"my_orders.csv\"\n",
    "products_file = \"products.csv\"\n",
    "aisles_file = \"aisles.csv\"\n",
    "departments_file = \"departments.csv\"\n",
    "orders_products_prior_file = \"my_order_products__prior.csv\"\n",
    "orders_products_train_file = \"my_order_products__train.csv\""
   ]
  },
  {
   "cell_type": "markdown",
   "metadata": {},
   "source": [
    "### Import Libraries"
   ]
  },
  {
   "cell_type": "code",
   "execution_count": 3,
   "metadata": {},
   "outputs": [],
   "source": [
    "import pandas as pd\n",
    "import sys\n",
    "import numpy as np\n",
    "import matplotlib.pyplot as plt\n",
    "plt.rcParams['figure.figsize'] = [12, 6]\n",
    "import seaborn as sns\n",
    "sns.set_style(\"darkgrid\")\n",
    "sns.set_context(\"paper\")\n",
    "from sklearn.model_selection import train_test_split"
   ]
  },
  {
   "cell_type": "code",
   "execution_count": 4,
   "metadata": {},
   "outputs": [],
   "source": [
    "def read_csv_file(file_name):\n",
    "    return pd.read_csv(instacart_dir + file_name)"
   ]
  },
  {
   "cell_type": "markdown",
   "metadata": {},
   "source": [
    "# USE THE AISLE AS THE PRODUCT ROLL UP AND ALSO USE REGULARISATION TO REMOVE AISLE WITH COMMON CORRELATION FOR PCA REDUCTION THIS SHOULD BE ENOUGH"
   ]
  },
  {
   "cell_type": "markdown",
   "metadata": {},
   "source": [
    "### Import Data"
   ]
  },
  {
   "cell_type": "markdown",
   "metadata": {},
   "source": [
    "#### Test and training split for all users"
   ]
  },
  {
   "cell_type": "code",
   "execution_count": 5,
   "metadata": {},
   "outputs": [
    {
     "name": "stdout",
     "output_type": "stream",
     "text": [
      "Training size is : 244\n",
      "Testing size is : 62\n"
     ]
    }
   ],
   "source": [
    "test_percentage = 0.2\n",
    "orders = read_csv_file(my_orders_file)\n",
    "train_orders, test_orders = train_test_split(orders, test_size=test_percentage)\n",
    "print(\"Training size is :\", train_orders.shape[0])\n",
    "print(\"Testing size is :\", test_orders.shape[0])"
   ]
  },
  {
   "cell_type": "markdown",
   "metadata": {},
   "source": [
    "#### Test and training split for specific user"
   ]
  },
  {
   "cell_type": "code",
   "execution_count": 6,
   "metadata": {},
   "outputs": [
    {
     "name": "stdout",
     "output_type": "stream",
     "text": [
      "User id for single investigation : 47562\n",
      "Training size for single user is : 71\n",
      "Testing size for single user is is : 18\n"
     ]
    }
   ],
   "source": [
    "count_orders = (orders\n",
    "                .groupby(\"user_id\")\n",
    "                .size()\n",
    "                .reset_index(name=\"count\")\n",
    "                .sort_values(by=['count'], ascending=False)\n",
    "               )\n",
    "# Get the most frequent user as this will have the most data associated with it\n",
    "most_frequeny_user_id =  count_orders.iloc[0].user_id\n",
    "single_user_orders = orders.query(\"user_id == \" + str(most_frequeny_user_id))\n",
    "user_train_orders, user_test_orders = train_test_split(single_user_orders, test_size=test_percentage)\n",
    "print(\"User id for single investigation :\", most_frequeny_user_id)\n",
    "print(\"Training size for single user is :\", user_train_orders.shape[0])\n",
    "print(\"Testing size for single user is is :\", user_test_orders.shape[0])"
   ]
  },
  {
   "cell_type": "markdown",
   "metadata": {},
   "source": [
    "#### Import the Other Data"
   ]
  },
  {
   "cell_type": "code",
   "execution_count": 7,
   "metadata": {},
   "outputs": [],
   "source": [
    "products = read_csv_file(products_file)\n",
    "aisles = read_csv_file(aisles_file)\n",
    "orders_products_prior = read_csv_file(orders_products_prior_file)\n",
    "orders_products_train = read_csv_file(orders_products_train_file)\n",
    "orders_products = pd.concat([orders_products_prior, orders_products_train])"
   ]
  },
  {
   "cell_type": "markdown",
   "metadata": {},
   "source": [
    "## Start"
   ]
  },
  {
   "cell_type": "code",
   "execution_count": 12,
   "metadata": {},
   "outputs": [
    {
     "data": {
      "text/html": [
       "<div>\n",
       "<style scoped>\n",
       "    .dataframe tbody tr th:only-of-type {\n",
       "        vertical-align: middle;\n",
       "    }\n",
       "\n",
       "    .dataframe tbody tr th {\n",
       "        vertical-align: top;\n",
       "    }\n",
       "\n",
       "    .dataframe thead th {\n",
       "        text-align: right;\n",
       "    }\n",
       "</style>\n",
       "<table border=\"1\" class=\"dataframe\">\n",
       "  <thead>\n",
       "    <tr style=\"text-align: right;\">\n",
       "      <th></th>\n",
       "      <th>Unnamed: 0_x</th>\n",
       "      <th>order_id</th>\n",
       "      <th>user_id</th>\n",
       "      <th>eval_set</th>\n",
       "      <th>order_number</th>\n",
       "      <th>order_dow</th>\n",
       "      <th>order_hour_of_day</th>\n",
       "      <th>days_since_prior_order</th>\n",
       "      <th>Unnamed: 0_y</th>\n",
       "      <th>product_id</th>\n",
       "      <th>add_to_cart_order</th>\n",
       "      <th>reordered</th>\n",
       "      <th>product_name</th>\n",
       "      <th>aisle_id</th>\n",
       "      <th>department_id</th>\n",
       "    </tr>\n",
       "  </thead>\n",
       "  <tbody>\n",
       "    <tr>\n",
       "      <th>0</th>\n",
       "      <td>790838</td>\n",
       "      <td>1721924</td>\n",
       "      <td>47562</td>\n",
       "      <td>prior</td>\n",
       "      <td>41</td>\n",
       "      <td>1</td>\n",
       "      <td>7</td>\n",
       "      <td>7.0</td>\n",
       "      <td>16321299</td>\n",
       "      <td>4942</td>\n",
       "      <td>1</td>\n",
       "      <td>1</td>\n",
       "      <td>Vanilla Almond Breeze</td>\n",
       "      <td>91</td>\n",
       "      <td>16</td>\n",
       "    </tr>\n",
       "    <tr>\n",
       "      <th>1</th>\n",
       "      <td>790806</td>\n",
       "      <td>287115</td>\n",
       "      <td>47562</td>\n",
       "      <td>prior</td>\n",
       "      <td>9</td>\n",
       "      <td>3</td>\n",
       "      <td>12</td>\n",
       "      <td>2.0</td>\n",
       "      <td>2720865</td>\n",
       "      <td>4942</td>\n",
       "      <td>2</td>\n",
       "      <td>1</td>\n",
       "      <td>Vanilla Almond Breeze</td>\n",
       "      <td>91</td>\n",
       "      <td>16</td>\n",
       "    </tr>\n",
       "    <tr>\n",
       "      <th>2</th>\n",
       "      <td>790846</td>\n",
       "      <td>1618671</td>\n",
       "      <td>47562</td>\n",
       "      <td>prior</td>\n",
       "      <td>49</td>\n",
       "      <td>1</td>\n",
       "      <td>7</td>\n",
       "      <td>7.0</td>\n",
       "      <td>15339834</td>\n",
       "      <td>4942</td>\n",
       "      <td>2</td>\n",
       "      <td>1</td>\n",
       "      <td>Vanilla Almond Breeze</td>\n",
       "      <td>91</td>\n",
       "      <td>16</td>\n",
       "    </tr>\n",
       "    <tr>\n",
       "      <th>3</th>\n",
       "      <td>790844</td>\n",
       "      <td>818353</td>\n",
       "      <td>47562</td>\n",
       "      <td>prior</td>\n",
       "      <td>47</td>\n",
       "      <td>1</td>\n",
       "      <td>7</td>\n",
       "      <td>5.0</td>\n",
       "      <td>7753212</td>\n",
       "      <td>4942</td>\n",
       "      <td>2</td>\n",
       "      <td>1</td>\n",
       "      <td>Vanilla Almond Breeze</td>\n",
       "      <td>91</td>\n",
       "      <td>16</td>\n",
       "    </tr>\n",
       "    <tr>\n",
       "      <th>4</th>\n",
       "      <td>790875</td>\n",
       "      <td>348146</td>\n",
       "      <td>47562</td>\n",
       "      <td>prior</td>\n",
       "      <td>78</td>\n",
       "      <td>2</td>\n",
       "      <td>8</td>\n",
       "      <td>5.0</td>\n",
       "      <td>3296283</td>\n",
       "      <td>4942</td>\n",
       "      <td>4</td>\n",
       "      <td>1</td>\n",
       "      <td>Vanilla Almond Breeze</td>\n",
       "      <td>91</td>\n",
       "      <td>16</td>\n",
       "    </tr>\n",
       "  </tbody>\n",
       "</table>\n",
       "</div>"
      ],
      "text/plain": [
       "   Unnamed: 0_x  order_id  user_id eval_set  order_number  order_dow  \\\n",
       "0        790838   1721924    47562    prior            41          1   \n",
       "1        790806    287115    47562    prior             9          3   \n",
       "2        790846   1618671    47562    prior            49          1   \n",
       "3        790844    818353    47562    prior            47          1   \n",
       "4        790875    348146    47562    prior            78          2   \n",
       "\n",
       "   order_hour_of_day  days_since_prior_order  Unnamed: 0_y  product_id  \\\n",
       "0                  7                     7.0      16321299        4942   \n",
       "1                 12                     2.0       2720865        4942   \n",
       "2                  7                     7.0      15339834        4942   \n",
       "3                  7                     5.0       7753212        4942   \n",
       "4                  8                     5.0       3296283        4942   \n",
       "\n",
       "   add_to_cart_order  reordered           product_name  aisle_id  \\\n",
       "0                  1          1  Vanilla Almond Breeze        91   \n",
       "1                  2          1  Vanilla Almond Breeze        91   \n",
       "2                  2          1  Vanilla Almond Breeze        91   \n",
       "3                  2          1  Vanilla Almond Breeze        91   \n",
       "4                  4          1  Vanilla Almond Breeze        91   \n",
       "\n",
       "   department_id  \n",
       "0             16  \n",
       "1             16  \n",
       "2             16  \n",
       "3             16  \n",
       "4             16  "
      ]
     },
     "execution_count": 12,
     "metadata": {},
     "output_type": "execute_result"
    }
   ],
   "source": [
    "train_orders_prod = train_orders.merge(orders_products, on=\"order_id\")\n",
    "train_orders_prod = train_orders_prod.merge(products, on=\"product_id\")\n",
    "train_orders_prod.head()"
   ]
  },
  {
   "cell_type": "code",
   "execution_count": null,
   "metadata": {},
   "outputs": [],
   "source": [
    "# NOW WE WANT TO ROLL UP BY AISLE"
   ]
  },
  {
   "cell_type": "code",
   "execution_count": null,
   "metadata": {},
   "outputs": [],
   "source": []
  },
  {
   "cell_type": "code",
   "execution_count": null,
   "metadata": {},
   "outputs": [],
   "source": []
  },
  {
   "cell_type": "code",
   "execution_count": null,
   "metadata": {},
   "outputs": [],
   "source": [
    "# NOW WE WANT TO USE PCA/REGULARISATION AND REMOVE SOME UNNEEDED INFO/AISLES"
   ]
  },
  {
   "cell_type": "code",
   "execution_count": null,
   "metadata": {},
   "outputs": [],
   "source": []
  },
  {
   "cell_type": "code",
   "execution_count": null,
   "metadata": {},
   "outputs": [],
   "source": []
  }
 ],
 "metadata": {
  "kernelspec": {
   "display_name": "Python 3",
   "language": "python",
   "name": "python3"
  },
  "language_info": {
   "codemirror_mode": {
    "name": "ipython",
    "version": 3
   },
   "file_extension": ".py",
   "mimetype": "text/x-python",
   "name": "python",
   "nbconvert_exporter": "python",
   "pygments_lexer": "ipython3",
   "version": "3.6.4"
  }
 },
 "nbformat": 4,
 "nbformat_minor": 2
}

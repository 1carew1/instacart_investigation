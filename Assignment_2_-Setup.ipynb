{
 "cells": [
  {
   "cell_type": "raw",
   "metadata": {},
   "source": [
    "%matplotlib inline "
   ]
  },
  {
   "cell_type": "markdown",
   "metadata": {},
   "source": [
    "# Assignment 2 - Instacart Analysis"
   ]
  },
  {
   "cell_type": "markdown",
   "metadata": {},
   "source": [
    "## Aim\n",
    "\n",
    "This assignment is based on the __Instacart data set__, and we want you to perform some exploratory data analysis tasks and construct a number of models:\n",
    " \n",
    "To ensure you all have a comparable but different expreience in this assignmet we will slice the Instacart based on your student ID. \n",
    "\n",
    "To reduce time when reading data, your slice will be saved in a new set of CSV files (with prefix my_). Also the size of the slice can be modified via const __MAX_USERS__ --- smaller means faster but less reliable analyis. \n",
    "\n",
    "We considered wrapping this code up in a separate script but thought that it would be useful for you to see how the slices were constucted and saved.\n",
    "\n",
    " * [The Instacart Online Grocery Shopping Dataset 2017](https://www.instacart.com/datasets/grocery-shopping-2017), <br />\n",
    "Accessed from https://www.instacart.com/datasets/grocery-shopping-2017 on February 2018.\n",
    " * For details of the columns in the CSV files see [https://gist.github.com/jeremystan/c3b39d947d9b88b3ccff3147dbcf6c6b](https://gist.github.com/jeremystan/c3b39d947d9b88b3ccff3147dbcf6c6b)"
   ]
  },
  {
   "cell_type": "code",
   "execution_count": 1,
   "metadata": {},
   "outputs": [],
   "source": [
    "# This data is used to slice the Instacart dataset and to scale the problem\n",
    "# \n",
    "# The reduced dataset files (instacart_2017_05_01/my_*.csv) need to be manually deleted whenever these values change \n",
    "# or change flag force_rebuild to True\n",
    "\n",
    "NAME = \"Colm Carew\" # Change this to your name\n",
    "ID = 20053766 # Change this to your student number\n",
    "\n",
    "# Number of customers in your slice \n",
    "# For \n",
    "MAX_USERS = 20                # Was 2, <206209\n",
    "MAX_PRODUCTS = 2000\n",
    "\n",
    "use_all = False # True\n",
    "force_rebuild = True"
   ]
  },
  {
   "cell_type": "markdown",
   "metadata": {},
   "source": [
    "## Load Libraries"
   ]
  },
  {
   "cell_type": "code",
   "execution_count": 2,
   "metadata": {
    "slideshow": {
     "slide_type": "slide"
    }
   },
   "outputs": [],
   "source": [
    "import numpy as np\n",
    "import pandas as pd\n",
    "import matplotlib.pyplot as plt\n",
    "import seaborn as sns\n",
    "sns.set_style(\"darkgrid\")\n",
    "sns.set_context(\"paper\")\n",
    "from itertools import combinations, groupby\n",
    "from collections import Counter\n",
    "import sys, os, glob\n",
    "import tarfile\n",
    "import urllib.request"
   ]
  },
  {
   "cell_type": "markdown",
   "metadata": {},
   "source": [
    "## Download the Instacart Data"
   ]
  },
  {
   "cell_type": "code",
   "execution_count": 3,
   "metadata": {},
   "outputs": [],
   "source": [
    "instacart_dir = \"instacart_2017_05_01\"\n",
    "instacart_file_name = \"instacart_online_grocery_shopping_2017_05_01.tar.gz\"\n",
    "if (not os.path.isfile(instacart_file_name)) and (not os.path.isdir(instacart_dir)) :\n",
    "    #Ask User to Download File\n",
    "    file_url = \"https://s3.amazonaws.com/instacart-datasets/instacart_online_grocery_shopping_2017_05_01.tar.gz\"\n",
    "    print(\"Please Wait until file downloads\")\n",
    "    urllib.request.urlretrieve(file_url, instacart_file_name)\n",
    "    print(instacart_file_name, \" successfully downloaded\")"
   ]
  },
  {
   "cell_type": "markdown",
   "metadata": {},
   "source": [
    "## Extract the Instacart Data"
   ]
  },
  {
   "cell_type": "code",
   "execution_count": 4,
   "metadata": {},
   "outputs": [],
   "source": [
    "if ((not os.path.isdir(instacart_dir)) and (os.path.isfile(instacart_file_name))) :\n",
    "    print(\"Please wait until\", instacart_file_name, \" is extracted\")\n",
    "    tar = tarfile.open(instacart_file_name, \"r:gz\")\n",
    "    tar.extractall()\n",
    "    tar.close()\n",
    "    print(instacart_file_name, \" has been extracted\")"
   ]
  },
  {
   "cell_type": "markdown",
   "metadata": {},
   "source": [
    "## Load Full Dataset and Slice Based on Student ID"
   ]
  },
  {
   "cell_type": "code",
   "execution_count": 5,
   "metadata": {},
   "outputs": [],
   "source": [
    "def size(obj):\n",
    "    \"\"\"Return size of object in MB\"\"\"\n",
    "    return \"{0:.2f} MB\".format(sys.getsizeof(obj) / (1000 * 1000))"
   ]
  },
  {
   "cell_type": "code",
   "execution_count": 6,
   "metadata": {
    "scrolled": true
   },
   "outputs": [
    {
     "name": "stdout",
     "output_type": "stream",
     "text": [
      "(ALL) orders -- dimensions: (3421083, 7);   size: 376.24 MB\n",
      "orders -- dimensions: (306, 8);   size: 0.04 MB\n"
     ]
    },
    {
     "data": {
      "text/html": [
       "<div>\n",
       "<style scoped>\n",
       "    .dataframe tbody tr th:only-of-type {\n",
       "        vertical-align: middle;\n",
       "    }\n",
       "\n",
       "    .dataframe tbody tr th {\n",
       "        vertical-align: top;\n",
       "    }\n",
       "\n",
       "    .dataframe thead th {\n",
       "        text-align: right;\n",
       "    }\n",
       "</style>\n",
       "<table border=\"1\" class=\"dataframe\">\n",
       "  <thead>\n",
       "    <tr style=\"text-align: right;\">\n",
       "      <th></th>\n",
       "      <th>Unnamed: 0</th>\n",
       "      <th>order_id</th>\n",
       "      <th>user_id</th>\n",
       "      <th>eval_set</th>\n",
       "      <th>order_number</th>\n",
       "      <th>order_dow</th>\n",
       "      <th>order_hour_of_day</th>\n",
       "      <th>days_since_prior_order</th>\n",
       "    </tr>\n",
       "  </thead>\n",
       "  <tbody>\n",
       "    <tr>\n",
       "      <th>0</th>\n",
       "      <td>12202</td>\n",
       "      <td>472199</td>\n",
       "      <td>765</td>\n",
       "      <td>prior</td>\n",
       "      <td>1</td>\n",
       "      <td>2</td>\n",
       "      <td>21</td>\n",
       "      <td>NaN</td>\n",
       "    </tr>\n",
       "    <tr>\n",
       "      <th>1</th>\n",
       "      <td>12203</td>\n",
       "      <td>1424394</td>\n",
       "      <td>765</td>\n",
       "      <td>prior</td>\n",
       "      <td>2</td>\n",
       "      <td>1</td>\n",
       "      <td>21</td>\n",
       "      <td>20.0</td>\n",
       "    </tr>\n",
       "    <tr>\n",
       "      <th>2</th>\n",
       "      <td>12204</td>\n",
       "      <td>889292</td>\n",
       "      <td>765</td>\n",
       "      <td>prior</td>\n",
       "      <td>3</td>\n",
       "      <td>6</td>\n",
       "      <td>21</td>\n",
       "      <td>30.0</td>\n",
       "    </tr>\n",
       "    <tr>\n",
       "      <th>3</th>\n",
       "      <td>12205</td>\n",
       "      <td>2809253</td>\n",
       "      <td>765</td>\n",
       "      <td>prior</td>\n",
       "      <td>4</td>\n",
       "      <td>3</td>\n",
       "      <td>20</td>\n",
       "      <td>30.0</td>\n",
       "    </tr>\n",
       "    <tr>\n",
       "      <th>4</th>\n",
       "      <td>12206</td>\n",
       "      <td>2392861</td>\n",
       "      <td>765</td>\n",
       "      <td>prior</td>\n",
       "      <td>5</td>\n",
       "      <td>1</td>\n",
       "      <td>12</td>\n",
       "      <td>19.0</td>\n",
       "    </tr>\n",
       "  </tbody>\n",
       "</table>\n",
       "</div>"
      ],
      "text/plain": [
       "   Unnamed: 0  order_id  user_id eval_set  order_number  order_dow  \\\n",
       "0       12202    472199      765    prior             1          2   \n",
       "1       12203   1424394      765    prior             2          1   \n",
       "2       12204    889292      765    prior             3          6   \n",
       "3       12205   2809253      765    prior             4          3   \n",
       "4       12206   2392861      765    prior             5          1   \n",
       "\n",
       "   order_hour_of_day  days_since_prior_order  \n",
       "0                 21                     NaN  \n",
       "1                 21                    20.0  \n",
       "2                 21                    30.0  \n",
       "3                 20                    30.0  \n",
       "4                 12                    19.0  "
      ]
     },
     "metadata": {},
     "output_type": "display_data"
    }
   ],
   "source": [
    "if not use_all and (not os.path.isfile(instacart_dir + \"/my_orders.csv\") or force_rebuild):\n",
    "    \n",
    "    # read in full table  \n",
    "    orders = pd.read_csv(instacart_dir + \"/orders.csv\")\n",
    "    print(\"(ALL) orders -- dimensions: {0};   size: {1}\".format(orders.shape, size(orders)))\n",
    "    \n",
    "    # take a random slice based on student ID\n",
    "    np.random.seed(ID)\n",
    "    my_users = np.random.choice(orders.user_id.unique(), size=MAX_USERS, replace=False)\n",
    "    my_orders = orders[orders.user_id.isin(my_users)]\n",
    "    \n",
    "    # save for later use (speedup loading)\n",
    "    my_orders.to_csv(instacart_dir + \"/my_orders.csv\")\n",
    "                     \n",
    "# load reduced dataset\n",
    "orders = pd.read_csv(instacart_dir + \"/%sorders.csv\" % (\"\" if use_all else \"my_\"))\n",
    "\n",
    "print(\"orders -- dimensions: {0};   size: {1}\".format(orders.shape, size(orders)))\n",
    "display(orders.head())"
   ]
  },
  {
   "cell_type": "code",
   "execution_count": 7,
   "metadata": {
    "scrolled": false
   },
   "outputs": [
    {
     "name": "stdout",
     "output_type": "stream",
     "text": [
      "(ALL) order_products_prior -- dimensions: (32434489, 4);   size: 1037.90 MB\n",
      "orders_products_prior -- dimensions: (2553, 5);   size: 0.10 MB\n"
     ]
    },
    {
     "data": {
      "text/html": [
       "<div>\n",
       "<style scoped>\n",
       "    .dataframe tbody tr th:only-of-type {\n",
       "        vertical-align: middle;\n",
       "    }\n",
       "\n",
       "    .dataframe tbody tr th {\n",
       "        vertical-align: top;\n",
       "    }\n",
       "\n",
       "    .dataframe thead th {\n",
       "        text-align: right;\n",
       "    }\n",
       "</style>\n",
       "<table border=\"1\" class=\"dataframe\">\n",
       "  <thead>\n",
       "    <tr style=\"text-align: right;\">\n",
       "      <th></th>\n",
       "      <th>Unnamed: 0</th>\n",
       "      <th>order_id</th>\n",
       "      <th>product_id</th>\n",
       "      <th>add_to_cart_order</th>\n",
       "      <th>reordered</th>\n",
       "    </tr>\n",
       "  </thead>\n",
       "  <tbody>\n",
       "    <tr>\n",
       "      <th>0</th>\n",
       "      <td>147221</td>\n",
       "      <td>15511</td>\n",
       "      <td>429</td>\n",
       "      <td>1</td>\n",
       "      <td>0</td>\n",
       "    </tr>\n",
       "    <tr>\n",
       "      <th>1</th>\n",
       "      <td>147222</td>\n",
       "      <td>15511</td>\n",
       "      <td>46397</td>\n",
       "      <td>2</td>\n",
       "      <td>0</td>\n",
       "    </tr>\n",
       "    <tr>\n",
       "      <th>2</th>\n",
       "      <td>147223</td>\n",
       "      <td>15511</td>\n",
       "      <td>27323</td>\n",
       "      <td>3</td>\n",
       "      <td>0</td>\n",
       "    </tr>\n",
       "    <tr>\n",
       "      <th>3</th>\n",
       "      <td>147224</td>\n",
       "      <td>15511</td>\n",
       "      <td>28842</td>\n",
       "      <td>4</td>\n",
       "      <td>1</td>\n",
       "    </tr>\n",
       "    <tr>\n",
       "      <th>4</th>\n",
       "      <td>147225</td>\n",
       "      <td>15511</td>\n",
       "      <td>4605</td>\n",
       "      <td>5</td>\n",
       "      <td>0</td>\n",
       "    </tr>\n",
       "  </tbody>\n",
       "</table>\n",
       "</div>"
      ],
      "text/plain": [
       "   Unnamed: 0  order_id  product_id  add_to_cart_order  reordered\n",
       "0      147221     15511         429                  1          0\n",
       "1      147222     15511       46397                  2          0\n",
       "2      147223     15511       27323                  3          0\n",
       "3      147224     15511       28842                  4          1\n",
       "4      147225     15511        4605                  5          0"
      ]
     },
     "metadata": {},
     "output_type": "display_data"
    }
   ],
   "source": [
    "if not use_all and (not os.path.isfile(instacart_dir + \"/my_order_products__prior.csv\") or force_rebuild):\n",
    "    \n",
    "    # read in full table \n",
    "    orders_products_prior = pd.read_csv(instacart_dir + \"/order_products__prior.csv\")\n",
    "    print(\"(ALL) order_products_prior -- dimensions: {0};   size: {1}\"\n",
    "        .format(orders_products_prior.shape, size(orders_products_prior)))\n",
    "\n",
    "    # take slice based on slice of orders\n",
    "    my_orders = orders.order_id.unique()\n",
    "    my_orders_products_prior = orders_products_prior[orders_products_prior.order_id.isin(my_orders)]\n",
    "    \n",
    "    # save for later use (speedup loading)\n",
    "    my_orders_products_prior.to_csv(instacart_dir + \"/my_order_products__prior.csv\")\n",
    "\n",
    "# load reduced dataset\n",
    "orders_products_prior = pd.read_csv(instacart_dir + \"/%sorder_products__prior.csv\" % (\"\" if use_all else \"my_\"))\n",
    "\n",
    "print(\"orders_products_prior -- dimensions: {0};   size: {1}\"\n",
    "    .format(orders_products_prior.shape, size(orders_products_prior)))\n",
    "display(orders_products_prior.head())"
   ]
  },
  {
   "cell_type": "code",
   "execution_count": 8,
   "metadata": {
    "scrolled": false
   },
   "outputs": [
    {
     "name": "stdout",
     "output_type": "stream",
     "text": [
      "(ALL) order_products_train -- dimensions: (1384617, 4);   size: 44.31 MB\n",
      "orders_products_train -- dimensions: (130, 5);   size: 0.01 MB\n"
     ]
    },
    {
     "data": {
      "text/html": [
       "<div>\n",
       "<style scoped>\n",
       "    .dataframe tbody tr th:only-of-type {\n",
       "        vertical-align: middle;\n",
       "    }\n",
       "\n",
       "    .dataframe tbody tr th {\n",
       "        vertical-align: top;\n",
       "    }\n",
       "\n",
       "    .dataframe thead th {\n",
       "        text-align: right;\n",
       "    }\n",
       "</style>\n",
       "<table border=\"1\" class=\"dataframe\">\n",
       "  <thead>\n",
       "    <tr style=\"text-align: right;\">\n",
       "      <th></th>\n",
       "      <th>Unnamed: 0</th>\n",
       "      <th>order_id</th>\n",
       "      <th>product_id</th>\n",
       "      <th>add_to_cart_order</th>\n",
       "      <th>reordered</th>\n",
       "    </tr>\n",
       "  </thead>\n",
       "  <tbody>\n",
       "    <tr>\n",
       "      <th>0</th>\n",
       "      <td>9224</td>\n",
       "      <td>22082</td>\n",
       "      <td>38641</td>\n",
       "      <td>1</td>\n",
       "      <td>0</td>\n",
       "    </tr>\n",
       "    <tr>\n",
       "      <th>1</th>\n",
       "      <td>9225</td>\n",
       "      <td>22082</td>\n",
       "      <td>15226</td>\n",
       "      <td>2</td>\n",
       "      <td>0</td>\n",
       "    </tr>\n",
       "    <tr>\n",
       "      <th>2</th>\n",
       "      <td>9226</td>\n",
       "      <td>22082</td>\n",
       "      <td>23543</td>\n",
       "      <td>3</td>\n",
       "      <td>1</td>\n",
       "    </tr>\n",
       "    <tr>\n",
       "      <th>3</th>\n",
       "      <td>103761</td>\n",
       "      <td>255746</td>\n",
       "      <td>28424</td>\n",
       "      <td>1</td>\n",
       "      <td>1</td>\n",
       "    </tr>\n",
       "    <tr>\n",
       "      <th>4</th>\n",
       "      <td>103762</td>\n",
       "      <td>255746</td>\n",
       "      <td>29418</td>\n",
       "      <td>2</td>\n",
       "      <td>1</td>\n",
       "    </tr>\n",
       "  </tbody>\n",
       "</table>\n",
       "</div>"
      ],
      "text/plain": [
       "   Unnamed: 0  order_id  product_id  add_to_cart_order  reordered\n",
       "0        9224     22082       38641                  1          0\n",
       "1        9225     22082       15226                  2          0\n",
       "2        9226     22082       23543                  3          1\n",
       "3      103761    255746       28424                  1          1\n",
       "4      103762    255746       29418                  2          1"
      ]
     },
     "metadata": {},
     "output_type": "display_data"
    }
   ],
   "source": [
    "if not use_all and (not os.path.isfile(instacart_dir + \"/my_order_products__train.csv\") or force_rebuild):\n",
    "    \n",
    "    # read in full table \n",
    "    orders_products_train = pd.read_csv(instacart_dir + \"/order_products__train.csv\")\n",
    "    print(\"(ALL) order_products_train -- dimensions: {0};   size: {1}\"\n",
    "        .format(orders_products_train.shape, size(orders_products_train)))\n",
    "\n",
    "    # take slice based on slice of orders\n",
    "    my_orders = orders.order_id.unique()\n",
    "    my_orders_products_train = orders_products_train[orders_products_train.order_id.isin(my_orders)]\n",
    "    \n",
    "    # save for later use (speedup loading)\n",
    "    my_orders_products_train.to_csv(instacart_dir + \"/my_order_products__train.csv\")\n",
    "\n",
    "# load reduced dataset\n",
    "orders_products_train = pd.read_csv(instacart_dir + \"/%sorder_products__train.csv\" % (\"\" if use_all else \"my_\"))\n",
    "\n",
    "print(\"orders_products_train -- dimensions: {0};   size: {1}\"\n",
    "    .format(orders_products_train.shape, size(orders_products_train)))\n",
    "display(orders_products_train.head())"
   ]
  },
  {
   "cell_type": "code",
   "execution_count": 9,
   "metadata": {
    "scrolled": false
   },
   "outputs": [
    {
     "name": "stdout",
     "output_type": "stream",
     "text": [
      "(ALL) order_products_train -- dimensions: (1384617, 4);   size: 44.31 MB\n",
      "orders_products_train -- dimensions: (130, 5);   size: 0.01 MB\n"
     ]
    },
    {
     "data": {
      "text/html": [
       "<div>\n",
       "<style scoped>\n",
       "    .dataframe tbody tr th:only-of-type {\n",
       "        vertical-align: middle;\n",
       "    }\n",
       "\n",
       "    .dataframe tbody tr th {\n",
       "        vertical-align: top;\n",
       "    }\n",
       "\n",
       "    .dataframe thead th {\n",
       "        text-align: right;\n",
       "    }\n",
       "</style>\n",
       "<table border=\"1\" class=\"dataframe\">\n",
       "  <thead>\n",
       "    <tr style=\"text-align: right;\">\n",
       "      <th></th>\n",
       "      <th>Unnamed: 0</th>\n",
       "      <th>order_id</th>\n",
       "      <th>product_id</th>\n",
       "      <th>add_to_cart_order</th>\n",
       "      <th>reordered</th>\n",
       "    </tr>\n",
       "  </thead>\n",
       "  <tbody>\n",
       "    <tr>\n",
       "      <th>0</th>\n",
       "      <td>9224</td>\n",
       "      <td>22082</td>\n",
       "      <td>38641</td>\n",
       "      <td>1</td>\n",
       "      <td>0</td>\n",
       "    </tr>\n",
       "    <tr>\n",
       "      <th>1</th>\n",
       "      <td>9225</td>\n",
       "      <td>22082</td>\n",
       "      <td>15226</td>\n",
       "      <td>2</td>\n",
       "      <td>0</td>\n",
       "    </tr>\n",
       "    <tr>\n",
       "      <th>2</th>\n",
       "      <td>9226</td>\n",
       "      <td>22082</td>\n",
       "      <td>23543</td>\n",
       "      <td>3</td>\n",
       "      <td>1</td>\n",
       "    </tr>\n",
       "    <tr>\n",
       "      <th>3</th>\n",
       "      <td>103761</td>\n",
       "      <td>255746</td>\n",
       "      <td>28424</td>\n",
       "      <td>1</td>\n",
       "      <td>1</td>\n",
       "    </tr>\n",
       "    <tr>\n",
       "      <th>4</th>\n",
       "      <td>103762</td>\n",
       "      <td>255746</td>\n",
       "      <td>29418</td>\n",
       "      <td>2</td>\n",
       "      <td>1</td>\n",
       "    </tr>\n",
       "  </tbody>\n",
       "</table>\n",
       "</div>"
      ],
      "text/plain": [
       "   Unnamed: 0  order_id  product_id  add_to_cart_order  reordered\n",
       "0        9224     22082       38641                  1          0\n",
       "1        9225     22082       15226                  2          0\n",
       "2        9226     22082       23543                  3          1\n",
       "3      103761    255746       28424                  1          1\n",
       "4      103762    255746       29418                  2          1"
      ]
     },
     "metadata": {},
     "output_type": "display_data"
    }
   ],
   "source": [
    "if not use_all and (not os.path.isfile(instacart_dir + \"/my_order_products__train.csv\") or force_rebuild):\n",
    "    \n",
    "    # read in full table \n",
    "    orders_products_train = pd.read_csv(instacart_dir + \"/order_products__train.csv\")\n",
    "    print(\"(ALL) order_products_train -- dimensions: {0};   size: {1}\"\n",
    "        .format(orders_products_train.shape, size(orders_products_train)))\n",
    "\n",
    "    # take slice based on slice of orders\n",
    "    my_orders = orders.order_id.unique()\n",
    "    my_orders_products_train = orders_products_train[orders_products_train.order_id.isin(my_orders)]\n",
    "    \n",
    "    # save for later use (speedup loading)\n",
    "    my_orders_products_train.to_csv(instacart_dir + \"/my_order_products__train.csv\")\n",
    "\n",
    "# load reduced dataset\n",
    "orders_products_train = pd.read_csv(instacart_dir + \"/%sorder_products__train.csv\" % (\"\" if use_all else \"my_\"))\n",
    "\n",
    "print(\"orders_products_train -- dimensions: {0};   size: {1}\"\n",
    "    .format(orders_products_train.shape, size(orders_products_train)))\n",
    "display(orders_products_train.head())"
   ]
  },
  {
   "cell_type": "code",
   "execution_count": 10,
   "metadata": {},
   "outputs": [
    {
     "name": "stdout",
     "output_type": "stream",
     "text": [
      "products -- dimensions: (49688, 4);   size: 5.57 MB\n"
     ]
    },
    {
     "data": {
      "text/html": [
       "<div>\n",
       "<style scoped>\n",
       "    .dataframe tbody tr th:only-of-type {\n",
       "        vertical-align: middle;\n",
       "    }\n",
       "\n",
       "    .dataframe tbody tr th {\n",
       "        vertical-align: top;\n",
       "    }\n",
       "\n",
       "    .dataframe thead th {\n",
       "        text-align: right;\n",
       "    }\n",
       "</style>\n",
       "<table border=\"1\" class=\"dataframe\">\n",
       "  <thead>\n",
       "    <tr style=\"text-align: right;\">\n",
       "      <th></th>\n",
       "      <th>product_id</th>\n",
       "      <th>product_name</th>\n",
       "      <th>aisle_id</th>\n",
       "      <th>department_id</th>\n",
       "    </tr>\n",
       "  </thead>\n",
       "  <tbody>\n",
       "    <tr>\n",
       "      <th>0</th>\n",
       "      <td>1</td>\n",
       "      <td>Chocolate Sandwich Cookies</td>\n",
       "      <td>61</td>\n",
       "      <td>19</td>\n",
       "    </tr>\n",
       "    <tr>\n",
       "      <th>1</th>\n",
       "      <td>2</td>\n",
       "      <td>All-Seasons Salt</td>\n",
       "      <td>104</td>\n",
       "      <td>13</td>\n",
       "    </tr>\n",
       "    <tr>\n",
       "      <th>2</th>\n",
       "      <td>3</td>\n",
       "      <td>Robust Golden Unsweetened Oolong Tea</td>\n",
       "      <td>94</td>\n",
       "      <td>7</td>\n",
       "    </tr>\n",
       "    <tr>\n",
       "      <th>3</th>\n",
       "      <td>4</td>\n",
       "      <td>Smart Ones Classic Favorites Mini Rigatoni Wit...</td>\n",
       "      <td>38</td>\n",
       "      <td>1</td>\n",
       "    </tr>\n",
       "    <tr>\n",
       "      <th>4</th>\n",
       "      <td>5</td>\n",
       "      <td>Green Chile Anytime Sauce</td>\n",
       "      <td>5</td>\n",
       "      <td>13</td>\n",
       "    </tr>\n",
       "  </tbody>\n",
       "</table>\n",
       "</div>"
      ],
      "text/plain": [
       "   product_id                                       product_name  aisle_id  \\\n",
       "0           1                         Chocolate Sandwich Cookies        61   \n",
       "1           2                                   All-Seasons Salt       104   \n",
       "2           3               Robust Golden Unsweetened Oolong Tea        94   \n",
       "3           4  Smart Ones Classic Favorites Mini Rigatoni Wit...        38   \n",
       "4           5                          Green Chile Anytime Sauce         5   \n",
       "\n",
       "   department_id  \n",
       "0             19  \n",
       "1             13  \n",
       "2              7  \n",
       "3              1  \n",
       "4             13  "
      ]
     },
     "metadata": {},
     "output_type": "display_data"
    }
   ],
   "source": [
    "products = pd.read_csv(instacart_dir + \"/products.csv\")\n",
    "print('products -- dimensions: {0};   size: {1}'\n",
    "    .format(products.shape, size(products)))\n",
    "display(products.head())"
   ]
  },
  {
   "cell_type": "code",
   "execution_count": 11,
   "metadata": {},
   "outputs": [
    {
     "name": "stdout",
     "output_type": "stream",
     "text": [
      "departments -- dimensions: (21, 2);   size: 0.00 MB\n"
     ]
    },
    {
     "data": {
      "text/html": [
       "<div>\n",
       "<style scoped>\n",
       "    .dataframe tbody tr th:only-of-type {\n",
       "        vertical-align: middle;\n",
       "    }\n",
       "\n",
       "    .dataframe tbody tr th {\n",
       "        vertical-align: top;\n",
       "    }\n",
       "\n",
       "    .dataframe thead th {\n",
       "        text-align: right;\n",
       "    }\n",
       "</style>\n",
       "<table border=\"1\" class=\"dataframe\">\n",
       "  <thead>\n",
       "    <tr style=\"text-align: right;\">\n",
       "      <th></th>\n",
       "      <th>department_id</th>\n",
       "      <th>department</th>\n",
       "    </tr>\n",
       "  </thead>\n",
       "  <tbody>\n",
       "    <tr>\n",
       "      <th>0</th>\n",
       "      <td>1</td>\n",
       "      <td>frozen</td>\n",
       "    </tr>\n",
       "    <tr>\n",
       "      <th>1</th>\n",
       "      <td>2</td>\n",
       "      <td>other</td>\n",
       "    </tr>\n",
       "    <tr>\n",
       "      <th>2</th>\n",
       "      <td>3</td>\n",
       "      <td>bakery</td>\n",
       "    </tr>\n",
       "    <tr>\n",
       "      <th>3</th>\n",
       "      <td>4</td>\n",
       "      <td>produce</td>\n",
       "    </tr>\n",
       "    <tr>\n",
       "      <th>4</th>\n",
       "      <td>5</td>\n",
       "      <td>alcohol</td>\n",
       "    </tr>\n",
       "  </tbody>\n",
       "</table>\n",
       "</div>"
      ],
      "text/plain": [
       "   department_id department\n",
       "0              1     frozen\n",
       "1              2      other\n",
       "2              3     bakery\n",
       "3              4    produce\n",
       "4              5    alcohol"
      ]
     },
     "metadata": {},
     "output_type": "display_data"
    }
   ],
   "source": [
    "departments = pd.read_csv(instacart_dir + \"/departments.csv\")\n",
    "print('departments -- dimensions: {0};   size: {1}'\n",
    "    .format(departments.shape, size(departments)))\n",
    "display(departments.head())"
   ]
  },
  {
   "cell_type": "code",
   "execution_count": 12,
   "metadata": {},
   "outputs": [
    {
     "name": "stdout",
     "output_type": "stream",
     "text": [
      "aisles -- dimensions: (134, 2);   size: 0.01 MB\n"
     ]
    },
    {
     "data": {
      "text/html": [
       "<div>\n",
       "<style scoped>\n",
       "    .dataframe tbody tr th:only-of-type {\n",
       "        vertical-align: middle;\n",
       "    }\n",
       "\n",
       "    .dataframe tbody tr th {\n",
       "        vertical-align: top;\n",
       "    }\n",
       "\n",
       "    .dataframe thead th {\n",
       "        text-align: right;\n",
       "    }\n",
       "</style>\n",
       "<table border=\"1\" class=\"dataframe\">\n",
       "  <thead>\n",
       "    <tr style=\"text-align: right;\">\n",
       "      <th></th>\n",
       "      <th>aisle_id</th>\n",
       "      <th>aisle</th>\n",
       "    </tr>\n",
       "  </thead>\n",
       "  <tbody>\n",
       "    <tr>\n",
       "      <th>0</th>\n",
       "      <td>1</td>\n",
       "      <td>prepared soups salads</td>\n",
       "    </tr>\n",
       "    <tr>\n",
       "      <th>1</th>\n",
       "      <td>2</td>\n",
       "      <td>specialty cheeses</td>\n",
       "    </tr>\n",
       "    <tr>\n",
       "      <th>2</th>\n",
       "      <td>3</td>\n",
       "      <td>energy granola bars</td>\n",
       "    </tr>\n",
       "    <tr>\n",
       "      <th>3</th>\n",
       "      <td>4</td>\n",
       "      <td>instant foods</td>\n",
       "    </tr>\n",
       "    <tr>\n",
       "      <th>4</th>\n",
       "      <td>5</td>\n",
       "      <td>marinades meat preparation</td>\n",
       "    </tr>\n",
       "  </tbody>\n",
       "</table>\n",
       "</div>"
      ],
      "text/plain": [
       "   aisle_id                       aisle\n",
       "0         1       prepared soups salads\n",
       "1         2           specialty cheeses\n",
       "2         3         energy granola bars\n",
       "3         4               instant foods\n",
       "4         5  marinades meat preparation"
      ]
     },
     "metadata": {},
     "output_type": "display_data"
    }
   ],
   "source": [
    "aisles = pd.read_csv(instacart_dir + \"/aisles.csv\")\n",
    "print('aisles -- dimensions: {0};   size: {1}'\n",
    "    .format(aisles.shape, size(aisles)))\n",
    "display(aisles.head())"
   ]
  },
  {
   "cell_type": "markdown",
   "metadata": {},
   "source": [
    "## Derived Dataframes"
   ]
  },
  {
   "cell_type": "code",
   "execution_count": 13,
   "metadata": {},
   "outputs": [
    {
     "name": "stdout",
     "output_type": "stream",
     "text": [
      "orders_products -- dimensions: (2683, 5);   size: 0.13 MB\n"
     ]
    }
   ],
   "source": [
    "# concatenate the _prior and _train datasets\n",
    "orders_products = pd.concat([orders_products_prior, orders_products_train])\n",
    "print(\"orders_products -- dimensions: {0};   size: {1}\"\n",
    "    .format(orders_products.shape, size(orders_products)))"
   ]
  },
  {
   "cell_type": "code",
   "execution_count": 14,
   "metadata": {},
   "outputs": [
    {
     "name": "stdout",
     "output_type": "stream",
     "text": [
      "orders_and_products -- dimensions: (2683, 12);   size: 0.42 MB\n"
     ]
    }
   ],
   "source": [
    "# expand orders dataframe to include product info \n",
    "orders_and_products = orders.merge(orders_products, on=\"order_id\")\n",
    "print(\"orders_and_products -- dimensions: {0};   size: {1}\"\n",
    "    .format(orders_and_products.shape, size(orders_and_products)))"
   ]
  },
  {
   "cell_type": "code",
   "execution_count": 15,
   "metadata": {},
   "outputs": [
    {
     "data": {
      "text/html": [
       "<div>\n",
       "<style scoped>\n",
       "    .dataframe tbody tr th:only-of-type {\n",
       "        vertical-align: middle;\n",
       "    }\n",
       "\n",
       "    .dataframe tbody tr th {\n",
       "        vertical-align: top;\n",
       "    }\n",
       "\n",
       "    .dataframe thead th {\n",
       "        text-align: right;\n",
       "    }\n",
       "</style>\n",
       "<table border=\"1\" class=\"dataframe\">\n",
       "  <thead>\n",
       "    <tr style=\"text-align: right;\">\n",
       "      <th></th>\n",
       "      <th>product_id</th>\n",
       "      <th>total_count</th>\n",
       "      <th>product_name</th>\n",
       "      <th>aisle_id</th>\n",
       "      <th>department_id</th>\n",
       "    </tr>\n",
       "  </thead>\n",
       "  <tbody>\n",
       "    <tr>\n",
       "      <th>0</th>\n",
       "      <td>40174</td>\n",
       "      <td>67</td>\n",
       "      <td>2% Reduced Fat Organic Milk</td>\n",
       "      <td>84</td>\n",
       "      <td>16</td>\n",
       "    </tr>\n",
       "    <tr>\n",
       "      <th>1</th>\n",
       "      <td>4942</td>\n",
       "      <td>53</td>\n",
       "      <td>Vanilla Almond Breeze</td>\n",
       "      <td>91</td>\n",
       "      <td>16</td>\n",
       "    </tr>\n",
       "    <tr>\n",
       "      <th>2</th>\n",
       "      <td>9387</td>\n",
       "      <td>42</td>\n",
       "      <td>Granny Smith Apples</td>\n",
       "      <td>24</td>\n",
       "      <td>4</td>\n",
       "    </tr>\n",
       "    <tr>\n",
       "      <th>3</th>\n",
       "      <td>24852</td>\n",
       "      <td>39</td>\n",
       "      <td>Banana</td>\n",
       "      <td>24</td>\n",
       "      <td>4</td>\n",
       "    </tr>\n",
       "    <tr>\n",
       "      <th>4</th>\n",
       "      <td>22124</td>\n",
       "      <td>30</td>\n",
       "      <td>Total 0% Raspberry Yogurt</td>\n",
       "      <td>120</td>\n",
       "      <td>16</td>\n",
       "    </tr>\n",
       "  </tbody>\n",
       "</table>\n",
       "</div>"
      ],
      "text/plain": [
       "   product_id  total_count                 product_name  aisle_id  \\\n",
       "0       40174           67  2% Reduced Fat Organic Milk        84   \n",
       "1        4942           53        Vanilla Almond Breeze        91   \n",
       "2        9387           42          Granny Smith Apples        24   \n",
       "3       24852           39                       Banana        24   \n",
       "4       22124           30    Total 0% Raspberry Yogurt       120   \n",
       "\n",
       "   department_id  \n",
       "0             16  \n",
       "1             16  \n",
       "2              4  \n",
       "3              4  \n",
       "4             16  "
      ]
     },
     "execution_count": 15,
     "metadata": {},
     "output_type": "execute_result"
    }
   ],
   "source": [
    "# Limit analysis to top products only\n",
    "top_products = pd.DataFrame({'total_count':orders_products.groupby(\"product_id\").size()})\\\n",
    "    .sort_values('total_count', ascending=False).reset_index()[:MAX_PRODUCTS]\n",
    "top_products = top_products.merge(products, on='product_id')\n",
    "top_products.head()"
   ]
  },
  {
   "cell_type": "code",
   "execution_count": 16,
   "metadata": {},
   "outputs": [
    {
     "name": "stdout",
     "output_type": "stream",
     "text": [
      "orders_products -- dimensions: (2683, 5);   size: 0.13 MB\n"
     ]
    }
   ],
   "source": [
    "# keep only orders with products in top_products\n",
    "orders_and_products = orders_and_products.loc[orders_and_products['product_id'].isin(top_products.product_id)]\n",
    "print(\"orders_products -- dimensions: {0};   size: {1}\"\n",
    "    .format(orders_products.shape, size(orders_products)))"
   ]
  },
  {
   "cell_type": "markdown",
   "metadata": {},
   "source": [
    "## Exploratory Data Analysis\n",
    "\n",
    "To help you get started we want you to preform a number of exploratory data analysis tasks. The tasks are intended to be roughly of the same level of difficulty but some will require input from you --- for example deciding the more suitable chart type, or cutoff points so that the more interesting detail is not lost, etc.\n",
    "\n",
    "Again the tasks selected are based on your student id that you entered above."
   ]
  },
  {
   "cell_type": "code",
   "execution_count": 17,
   "metadata": {},
   "outputs": [
    {
     "name": "stdout",
     "output_type": "stream",
     "text": [
      "List of tasks:\n",
      "\n",
      "Task  1: Number of Products by Department\n",
      "\tChart of number of products in stock by department\n",
      "Task  2: How many Orders do Customers make?\n",
      "\tChart of distribution of number of order in order history.\n",
      "Task  3: Number of Times Reordered\n",
      "\tGraph of number of products vs number of times reordered.\n",
      "Task  4: Distrbution of Orders by Hour of Day\n",
      "\tChart showing the frequency of orders by hour of day.\n",
      "Task  5: Distrbution of Top Selling Products\n",
      "\tChart dhowing the frequency of top selling products.\n",
      "Task  6: Number of Products by Aisle\n",
      "\tChart of number of products in stock by aisle\n",
      "Task  7: Which Product do People Put into the Cart First?\n",
      "\tChart of probability of product being first item placed in backset.\n",
      "Task  8: Number of Orders in Order History\n",
      "\tGraph showing the frequency of the number of previous order.\n",
      "Task  9: Distrbution of Days Since Previous Order\n",
      "\tChart showing the frequency of number of days since previous order.\n"
     ]
    }
   ],
   "source": [
    "print(\"List of tasks:\\n\")\n",
    "np.random.seed(ID)\n",
    "for k,task in enumerate(np.random.choice([\n",
    "    # orders\n",
    "    {\"brief\": \"Number of Orders in Order History\", \"description\":\"Graph showing the frequency of the number of previous order.\"},\n",
    "    {\"brief\": \"Distribution of Order Size\", \"description\":\"Chart showing the number of products frequency of number of orders in order history.\"},\n",
    "    {\"brief\": \"Distrbution of Orders by Hour of Day\", \"description\":\"Chart showing the frequency of orders by hour of day.\"},\n",
    "    {\"brief\": \"Distrbution of Orders by Hour of Day\", \"description\":\"Chart showing the frequency of orders by hour of day.\"},\n",
    "    {\"brief\": \"Distrbution of Order Size\", \"description\":\"Chart showing the frequency of number of products in orders.\"},\n",
    "    # time between orders\n",
    "    {\"brief\": \"Distrbution of Days Since Previous Order\", \"description\":\"Chart showing the frequency of number of days since previous order.\"},\n",
    "    # products sold\n",
    "    {\"brief\": \"Distrbution of Top Selling Products\", \"description\": \"Chart dhowing the frequency of top selling products.\"},\n",
    "    {\"brief\": \"How Often are Products Reorder?\", \"description\": \"Chart showing reordered/not-reordered products.\"},\n",
    "    {\"brief\": \"Most Often Reordered Products \", \"description\": \"Which products are reordered most often and which probability?\"},\n",
    "    {\"brief\": \"Number of Times Reordered\", \"description\": \"Graph of number of products vs number of times reordered.\"},\n",
    "    # customers\n",
    "    {\"brief\": \"Customer with the Most Reordering\", \"description\": \"Chart of customers by percentage of products reordered with respect to total products ordered.\"},\n",
    "    {\"brief\": \"How many Distinct Product do Customers Buy? \", \"description\": \"Chart of distribution of number of unique products in a customers history.\"},\n",
    "    {\"brief\": \"How many Orders do Customers make?\", \"description\": \"Chart of distribution of number of order in order history.\"},\n",
    "    {\"brief\": \"Customer Reorder Rate\", \"description\": \"Chart of distribution proportion of products reorder with respect to total products per customer.\"},\n",
    "\n",
    "\n",
    "    # aisles\n",
    "    {\"brief\": \"Top Selling Aisles\", \"description\": \"Chart of number of products sold by aisle\"},\n",
    "    {\"brief\": \"Number of Products by Aisle\", \"description\": \"Chart of number of products in stock by aisle\"},\n",
    "    # departments\n",
    "    {\"brief\": \"Top Selling Department\", \"description\": \"Chart of number of products sold by department\"},\n",
    "    {\"brief\": \"Number of Products by Department\", \"description\": \"Chart of number of products in stock by department\"},\n",
    "    {\"brief\": \"Department Size vs Sales\", \"description\": \"Graph showin ranking of department size (number of product) vs sales ranking\"},\n",
    "    # department and aisles\n",
    "    {\"brief\": \"How are Aisles Organized Within Departments?\", \"description\": \"Multi-chart showing distribution of products on aisles for various departments.\"},\n",
    "    {\"brief\": \"Which Product do People Put into the Cart First?\", \"description\": \"Chart of probability of product being first item placed in backset.\"}\n",
    "\n",
    "    #{\"brief\": \"\", \"description\": \"\"}\n",
    "],size=9, replace=False)):\n",
    "    print (\"Task {:2d}: {}\\n\\t{}\".format(k+1,task['brief'],task['description']))"
   ]
  },
  {
   "cell_type": "code",
   "execution_count": 18,
   "metadata": {},
   "outputs": [
    {
     "data": {
      "text/html": [
       "<div>\n",
       "<style scoped>\n",
       "    .dataframe tbody tr th:only-of-type {\n",
       "        vertical-align: middle;\n",
       "    }\n",
       "\n",
       "    .dataframe tbody tr th {\n",
       "        vertical-align: top;\n",
       "    }\n",
       "\n",
       "    .dataframe thead th {\n",
       "        text-align: right;\n",
       "    }\n",
       "</style>\n",
       "<table border=\"1\" class=\"dataframe\">\n",
       "  <thead>\n",
       "    <tr style=\"text-align: right;\">\n",
       "      <th></th>\n",
       "      <th>product_id</th>\n",
       "      <th>product_name</th>\n",
       "      <th>aisle_id</th>\n",
       "      <th>department_id</th>\n",
       "    </tr>\n",
       "  </thead>\n",
       "  <tbody>\n",
       "    <tr>\n",
       "      <th>0</th>\n",
       "      <td>1</td>\n",
       "      <td>Chocolate Sandwich Cookies</td>\n",
       "      <td>61</td>\n",
       "      <td>19</td>\n",
       "    </tr>\n",
       "    <tr>\n",
       "      <th>1</th>\n",
       "      <td>2</td>\n",
       "      <td>All-Seasons Salt</td>\n",
       "      <td>104</td>\n",
       "      <td>13</td>\n",
       "    </tr>\n",
       "    <tr>\n",
       "      <th>2</th>\n",
       "      <td>3</td>\n",
       "      <td>Robust Golden Unsweetened Oolong Tea</td>\n",
       "      <td>94</td>\n",
       "      <td>7</td>\n",
       "    </tr>\n",
       "    <tr>\n",
       "      <th>3</th>\n",
       "      <td>4</td>\n",
       "      <td>Smart Ones Classic Favorites Mini Rigatoni Wit...</td>\n",
       "      <td>38</td>\n",
       "      <td>1</td>\n",
       "    </tr>\n",
       "    <tr>\n",
       "      <th>4</th>\n",
       "      <td>5</td>\n",
       "      <td>Green Chile Anytime Sauce</td>\n",
       "      <td>5</td>\n",
       "      <td>13</td>\n",
       "    </tr>\n",
       "  </tbody>\n",
       "</table>\n",
       "</div>"
      ],
      "text/plain": [
       "   product_id                                       product_name  aisle_id  \\\n",
       "0           1                         Chocolate Sandwich Cookies        61   \n",
       "1           2                                   All-Seasons Salt       104   \n",
       "2           3               Robust Golden Unsweetened Oolong Tea        94   \n",
       "3           4  Smart Ones Classic Favorites Mini Rigatoni Wit...        38   \n",
       "4           5                          Green Chile Anytime Sauce         5   \n",
       "\n",
       "   department_id  \n",
       "0             19  \n",
       "1             13  \n",
       "2              7  \n",
       "3              1  \n",
       "4             13  "
      ]
     },
     "execution_count": 18,
     "metadata": {},
     "output_type": "execute_result"
    }
   ],
   "source": [
    "products.head()"
   ]
  },
  {
   "cell_type": "code",
   "execution_count": 19,
   "metadata": {},
   "outputs": [],
   "source": [
    "df_orders = pd.read_csv(instacart_dir + \"/orders.csv\")"
   ]
  },
  {
   "cell_type": "code",
   "execution_count": 20,
   "metadata": {},
   "outputs": [
    {
     "data": {
      "text/html": [
       "<div>\n",
       "<style scoped>\n",
       "    .dataframe tbody tr th:only-of-type {\n",
       "        vertical-align: middle;\n",
       "    }\n",
       "\n",
       "    .dataframe tbody tr th {\n",
       "        vertical-align: top;\n",
       "    }\n",
       "\n",
       "    .dataframe thead th {\n",
       "        text-align: right;\n",
       "    }\n",
       "</style>\n",
       "<table border=\"1\" class=\"dataframe\">\n",
       "  <thead>\n",
       "    <tr style=\"text-align: right;\">\n",
       "      <th></th>\n",
       "      <th>order_id</th>\n",
       "      <th>user_id</th>\n",
       "      <th>eval_set</th>\n",
       "      <th>order_number</th>\n",
       "      <th>order_dow</th>\n",
       "      <th>order_hour_of_day</th>\n",
       "      <th>days_since_prior_order</th>\n",
       "    </tr>\n",
       "  </thead>\n",
       "  <tbody>\n",
       "    <tr>\n",
       "      <th>0</th>\n",
       "      <td>2539329</td>\n",
       "      <td>1</td>\n",
       "      <td>prior</td>\n",
       "      <td>1</td>\n",
       "      <td>2</td>\n",
       "      <td>8</td>\n",
       "      <td>NaN</td>\n",
       "    </tr>\n",
       "    <tr>\n",
       "      <th>1</th>\n",
       "      <td>2398795</td>\n",
       "      <td>1</td>\n",
       "      <td>prior</td>\n",
       "      <td>2</td>\n",
       "      <td>3</td>\n",
       "      <td>7</td>\n",
       "      <td>15.0</td>\n",
       "    </tr>\n",
       "    <tr>\n",
       "      <th>2</th>\n",
       "      <td>473747</td>\n",
       "      <td>1</td>\n",
       "      <td>prior</td>\n",
       "      <td>3</td>\n",
       "      <td>3</td>\n",
       "      <td>12</td>\n",
       "      <td>21.0</td>\n",
       "    </tr>\n",
       "    <tr>\n",
       "      <th>3</th>\n",
       "      <td>2254736</td>\n",
       "      <td>1</td>\n",
       "      <td>prior</td>\n",
       "      <td>4</td>\n",
       "      <td>4</td>\n",
       "      <td>7</td>\n",
       "      <td>29.0</td>\n",
       "    </tr>\n",
       "    <tr>\n",
       "      <th>4</th>\n",
       "      <td>431534</td>\n",
       "      <td>1</td>\n",
       "      <td>prior</td>\n",
       "      <td>5</td>\n",
       "      <td>4</td>\n",
       "      <td>15</td>\n",
       "      <td>28.0</td>\n",
       "    </tr>\n",
       "  </tbody>\n",
       "</table>\n",
       "</div>"
      ],
      "text/plain": [
       "   order_id  user_id eval_set  order_number  order_dow  order_hour_of_day  \\\n",
       "0   2539329        1    prior             1          2                  8   \n",
       "1   2398795        1    prior             2          3                  7   \n",
       "2    473747        1    prior             3          3                 12   \n",
       "3   2254736        1    prior             4          4                  7   \n",
       "4    431534        1    prior             5          4                 15   \n",
       "\n",
       "   days_since_prior_order  \n",
       "0                     NaN  \n",
       "1                    15.0  \n",
       "2                    21.0  \n",
       "3                    29.0  \n",
       "4                    28.0  "
      ]
     },
     "execution_count": 20,
     "metadata": {},
     "output_type": "execute_result"
    }
   ],
   "source": [
    "df_orders.head()"
   ]
  },
  {
   "cell_type": "code",
   "execution_count": 21,
   "metadata": {},
   "outputs": [
    {
     "data": {
      "text/plain": [
       "array(['prior', 'train', 'test'], dtype=object)"
      ]
     },
     "execution_count": 21,
     "metadata": {},
     "output_type": "execute_result"
    }
   ],
   "source": [
    "df_orders.eval_set.unique()"
   ]
  },
  {
   "cell_type": "code",
   "execution_count": 22,
   "metadata": {},
   "outputs": [
    {
     "name": "stdout",
     "output_type": "stream",
     "text": [
      "Users in test set: 4.\n",
      "Users in train set: 16.\n",
      "\n",
      "Split training into 80:20 - training:validation\n",
      "\n",
      "Users in train set: 13\n",
      "Users in validation set: 3\n"
     ]
    }
   ],
   "source": [
    "# Get list of user IDs included in test set\n",
    "test_user_ids = orders[orders.eval_set == \"test\"].user_id\n",
    "# Get list of user IDs included in train set\n",
    "orig_train_user_ids = orders[orders.eval_set == \"train\"].user_id\n",
    "\n",
    "users_in_test_set = len(test_user_ids.index)\n",
    "users_in_train_set = len(orig_train_user_ids.index)\n",
    "\n",
    "print(\"Users in test set: {0}.\".format(users_in_test_set))\n",
    "print(\"Users in train set: {0}.\".format(users_in_train_set))\n",
    "\n",
    "print(\"\\nSplit training into 80:20 - training:validation\\n\")\n",
    "\n",
    "users_in_val_set = users_in_train_set // 5\n",
    "users_in_train_set = users_in_train_set - users_in_val_set\n",
    "\n",
    "print(\"Users in train set: {0}\".format(users_in_train_set))\n",
    "print(\"Users in validation set: {0}\".format(users_in_val_set))"
   ]
  },
  {
   "cell_type": "code",
   "execution_count": 23,
   "metadata": {},
   "outputs": [
    {
     "data": {
      "text/plain": [
       "0.3637086645102784"
      ]
     },
     "execution_count": 23,
     "metadata": {},
     "output_type": "execute_result"
    }
   ],
   "source": [
    "75000/(75000+131209)"
   ]
  },
  {
   "cell_type": "code",
   "execution_count": null,
   "metadata": {},
   "outputs": [],
   "source": []
  }
 ],
 "metadata": {
  "kernelspec": {
   "display_name": "Python 3",
   "language": "python",
   "name": "python3"
  },
  "language_info": {
   "codemirror_mode": {
    "name": "ipython",
    "version": 3
   },
   "file_extension": ".py",
   "mimetype": "text/x-python",
   "name": "python",
   "nbconvert_exporter": "python",
   "pygments_lexer": "ipython3",
   "version": "3.6.4"
  }
 },
 "nbformat": 4,
 "nbformat_minor": 2
}

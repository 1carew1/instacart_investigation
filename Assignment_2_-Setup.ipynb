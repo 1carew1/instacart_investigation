{
 "cells": [
  {
   "cell_type": "raw",
   "metadata": {},
   "source": [
    "%matplotlib inline "
   ]
  },
  {
   "cell_type": "markdown",
   "metadata": {},
   "source": [
    "# Assignment 2 - Instacart Analysis"
   ]
  },
  {
   "cell_type": "markdown",
   "metadata": {},
   "source": [
    "## Aim\n",
    "\n",
    "This assignment is based on the __Instacart data set__, and we want you to perform some exploratory data analysis tasks and construct a number of models:\n",
    " \n",
    "To ensure you all have a comparable but different expreience in this assignmet we will slice the Instacart based on your student ID. \n",
    "\n",
    "To reduce time when reading data, your slice will be saved in a new set of CSV files (with prefix my_). Also the size of the slice can be modified via const __MAX_USERS__ --- smaller means faster but less reliable analyis. \n",
    "\n",
    "We considered wrapping this code up in a separate script but thought that it would be useful for you to see how the slices were constucted and saved.\n",
    "\n",
    " * [The Instacart Online Grocery Shopping Dataset 2017](https://www.instacart.com/datasets/grocery-shopping-2017), <br />\n",
    "Accessed from https://www.instacart.com/datasets/grocery-shopping-2017 on February 2018.\n",
    " * For details of the columns in the CSV files see [https://gist.github.com/jeremystan/c3b39d947d9b88b3ccff3147dbcf6c6b](https://gist.github.com/jeremystan/c3b39d947d9b88b3ccff3147dbcf6c6b)"
   ]
  },
  {
   "cell_type": "code",
   "execution_count": 1,
   "metadata": {},
   "outputs": [],
   "source": [
    "# This data is used to slice the Instacart dataset and to scale the problem\n",
    "# \n",
    "# The reduced dataset files (instacart_2017_05_01/my_*.csv) need to be manually deleted whenever these values change \n",
    "# or change flag force_rebuild to True\n",
    "\n",
    "NAME = \"Colm Carew\" # Change this to your name\n",
    "ID = 20053766 # Change this to your student number\n",
    "\n",
    "# Number of customers in your slice \n",
    "# For \n",
    "MAX_USERS = 20                # Was 2, <206209\n",
    "MAX_PRODUCTS = 2000\n",
    "\n",
    "use_all = False # True\n",
    "force_rebuild = True"
   ]
  },
  {
   "cell_type": "markdown",
   "metadata": {},
   "source": [
    "## Load Libraries"
   ]
  },
  {
   "cell_type": "code",
   "execution_count": 2,
   "metadata": {
    "slideshow": {
     "slide_type": "slide"
    }
   },
   "outputs": [],
   "source": [
    "import numpy as np\n",
    "import pandas as pd\n",
    "import matplotlib.pyplot as plt\n",
    "import seaborn as sns\n",
    "sns.set_style(\"darkgrid\")\n",
    "sns.set_context(\"paper\")\n",
    "from itertools import combinations, groupby\n",
    "from collections import Counter\n",
    "import sys, os, glob\n",
    "import tarfile\n",
    "import urllib.request"
   ]
  },
  {
   "cell_type": "markdown",
   "metadata": {},
   "source": [
    "## Download the Instacart Data"
   ]
  },
  {
   "cell_type": "code",
   "execution_count": 3,
   "metadata": {},
   "outputs": [],
   "source": [
    "instacart_dir = \"instacart_2017_05_01\"\n",
    "instacart_file_name = \"instacart_online_grocery_shopping_2017_05_01.tar.gz\"\n",
    "if (not os.path.isfile(instacart_file_name)) and (not os.path.isdir(instacart_dir)) :\n",
    "    #Ask User to Download File\n",
    "    file_url = \"https://s3.amazonaws.com/instacart-datasets/instacart_online_grocery_shopping_2017_05_01.tar.gz\"\n",
    "    print(\"Please Wait until file downloads\")\n",
    "    urllib.request.urlretrieve(file_url, instacart_file_name)\n",
    "    print(instacart_file_name, \" successfully downloaded\")"
   ]
  },
  {
   "cell_type": "markdown",
   "metadata": {},
   "source": [
    "## Extract the Instacart Data"
   ]
  },
  {
   "cell_type": "code",
   "execution_count": 4,
   "metadata": {},
   "outputs": [],
   "source": [
    "if ((not os.path.isdir(instacart_dir)) and (os.path.isfile(instacart_file_name))) :\n",
    "    print(\"Please wait until\", instacart_file_name, \" is extracted\")\n",
    "    tar = tarfile.open(instacart_file_name, \"r:gz\")\n",
    "    tar.extractall()\n",
    "    tar.close()\n",
    "    print(instacart_file_name, \" has been extracted\")"
   ]
  },
  {
   "cell_type": "markdown",
   "metadata": {},
   "source": [
    "## Load Full Dataset and Slice Based on Student ID"
   ]
  },
  {
   "cell_type": "code",
   "execution_count": 5,
   "metadata": {},
   "outputs": [],
   "source": [
    "def size(obj):\n",
    "    \"\"\"Return size of object in MB\"\"\"\n",
    "    return \"{0:.2f} MB\".format(sys.getsizeof(obj) / (1000 * 1000))"
   ]
  },
  {
   "cell_type": "code",
   "execution_count": null,
   "metadata": {
    "scrolled": true
   },
   "outputs": [
    {
     "name": "stdout",
     "output_type": "stream",
     "text": [
      "(ALL) orders -- dimensions: (3421083, 7);   size: 376.24 MB\n",
      "orders -- dimensions: (306, 8);   size: 0.04 MB\n"
     ]
    },
    {
     "data": {
      "text/html": [
       "<div>\n",
       "<style scoped>\n",
       "    .dataframe tbody tr th:only-of-type {\n",
       "        vertical-align: middle;\n",
       "    }\n",
       "\n",
       "    .dataframe tbody tr th {\n",
       "        vertical-align: top;\n",
       "    }\n",
       "\n",
       "    .dataframe thead th {\n",
       "        text-align: right;\n",
       "    }\n",
       "</style>\n",
       "<table border=\"1\" class=\"dataframe\">\n",
       "  <thead>\n",
       "    <tr style=\"text-align: right;\">\n",
       "      <th></th>\n",
       "      <th>Unnamed: 0</th>\n",
       "      <th>order_id</th>\n",
       "      <th>user_id</th>\n",
       "      <th>eval_set</th>\n",
       "      <th>order_number</th>\n",
       "      <th>order_dow</th>\n",
       "      <th>order_hour_of_day</th>\n",
       "      <th>days_since_prior_order</th>\n",
       "    </tr>\n",
       "  </thead>\n",
       "  <tbody>\n",
       "    <tr>\n",
       "      <th>0</th>\n",
       "      <td>12202</td>\n",
       "      <td>472199</td>\n",
       "      <td>765</td>\n",
       "      <td>prior</td>\n",
       "      <td>1</td>\n",
       "      <td>2</td>\n",
       "      <td>21</td>\n",
       "      <td>NaN</td>\n",
       "    </tr>\n",
       "    <tr>\n",
       "      <th>1</th>\n",
       "      <td>12203</td>\n",
       "      <td>1424394</td>\n",
       "      <td>765</td>\n",
       "      <td>prior</td>\n",
       "      <td>2</td>\n",
       "      <td>1</td>\n",
       "      <td>21</td>\n",
       "      <td>20.0</td>\n",
       "    </tr>\n",
       "    <tr>\n",
       "      <th>2</th>\n",
       "      <td>12204</td>\n",
       "      <td>889292</td>\n",
       "      <td>765</td>\n",
       "      <td>prior</td>\n",
       "      <td>3</td>\n",
       "      <td>6</td>\n",
       "      <td>21</td>\n",
       "      <td>30.0</td>\n",
       "    </tr>\n",
       "    <tr>\n",
       "      <th>3</th>\n",
       "      <td>12205</td>\n",
       "      <td>2809253</td>\n",
       "      <td>765</td>\n",
       "      <td>prior</td>\n",
       "      <td>4</td>\n",
       "      <td>3</td>\n",
       "      <td>20</td>\n",
       "      <td>30.0</td>\n",
       "    </tr>\n",
       "    <tr>\n",
       "      <th>4</th>\n",
       "      <td>12206</td>\n",
       "      <td>2392861</td>\n",
       "      <td>765</td>\n",
       "      <td>prior</td>\n",
       "      <td>5</td>\n",
       "      <td>1</td>\n",
       "      <td>12</td>\n",
       "      <td>19.0</td>\n",
       "    </tr>\n",
       "  </tbody>\n",
       "</table>\n",
       "</div>"
      ],
      "text/plain": [
       "   Unnamed: 0  order_id  user_id eval_set  order_number  order_dow  \\\n",
       "0       12202    472199      765    prior             1          2   \n",
       "1       12203   1424394      765    prior             2          1   \n",
       "2       12204    889292      765    prior             3          6   \n",
       "3       12205   2809253      765    prior             4          3   \n",
       "4       12206   2392861      765    prior             5          1   \n",
       "\n",
       "   order_hour_of_day  days_since_prior_order  \n",
       "0                 21                     NaN  \n",
       "1                 21                    20.0  \n",
       "2                 21                    30.0  \n",
       "3                 20                    30.0  \n",
       "4                 12                    19.0  "
      ]
     },
     "metadata": {},
     "output_type": "display_data"
    }
   ],
   "source": [
    "if not use_all and (not os.path.isfile(instacart_dir + \"/my_orders.csv\") or force_rebuild):\n",
    "    \n",
    "    # read in full table  \n",
    "    orders = pd.read_csv(instacart_dir + \"/orders.csv\")\n",
    "    print(\"(ALL) orders -- dimensions: {0};   size: {1}\".format(orders.shape, size(orders)))\n",
    "    \n",
    "    # take a random slice based on student ID\n",
    "    np.random.seed(ID)\n",
    "    my_users = np.random.choice(orders.user_id.unique(), size=MAX_USERS, replace=False)\n",
    "    my_orders = orders[orders.user_id.isin(my_users)]\n",
    "    \n",
    "    # save for later use (speedup loading)\n",
    "    my_orders.to_csv(instacart_dir + \"/my_orders.csv\")\n",
    "                     \n",
    "# load reduced dataset\n",
    "orders = pd.read_csv(instacart_dir + \"/%sorders.csv\" % (\"\" if use_all else \"my_\"))\n",
    "\n",
    "print(\"orders -- dimensions: {0};   size: {1}\".format(orders.shape, size(orders)))\n",
    "display(orders.head())"
   ]
  },
  {
   "cell_type": "code",
   "execution_count": null,
   "metadata": {
    "scrolled": false
   },
   "outputs": [],
   "source": [
    "if not use_all and (not os.path.isfile(instacart_dir + \"/my_order_products__prior.csv\") or force_rebuild):\n",
    "    \n",
    "    # read in full table \n",
    "    orders_products_prior = pd.read_csv(instacart_dir + \"/order_products__prior.csv\")\n",
    "    print(\"(ALL) order_products_prior -- dimensions: {0};   size: {1}\"\n",
    "        .format(orders_products_prior.shape, size(orders_products_prior)))\n",
    "\n",
    "    # take slice based on slice of orders\n",
    "    my_orders = orders.order_id.unique()\n",
    "    my_orders_products_prior = orders_products_prior[orders_products_prior.order_id.isin(my_orders)]\n",
    "    \n",
    "    # save for later use (speedup loading)\n",
    "    my_orders_products_prior.to_csv(instacart_dir + \"/my_order_products__prior.csv\")\n",
    "\n",
    "# load reduced dataset\n",
    "orders_products_prior = pd.read_csv(instacart_dir + \"/%sorder_products__prior.csv\" % (\"\" if use_all else \"my_\"))\n",
    "\n",
    "print(\"orders_products_prior -- dimensions: {0};   size: {1}\"\n",
    "    .format(orders_products_prior.shape, size(orders_products_prior)))\n",
    "display(orders_products_prior.head())"
   ]
  },
  {
   "cell_type": "code",
   "execution_count": null,
   "metadata": {
    "scrolled": false
   },
   "outputs": [],
   "source": [
    "if not use_all and (not os.path.isfile(instacart_dir + \"/my_order_products__train.csv\") or force_rebuild):\n",
    "    \n",
    "    # read in full table \n",
    "    orders_products_train = pd.read_csv(instacart_dir + \"/order_products__train.csv\")\n",
    "    print(\"(ALL) order_products_train -- dimensions: {0};   size: {1}\"\n",
    "        .format(orders_products_train.shape, size(orders_products_train)))\n",
    "\n",
    "    # take slice based on slice of orders\n",
    "    my_orders = orders.order_id.unique()\n",
    "    my_orders_products_train = orders_products_train[orders_products_train.order_id.isin(my_orders)]\n",
    "    \n",
    "    # save for later use (speedup loading)\n",
    "    my_orders_products_train.to_csv(instacart_dir + \"/my_order_products__train.csv\")\n",
    "\n",
    "# load reduced dataset\n",
    "orders_products_train = pd.read_csv(instacart_dir + \"/%sorder_products__train.csv\" % (\"\" if use_all else \"my_\"))\n",
    "\n",
    "print(\"orders_products_train -- dimensions: {0};   size: {1}\"\n",
    "    .format(orders_products_train.shape, size(orders_products_train)))\n",
    "display(orders_products_train.head())"
   ]
  },
  {
   "cell_type": "code",
   "execution_count": null,
   "metadata": {
    "scrolled": false
   },
   "outputs": [],
   "source": [
    "if not use_all and (not os.path.isfile(instacart_dir + \"/my_order_products__train.csv\") or force_rebuild):\n",
    "    \n",
    "    # read in full table \n",
    "    orders_products_train = pd.read_csv(instacart_dir + \"/order_products__train.csv\")\n",
    "    print(\"(ALL) order_products_train -- dimensions: {0};   size: {1}\"\n",
    "        .format(orders_products_train.shape, size(orders_products_train)))\n",
    "\n",
    "    # take slice based on slice of orders\n",
    "    my_orders = orders.order_id.unique()\n",
    "    my_orders_products_train = orders_products_train[orders_products_train.order_id.isin(my_orders)]\n",
    "    \n",
    "    # save for later use (speedup loading)\n",
    "    my_orders_products_train.to_csv(instacart_dir + \"/my_order_products__train.csv\")\n",
    "\n",
    "# load reduced dataset\n",
    "orders_products_train = pd.read_csv(instacart_dir + \"/%sorder_products__train.csv\" % (\"\" if use_all else \"my_\"))\n",
    "\n",
    "print(\"orders_products_train -- dimensions: {0};   size: {1}\"\n",
    "    .format(orders_products_train.shape, size(orders_products_train)))\n",
    "display(orders_products_train.head())"
   ]
  },
  {
   "cell_type": "code",
   "execution_count": null,
   "metadata": {},
   "outputs": [],
   "source": [
    "products = pd.read_csv(instacart_dir + \"/products.csv\")\n",
    "print('products -- dimensions: {0};   size: {1}'\n",
    "    .format(products.shape, size(products)))\n",
    "display(products.head())"
   ]
  },
  {
   "cell_type": "code",
   "execution_count": null,
   "metadata": {},
   "outputs": [],
   "source": [
    "departments = pd.read_csv(instacart_dir + \"/departments.csv\")\n",
    "print('departments -- dimensions: {0};   size: {1}'\n",
    "    .format(departments.shape, size(departments)))\n",
    "display(departments.head())"
   ]
  },
  {
   "cell_type": "code",
   "execution_count": null,
   "metadata": {},
   "outputs": [],
   "source": [
    "aisles = pd.read_csv(instacart_dir + \"/aisles.csv\")\n",
    "print('aisles -- dimensions: {0};   size: {1}'\n",
    "    .format(aisles.shape, size(aisles)))\n",
    "display(aisles.head())"
   ]
  },
  {
   "cell_type": "markdown",
   "metadata": {},
   "source": [
    "## Derived Dataframes"
   ]
  },
  {
   "cell_type": "code",
   "execution_count": null,
   "metadata": {},
   "outputs": [],
   "source": [
    "# concatenate the _prior and _train datasets\n",
    "orders_products = pd.concat([orders_products_prior, orders_products_train])\n",
    "print(\"orders_products -- dimensions: {0};   size: {1}\"\n",
    "    .format(orders_products.shape, size(orders_products)))"
   ]
  },
  {
   "cell_type": "code",
   "execution_count": null,
   "metadata": {},
   "outputs": [],
   "source": [
    "# expand orders dataframe to include product info \n",
    "orders_and_products = orders.merge(orders_products, on=\"order_id\")\n",
    "print(\"orders_and_products -- dimensions: {0};   size: {1}\"\n",
    "    .format(orders_and_products.shape, size(orders_and_products)))"
   ]
  },
  {
   "cell_type": "code",
   "execution_count": null,
   "metadata": {},
   "outputs": [],
   "source": [
    "# Limit analysis to top products only\n",
    "top_products = pd.DataFrame({'total_count':orders_products.groupby(\"product_id\").size()})\\\n",
    "    .sort_values('total_count', ascending=False).reset_index()[:MAX_PRODUCTS]\n",
    "top_products = top_products.merge(products, on='product_id')\n",
    "top_products.head()"
   ]
  },
  {
   "cell_type": "code",
   "execution_count": null,
   "metadata": {},
   "outputs": [],
   "source": [
    "# keep only orders with products in top_products\n",
    "orders_and_products = orders_and_products.loc[orders_and_products['product_id'].isin(top_products.product_id)]\n",
    "print(\"orders_products -- dimensions: {0};   size: {1}\"\n",
    "    .format(orders_products.shape, size(orders_products)))"
   ]
  },
  {
   "cell_type": "markdown",
   "metadata": {},
   "source": [
    "## Exploratory Data Analysis\n",
    "\n",
    "To help you get started we want you to preform a number of exploratory data analysis tasks. The tasks are intended to be roughly of the same level of difficulty but some will require input from you --- for example deciding the more suitable chart type, or cutoff points so that the more interesting detail is not lost, etc.\n",
    "\n",
    "Again the tasks selected are based on your student id that you entered above."
   ]
  },
  {
   "cell_type": "code",
   "execution_count": null,
   "metadata": {},
   "outputs": [],
   "source": [
    "print(\"List of tasks:\\n\")\n",
    "np.random.seed(ID)\n",
    "for k,task in enumerate(np.random.choice([\n",
    "    # orders\n",
    "    {\"brief\": \"Number of Orders in Order History\", \"description\":\"Graph showing the frequency of the number of previous order.\"},\n",
    "    {\"brief\": \"Distribution of Order Size\", \"description\":\"Chart showing the number of products frequency of number of orders in order history.\"},\n",
    "    {\"brief\": \"Distrbution of Orders by Hour of Day\", \"description\":\"Chart showing the frequency of orders by hour of day.\"},\n",
    "    {\"brief\": \"Distrbution of Orders by Hour of Day\", \"description\":\"Chart showing the frequency of orders by hour of day.\"},\n",
    "    {\"brief\": \"Distrbution of Order Size\", \"description\":\"Chart showing the frequency of number of products in orders.\"},\n",
    "    # time between orders\n",
    "    {\"brief\": \"Distrbution of Days Since Previous Order\", \"description\":\"Chart showing the frequency of number of days since previous order.\"},\n",
    "    # products sold\n",
    "    {\"brief\": \"Distrbution of Top Selling Products\", \"description\": \"Chart dhowing the frequency of top selling products.\"},\n",
    "    {\"brief\": \"How Often are Products Reorder?\", \"description\": \"Chart showing reordered/not-reordered products.\"},\n",
    "    {\"brief\": \"Most Often Reordered Products \", \"description\": \"Which products are reordered most often and which probability?\"},\n",
    "    {\"brief\": \"Number of Times Reordered\", \"description\": \"Graph of number of products vs number of times reordered.\"},\n",
    "    # customers\n",
    "    {\"brief\": \"Customer with the Most Reordering\", \"description\": \"Chart of customers by percentage of products reordered with respect to total products ordered.\"},\n",
    "    {\"brief\": \"How many Distinct Product do Customers Buy? \", \"description\": \"Chart of distribution of number of unique products in a customers history.\"},\n",
    "    {\"brief\": \"How many Orders do Customers make?\", \"description\": \"Chart of distribution of number of order in order history.\"},\n",
    "    {\"brief\": \"Customer Reorder Rate\", \"description\": \"Chart of distribution proportion of products reorder with respect to total products per customer.\"},\n",
    "\n",
    "\n",
    "    # aisles\n",
    "    {\"brief\": \"Top Selling Aisles\", \"description\": \"Chart of number of products sold by aisle\"},\n",
    "    {\"brief\": \"Number of Products by Aisle\", \"description\": \"Chart of number of products in stock by aisle\"},\n",
    "    # departments\n",
    "    {\"brief\": \"Top Selling Department\", \"description\": \"Chart of number of products sold by department\"},\n",
    "    {\"brief\": \"Number of Products by Department\", \"description\": \"Chart of number of products in stock by department\"},\n",
    "    {\"brief\": \"Department Size vs Sales\", \"description\": \"Graph showin ranking of department size (number of product) vs sales ranking\"},\n",
    "    # department and aisles\n",
    "    {\"brief\": \"How are Aisles Organized Within Departments?\", \"description\": \"Multi-chart showing distribution of products on aisles for various departments.\"},\n",
    "    {\"brief\": \"Which Product do People Put into the Cart First?\", \"description\": \"Chart of probability of product being first item placed in backset.\"}\n",
    "\n",
    "    #{\"brief\": \"\", \"description\": \"\"}\n",
    "],size=9, replace=False)):\n",
    "    print (\"Task {:2d}: {}\\n\\t{}\".format(k+1,task['brief'],task['description']))"
   ]
  },
  {
   "cell_type": "code",
   "execution_count": null,
   "metadata": {},
   "outputs": [],
   "source": [
    "products.head()"
   ]
  },
  {
   "cell_type": "code",
   "execution_count": null,
   "metadata": {},
   "outputs": [],
   "source": [
    "df_orders = pd.read_csv(instacart_dir + \"/orders.csv\")"
   ]
  },
  {
   "cell_type": "code",
   "execution_count": null,
   "metadata": {},
   "outputs": [],
   "source": [
    "df_orders.head()"
   ]
  },
  {
   "cell_type": "code",
   "execution_count": null,
   "metadata": {},
   "outputs": [],
   "source": [
    "df_orders.eval_set.unique()"
   ]
  },
  {
   "cell_type": "code",
   "execution_count": null,
   "metadata": {},
   "outputs": [],
   "source": [
    "# Get list of user IDs included in test set\n",
    "test_user_ids = orders[orders.eval_set == \"test\"].user_id\n",
    "# Get list of user IDs included in train set\n",
    "orig_train_user_ids = orders[orders.eval_set == \"train\"].user_id\n",
    "\n",
    "users_in_test_set = len(test_user_ids.index)\n",
    "users_in_train_set = len(orig_train_user_ids.index)\n",
    "\n",
    "print(\"Users in test set: {0}.\".format(users_in_test_set))\n",
    "print(\"Users in train set: {0}.\".format(users_in_train_set))\n",
    "\n",
    "print(\"\\nSplit training into 80:20 - training:validation\\n\")\n",
    "\n",
    "users_in_val_set = users_in_train_set // 5\n",
    "users_in_train_set = users_in_train_set - users_in_val_set\n",
    "\n",
    "print(\"Users in train set: {0}\".format(users_in_train_set))\n",
    "print(\"Users in validation set: {0}\".format(users_in_val_set))"
   ]
  },
  {
   "cell_type": "code",
   "execution_count": null,
   "metadata": {},
   "outputs": [],
   "source": [
    "75000/(75000+131209)"
   ]
  },
  {
   "cell_type": "code",
   "execution_count": null,
   "metadata": {},
   "outputs": [],
   "source": []
  }
 ],
 "metadata": {
  "kernelspec": {
   "display_name": "Python 3",
   "language": "python",
   "name": "python3"
  },
  "language_info": {
   "codemirror_mode": {
    "name": "ipython",
    "version": 3
   },
   "file_extension": ".py",
   "mimetype": "text/x-python",
   "name": "python",
   "nbconvert_exporter": "python",
   "pygments_lexer": "ipython3",
   "version": "3.6.4"
  }
 },
 "nbformat": 4,
 "nbformat_minor": 2
}
